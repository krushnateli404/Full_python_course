{
 "cells": [
  {
   "cell_type": "markdown",
   "id": "902d81cb",
   "metadata": {},
   "source": [
    "#  ●\tWAP to accept a year from the user and check whether it is a leap year or not. An year is a leap year if: It is exactly divisible by 4 and at the same time notdivisible by 100 OR It is divisible by 400 \n"
   ]
  },
  {
   "cell_type": "code",
   "execution_count": 1,
   "id": "e3f0ab8c",
   "metadata": {},
   "outputs": [
    {
     "name": "stdout",
     "output_type": "stream",
     "text": [
      "Enter the years:78\n",
      "78 is not leap year\n"
     ]
    }
   ],
   "source": [
    "year = int(input(\"Enter the years:\"))\n",
    "if (year%4==0 and year%100!=0 or year%400==0 ):\n",
    "    print(f\"{year} is a leap year\")\n",
    "else:\n",
    "    print(f\"{year} is not leap year\")\n",
    "   \n"
   ]
  },
  {
   "cell_type": "markdown",
   "id": "519c348e",
   "metadata": {},
   "source": [
    "●\tYou have to develop a number guessing game. Following are the steps needed:\n",
    "●\tAt first , the program will generate a random integer secretly.\n",
    "\n",
    "●\tNow it will ask the user to guess that number .\n",
    "\n",
    "●\tIf the user guessed it correctly then the program prints “Congratulations! You guessed it right” .\n",
    "\n",
    "●\tBut if the number guessed by the user is larger than the secret number then program should print “Number too large” and , if the number guessed by the user is smaller than the secret number then the program should print “Number too small” \n",
    "\n",
    "●\tThis should continue until the user guesses the number correctly or quits .\n",
    "\n",
    "●\tIf the user wants to quit in between he will have to type 0 or negative number\n"
   ]
  },
  {
   "cell_type": "code",
   "execution_count": 2,
   "id": "dcaa39d4",
   "metadata": {},
   "outputs": [
    {
     "name": "stdout",
     "output_type": "stream",
     "text": [
      "Enter the number for the play or quit th game:0\n",
      "Quit the game..\n"
     ]
    }
   ],
   "source": [
    "import random\n",
    "\n",
    "random_num = random.randint(0,9)\n",
    "\n",
    "\n",
    "i=0\n",
    "\n",
    "while i<100:\n",
    "    num_quit = int(input(\"Enter the number for the play or quit th game:\"))\n",
    "    if(num_quit==0 or num_quit== -num_quit):\n",
    "        print(\"Quit the game..\")\n",
    "        break\n",
    "    else:\n",
    "        in_number = int(input(\"Enter the number:\"))\n",
    "        print(random_num)\n",
    "        if (random_num == in_number):\n",
    "            print(\"Congratulations...\")\n",
    "            break\n",
    "        elif (in_number>random_num):\n",
    "            print(\"Your  number is too large\")\n",
    "        elif (in_number<random_num):\n",
    "            print(\"Your number is too small\")\n",
    "    \n",
    "\n",
    "    "
   ]
  },
  {
   "cell_type": "markdown",
   "id": "00f7e647",
   "metadata": {},
   "source": [
    "●\tWrite a program to continuously accept integers from the user until the user types 0 and as soon as 0 is entered display sum of all the nos entered before 0"
   ]
  },
  {
   "cell_type": "code",
   "execution_count": null,
   "id": "4ede05a5",
   "metadata": {},
   "outputs": [
    {
     "name": "stdout",
     "output_type": "stream",
     "text": [
      "Enter the number: 0\n",
      "Enter the number: 0\n",
      "Enter the number: 7\n",
      "7\n",
      "Enter the number: 0\n",
      "Enter the number: 7788\n",
      "7788\n",
      "Enter the number: 0\n"
     ]
    }
   ],
   "source": [
    "\n",
    "i=0\n",
    "while i<100:\n",
    "    num = int(input(\"Enter the number: \"))\n",
    "    if(num>0):\n",
    "        print(num)\n",
    "        if(num==0):\n",
    "            for i in range(1,num+1):\n",
    "                sum = sum + i\n",
    "            print(sum)\n",
    "        "
   ]
  },
  {
   "cell_type": "markdown",
   "id": "9fbb1ba9",
   "metadata": {},
   "source": [
    "●\tWrite a program using a for loop to accept a string from the user and display it vertically but don’t display the vowels in it."
   ]
  },
  {
   "cell_type": "code",
   "execution_count": null,
   "id": "9ab5e4c9",
   "metadata": {},
   "outputs": [],
   "source": [
    "str1 = str(input(\"Enter the string: \"))\n",
    "i=0\n",
    "for i in range(0,len(str1)):\n",
    "    if str1[i]  in  ['a','i','o','u','e']:\n",
    "        pass\n",
    "    else:\n",
    "        print(str1[i])"
   ]
  },
  {
   "cell_type": "markdown",
   "id": "b4155f73",
   "metadata": {},
   "source": [
    "●\tWrite a program to accept an integer from the user and display the sum of all the numbers from 1 to that number."
   ]
  },
  {
   "cell_type": "code",
   "execution_count": null,
   "id": "75026970",
   "metadata": {},
   "outputs": [],
   "source": [
    "num = int(input(\"Enter the number:\"))\n",
    "i =0\n",
    "sum=0\n",
    "for i in range(1,num+1):\n",
    "    sum = sum + i\n",
    "print(sum)\n",
    "\n",
    "\n",
    "\n",
    "        \n",
    "    \n"
   ]
  },
  {
   "cell_type": "markdown",
   "id": "a970a392",
   "metadata": {},
   "source": [
    "\n",
    "● Write a program to accept an integer from the user and calculate its factorial\n"
   ]
  },
  {
   "cell_type": "code",
   "execution_count": null,
   "id": "97c33d4a",
   "metadata": {},
   "outputs": [],
   "source": [
    "num = int(input(\"Enter the number:\"))\n",
    "factorial =1\n",
    "\n",
    "\n",
    "for i in range(1,num+1):\n",
    "    if(num == 0 or num ==1):\n",
    "        print(\"1\")\n",
    "    else:\n",
    "        factorial = factorial*i\n",
    "        \n",
    "print(factorial)\n",
    "    "
   ]
  },
  {
   "cell_type": "markdown",
   "id": "874423ec",
   "metadata": {},
   "source": [
    "●\tWrite a program to print the following pattern "
   ]
  },
  {
   "cell_type": "code",
   "execution_count": null,
   "id": "7bcb7ba6",
   "metadata": {},
   "outputs": [],
   "source": [
    "in_num = int(input(\"Enter the number: \"))\n",
    "for i in range(1,in_num):\n",
    "    for j in range(1,in_num):\n",
    "        print(\"*\")"
   ]
  },
  {
   "cell_type": "code",
   "execution_count": null,
   "id": "aa60ef51",
   "metadata": {},
   "outputs": [],
   "source": [
    "in_num = int(input(\"Enter the number: \"))\n",
    "for i in range(0,in_num):\n",
    "    for j in range(i,in_num):\n",
    "            print(\"*\",end=\"\")\n",
    "    print()"
   ]
  },
  {
   "cell_type": "code",
   "execution_count": null,
   "id": "c90413b8",
   "metadata": {},
   "outputs": [],
   "source": [
    "in_num = int(input(\"Enter the number: \"))\n",
    "for i in range(0,in_num):\n",
    "    for j in range(1,i+1):\n",
    "            print(\"*\",end=\"\")\n",
    "    print()"
   ]
  }
 ],
 "metadata": {
  "kernelspec": {
   "display_name": "Python 3 (ipykernel)",
   "language": "python",
   "name": "python3"
  },
  "language_info": {
   "codemirror_mode": {
    "name": "ipython",
    "version": 3
   },
   "file_extension": ".py",
   "mimetype": "text/x-python",
   "name": "python",
   "nbconvert_exporter": "python",
   "pygments_lexer": "ipython3",
   "version": "3.10.7"
  }
 },
 "nbformat": 4,
 "nbformat_minor": 5
}
