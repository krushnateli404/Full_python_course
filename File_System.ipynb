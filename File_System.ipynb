{
 "cells": [
  {
   "cell_type": "code",
   "execution_count": 1,
   "id": "1baf7b27",
   "metadata": {},
   "outputs": [],
   "source": [
    "f = open('test.txt','w')"
   ]
  },
  {
   "cell_type": "code",
   "execution_count": 3,
   "id": "e613cf7a",
   "metadata": {},
   "outputs": [
    {
     "name": "stdout",
     "output_type": "stream",
     "text": [
      " Volume in drive C is Windows-SSD\n",
      " Volume Serial Number is 6680-0A33\n",
      "\n",
      " Directory of C:\\Users\\KRUSHNA\\OneDrive\\Desktop\\Data_science\\Full_python_course\n",
      "\n",
      "09-01-2023  17:31    <DIR>          .\n",
      "02-01-2023  21:39    <DIR>          ..\n",
      "09-01-2023  17:30    <DIR>          .ipynb_checkpoints\n",
      "20-12-2022  19:44             7,318 Assighnement_2.ipynb\n",
      "20-12-2022  19:38             3,401 Assighnment-1.ipynb\n",
      "09-01-2023  13:23            62,875 Function.ipynb\n",
      "07-01-2023  19:16               589 Function_exercise.ipynb\n",
      "09-01-2023  15:45            29,245 Generator.ipynb\n",
      "19-12-2022  16:08             6,391 if_nested_if.ipynb\n",
      "22-12-2022  21:51            17,785 LIst_RANGE_FUNCTION_WITH_FOR_LOOP.ipynb\n",
      "04-01-2023  19:31            31,402 String_list_indexing.ipynb\n",
      "09-01-2023  17:31                 0 test.txt\n",
      "06-01-2023  19:12            38,153 Tuple_ser_dict.ipynb\n",
      "20-12-2022  20:33             2,035 Untitled.ipynb\n",
      "20-12-2022  21:19               734 Untitled.zip\n",
      "20-12-2022  21:09             3,624 Untitled1.ipynb\n",
      "20-12-2022  21:17               645 Untitled2.ipynb\n",
      "09-01-2023  17:30                72 Untitled3.ipynb\n",
      "20-12-2022  19:08        67,317,917 While_loop.ipynb\n",
      "              16 File(s)     67,522,186 bytes\n",
      "               3 Dir(s)  78,118,682,624 bytes free\n"
     ]
    }
   ],
   "source": [
    "%ls "
   ]
  },
  {
   "cell_type": "code",
   "execution_count": 4,
   "id": "8101551a",
   "metadata": {},
   "outputs": [
    {
     "data": {
      "text/plain": [
       "'C:\\\\Users\\\\KRUSHNA\\\\OneDrive\\\\Desktop\\\\Data_science\\\\Full_python_course'"
      ]
     },
     "execution_count": 4,
     "metadata": {},
     "output_type": "execute_result"
    }
   ],
   "source": [
    "pwd()#private working dictinory"
   ]
  },
  {
   "cell_type": "code",
   "execution_count": 5,
   "id": "b0a7bfd9",
   "metadata": {},
   "outputs": [
    {
     "data": {
      "text/plain": [
       "58"
      ]
     },
     "execution_count": 5,
     "metadata": {},
     "output_type": "execute_result"
    }
   ],
   "source": [
    "f.write(\"I am krushna teli and i will make data scientist in future\")"
   ]
  },
  {
   "cell_type": "code",
   "execution_count": 6,
   "id": "fff252d2",
   "metadata": {},
   "outputs": [],
   "source": [
    "f.close()"
   ]
  },
  {
   "cell_type": "code",
   "execution_count": 7,
   "id": "94647c3c",
   "metadata": {},
   "outputs": [
    {
     "name": "stdout",
     "output_type": "stream",
     "text": [
      " Volume in drive C is Windows-SSD\n",
      " Volume Serial Number is 6680-0A33\n",
      "\n",
      " Directory of C:\\Users\\KRUSHNA\\OneDrive\\Desktop\\Data_science\\Full_python_course\n",
      "\n",
      "09-01-2023  17:34    <DIR>          .\n",
      "02-01-2023  21:39    <DIR>          ..\n",
      "09-01-2023  17:30    <DIR>          .ipynb_checkpoints\n",
      "20-12-2022  19:44             7,318 Assighnement_2.ipynb\n",
      "20-12-2022  19:38             3,401 Assighnment-1.ipynb\n",
      "09-01-2023  13:23            62,875 Function.ipynb\n",
      "07-01-2023  19:16               589 Function_exercise.ipynb\n",
      "09-01-2023  15:45            29,245 Generator.ipynb\n",
      "19-12-2022  16:08             6,391 if_nested_if.ipynb\n",
      "22-12-2022  21:51            17,785 LIst_RANGE_FUNCTION_WITH_FOR_LOOP.ipynb\n",
      "04-01-2023  19:31            31,402 String_list_indexing.ipynb\n",
      "09-01-2023  17:34                58 test.txt\n",
      "06-01-2023  19:12            38,153 Tuple_ser_dict.ipynb\n",
      "20-12-2022  20:33             2,035 Untitled.ipynb\n",
      "20-12-2022  21:19               734 Untitled.zip\n",
      "20-12-2022  21:09             3,624 Untitled1.ipynb\n",
      "20-12-2022  21:17               645 Untitled2.ipynb\n",
      "09-01-2023  17:34             3,501 Untitled3.ipynb\n",
      "20-12-2022  19:08        67,317,917 While_loop.ipynb\n",
      "              16 File(s)     67,525,673 bytes\n",
      "               3 Dir(s)  78,116,745,216 bytes free\n"
     ]
    }
   ],
   "source": [
    "%ls"
   ]
  },
  {
   "cell_type": "code",
   "execution_count": 8,
   "id": "a7acb558",
   "metadata": {},
   "outputs": [
    {
     "name": "stdout",
     "output_type": "stream",
     "text": [
      "Writing test2.txt\n"
     ]
    }
   ],
   "source": [
    "%%writefile test2.txt\n",
    "this is a data i would like to store in my file"
   ]
  },
  {
   "cell_type": "code",
   "execution_count": 9,
   "id": "c31733c9",
   "metadata": {},
   "outputs": [
    {
     "name": "stdout",
     "output_type": "stream",
     "text": [
      " Volume in drive C is Windows-SSD\n",
      " Volume Serial Number is 6680-0A33\n",
      "\n",
      " Directory of C:\\Users\\KRUSHNA\\OneDrive\\Desktop\\Data_science\\Full_python_course\n",
      "\n",
      "09-01-2023  17:41    <DIR>          .\n",
      "02-01-2023  21:39    <DIR>          ..\n",
      "09-01-2023  17:40    <DIR>          .ipynb_checkpoints\n",
      "20-12-2022  19:44             7,318 Assighnement_2.ipynb\n",
      "20-12-2022  19:38             3,401 Assighnment-1.ipynb\n",
      "09-01-2023  17:36             5,290 File_System.ipynb\n",
      "09-01-2023  13:23            62,875 Function.ipynb\n",
      "07-01-2023  19:16               589 Function_exercise.ipynb\n",
      "09-01-2023  15:45            29,245 Generator.ipynb\n",
      "19-12-2022  16:08             6,391 if_nested_if.ipynb\n",
      "22-12-2022  21:51            17,785 LIst_RANGE_FUNCTION_WITH_FOR_LOOP.ipynb\n",
      "04-01-2023  19:31            31,402 String_list_indexing.ipynb\n",
      "09-01-2023  17:34                58 test.txt\n",
      "09-01-2023  17:41                49 test2.txt\n",
      "06-01-2023  19:12            38,153 Tuple_ser_dict.ipynb\n",
      "20-12-2022  20:33             2,035 Untitled.ipynb\n",
      "20-12-2022  21:19               734 Untitled.zip\n",
      "20-12-2022  21:09             3,624 Untitled1.ipynb\n",
      "20-12-2022  21:17               645 Untitled2.ipynb\n",
      "20-12-2022  19:08        67,317,917 While_loop.ipynb\n",
      "              17 File(s)     67,527,511 bytes\n",
      "               3 Dir(s)  78,134,095,872 bytes free\n"
     ]
    }
   ],
   "source": [
    "%ls"
   ]
  },
  {
   "cell_type": "code",
   "execution_count": 27,
   "id": "917d1212",
   "metadata": {},
   "outputs": [],
   "source": [
    "f1 =  open('test.txt','w')"
   ]
  },
  {
   "cell_type": "code",
   "execution_count": 28,
   "id": "cf72ffb7",
   "metadata": {},
   "outputs": [
    {
     "data": {
      "text/plain": [
       "55"
      ]
     },
     "execution_count": 28,
     "metadata": {},
     "output_type": "execute_result"
    }
   ],
   "source": [
    "f1.write(\"I am krushna teli and i will be data scintist in future\")"
   ]
  },
  {
   "cell_type": "code",
   "execution_count": null,
   "id": "002f8162",
   "metadata": {},
   "outputs": [],
   "source": []
  },
  {
   "cell_type": "markdown",
   "id": "d475eaa2",
   "metadata": {},
   "source": [
    "# by default it takes read operation"
   ]
  },
  {
   "cell_type": "code",
   "execution_count": 29,
   "id": "cfe46555",
   "metadata": {},
   "outputs": [],
   "source": [
    "f1 = open('test.txt')"
   ]
  },
  {
   "cell_type": "code",
   "execution_count": 30,
   "id": "e8930f22",
   "metadata": {},
   "outputs": [
    {
     "data": {
      "text/plain": [
       "'I am krushna teli and i will be data scintist in future'"
      ]
     },
     "execution_count": 30,
     "metadata": {},
     "output_type": "execute_result"
    }
   ],
   "source": [
    "f1.read()"
   ]
  },
  {
   "cell_type": "markdown",
   "id": "ffc84b2f",
   "metadata": {},
   "source": [
    "# its read from cursor so that's why it gives blank"
   ]
  },
  {
   "cell_type": "code",
   "execution_count": 32,
   "id": "3a0bb53f",
   "metadata": {},
   "outputs": [
    {
     "data": {
      "text/plain": [
       "''"
      ]
     },
     "execution_count": 32,
     "metadata": {},
     "output_type": "execute_result"
    }
   ],
   "source": [
    "f1.read()#its read from cursor so that's why it gives blank"
   ]
  },
  {
   "cell_type": "markdown",
   "id": "be37e4fa",
   "metadata": {},
   "source": [
    "# reset cursor"
   ]
  },
  {
   "cell_type": "code",
   "execution_count": 33,
   "id": "da828815",
   "metadata": {},
   "outputs": [
    {
     "data": {
      "text/plain": [
       "5"
      ]
     },
     "execution_count": 33,
     "metadata": {},
     "output_type": "execute_result"
    }
   ],
   "source": [
    "f.seek(5)"
   ]
  },
  {
   "cell_type": "code",
   "execution_count": 34,
   "id": "a96ddcf8",
   "metadata": {},
   "outputs": [
    {
     "data": {
      "text/plain": [
       "'krushna teli and i will be data scintist in future'"
      ]
     },
     "execution_count": 34,
     "metadata": {},
     "output_type": "execute_result"
    }
   ],
   "source": [
    "f.read()"
   ]
  },
  {
   "cell_type": "code",
   "execution_count": 35,
   "id": "a317aa2d",
   "metadata": {},
   "outputs": [
    {
     "data": {
      "text/plain": [
       "0"
      ]
     },
     "execution_count": 35,
     "metadata": {},
     "output_type": "execute_result"
    }
   ],
   "source": [
    "f.seek(0)"
   ]
  },
  {
   "cell_type": "code",
   "execution_count": 36,
   "id": "30e75e63",
   "metadata": {},
   "outputs": [
    {
     "data": {
      "text/plain": [
       "'I am krushna teli and i will be data scintist in future'"
      ]
     },
     "execution_count": 36,
     "metadata": {},
     "output_type": "execute_result"
    }
   ],
   "source": [
    "f.read()"
   ]
  },
  {
   "cell_type": "markdown",
   "id": "f36f24ca",
   "metadata": {},
   "source": [
    "# it tells position of cursor"
   ]
  },
  {
   "cell_type": "code",
   "execution_count": 37,
   "id": "b16d6e8f",
   "metadata": {},
   "outputs": [
    {
     "data": {
      "text/plain": [
       "55"
      ]
     },
     "execution_count": 37,
     "metadata": {},
     "output_type": "execute_result"
    }
   ],
   "source": [
    "f.tell() "
   ]
  },
  {
   "cell_type": "code",
   "execution_count": 38,
   "id": "d21a707d",
   "metadata": {},
   "outputs": [],
   "source": [
    "f.close()"
   ]
  },
  {
   "cell_type": "code",
   "execution_count": 41,
   "id": "1f15f9de",
   "metadata": {},
   "outputs": [],
   "source": [
    "f = open('test.txt','r+')"
   ]
  },
  {
   "cell_type": "code",
   "execution_count": 42,
   "id": "0fb55527",
   "metadata": {},
   "outputs": [
    {
     "data": {
      "text/plain": [
       "'I am krushna teli and i will be data scintist in future'"
      ]
     },
     "execution_count": 42,
     "metadata": {},
     "output_type": "execute_result"
    }
   ],
   "source": [
    "f.read()"
   ]
  },
  {
   "cell_type": "code",
   "execution_count": 43,
   "id": "324761f7",
   "metadata": {},
   "outputs": [
    {
     "data": {
      "text/plain": [
       "''"
      ]
     },
     "execution_count": 43,
     "metadata": {},
     "output_type": "execute_result"
    }
   ],
   "source": [
    "f.readline()"
   ]
  },
  {
   "cell_type": "code",
   "execution_count": 44,
   "id": "9462c563",
   "metadata": {},
   "outputs": [
    {
     "data": {
      "text/plain": [
       "0"
      ]
     },
     "execution_count": 44,
     "metadata": {},
     "output_type": "execute_result"
    }
   ],
   "source": [
    "f.seek(0)"
   ]
  },
  {
   "cell_type": "code",
   "execution_count": 47,
   "id": "30254b38",
   "metadata": {},
   "outputs": [
    {
     "data": {
      "text/plain": [
       "''"
      ]
     },
     "execution_count": 47,
     "metadata": {},
     "output_type": "execute_result"
    }
   ],
   "source": [
    "f.readline()"
   ]
  },
  {
   "cell_type": "code",
   "execution_count": 52,
   "id": "b5f37154",
   "metadata": {},
   "outputs": [
    {
     "data": {
      "text/plain": [
       "0"
      ]
     },
     "execution_count": 52,
     "metadata": {},
     "output_type": "execute_result"
    }
   ],
   "source": [
    "f.seek(0)"
   ]
  },
  {
   "cell_type": "code",
   "execution_count": 53,
   "id": "cca3ec13",
   "metadata": {},
   "outputs": [
    {
     "data": {
      "text/plain": [
       "'I am krushna teli and \\\\n i will be data scintist in future  dksjddfsjdj fjjfsdlf dfjjlsjlfl;ds sdfl;djdfsdffd '"
      ]
     },
     "execution_count": 53,
     "metadata": {},
     "output_type": "execute_result"
    }
   ],
   "source": [
    "f.readline()"
   ]
  },
  {
   "cell_type": "code",
   "execution_count": 54,
   "id": "ef109cad",
   "metadata": {},
   "outputs": [
    {
     "data": {
      "text/plain": [
       "''"
      ]
     },
     "execution_count": 54,
     "metadata": {},
     "output_type": "execute_result"
    }
   ],
   "source": [
    "f.readline()"
   ]
  },
  {
   "cell_type": "code",
   "execution_count": 57,
   "id": "709086b2",
   "metadata": {},
   "outputs": [
    {
     "data": {
      "text/plain": [
       "0"
      ]
     },
     "execution_count": 57,
     "metadata": {},
     "output_type": "execute_result"
    }
   ],
   "source": [
    "f.seek(0)"
   ]
  },
  {
   "cell_type": "code",
   "execution_count": 58,
   "id": "25478866",
   "metadata": {},
   "outputs": [
    {
     "data": {
      "text/plain": [
       "'I am krushna teli and \\n'"
      ]
     },
     "execution_count": 58,
     "metadata": {},
     "output_type": "execute_result"
    }
   ],
   "source": [
    "f.readline()"
   ]
  },
  {
   "cell_type": "code",
   "execution_count": 59,
   "id": "d68a8d78",
   "metadata": {},
   "outputs": [
    {
     "data": {
      "text/plain": [
       "' i will be data scintist in future  dksjddfsjdj fjjfsdlf dfjjlsjlfl;ds sdfl;djdfsdffd '"
      ]
     },
     "execution_count": 59,
     "metadata": {},
     "output_type": "execute_result"
    }
   ],
   "source": [
    "f.readline()"
   ]
  },
  {
   "cell_type": "code",
   "execution_count": 60,
   "id": "1adbb5e8",
   "metadata": {},
   "outputs": [],
   "source": [
    "f = open('google.txt','w')"
   ]
  },
  {
   "cell_type": "code",
   "execution_count": 62,
   "id": "b399e683",
   "metadata": {},
   "outputs": [
    {
     "data": {
      "text/plain": [
       "1394"
      ]
     },
     "execution_count": 62,
     "metadata": {},
     "output_type": "execute_result"
    }
   ],
   "source": [
    "f.write(\"\"\"Data science is an interdisciplinary academic field [1] that uses statistics, scientific computing, scientific methods, processes, algorithms and systems to extract or extrapolate knowledge and insights from noisy, structured and unstructured data.[2] Data science also integrates domain knowledge from the underlying application domain (e.g., natural sciences, information technology, medicine).[3] Data science is multifaceted and can be described as a science, as a research paradigm, as a research method, as a discipline, as a workflow, and as a profession.[4]\n",
    "\n",
    "Data science is a \"concept to unify statistics, data analysis, informatics, and their related methods in order to understand and analyse actual phenomena\" with data.[5] It uses techniques and theories drawn from many fields within the context of mathematics, statistics, computer science, information science, and domain knowledge.[6] However, data science is different from computer science and information science. Turing Award winner Jim Gray imagined data science as a \"fourth paradigm\" of science (empirical, theoretical, computational, and now data-driven) and asserted that everything about science is changing because of the impact of information technology\" and the data deluge.[7][8]\n",
    "\n",
    "A data scientist is someone who creates programming code and combines it with statistical knowledge to create insights from data.[9]\"\"\")"
   ]
  },
  {
   "cell_type": "code",
   "execution_count": 64,
   "id": "091a6000",
   "metadata": {},
   "outputs": [],
   "source": [
    "f.close()"
   ]
  },
  {
   "cell_type": "code",
   "execution_count": 67,
   "id": "8313e655",
   "metadata": {},
   "outputs": [],
   "source": [
    "f = open('google.txt',\"r+\")"
   ]
  },
  {
   "cell_type": "code",
   "execution_count": 68,
   "id": "fb8d72a7",
   "metadata": {},
   "outputs": [
    {
     "data": {
      "text/plain": [
       "'Data science is an interdisciplinary academic field [1] that uses statistics, scientific computing, scientific methods, processes, algorithms and systems to extract or extrapolate knowledge and insights from noisy, structured and unstructured data.[2] Data science also integrates domain knowledge from the underlying application domain (e.g., natural sciences, information technology, medicine).[3] Data science is multifaceted and can be described as a science, as a research paradigm, as a research method, as a discipline, as a workflow, and as a profession.[4]\\n\\nData science is a \"concept to unify statistics, data analysis, informatics, and their related methods in order to understand and analyse actual phenomena\" with data.[5] It uses techniques and theories drawn from many fields within the context of mathematics, statistics, computer science, information science, and domain knowledge.[6] However, data science is different from computer science and information science. Turing Award winner Jim Gray imagined data science as a \"fourth paradigm\" of science (empirical, theoretical, computational, and now data-driven) and asserted that everything about science is changing because of the impact of information technology\" and the data deluge.[7][8]\\n\\nA data scientist is someone who creates programming code and combines it with statistical knowledge to create insights from data.[9]'"
      ]
     },
     "execution_count": 68,
     "metadata": {},
     "output_type": "execute_result"
    }
   ],
   "source": [
    "f.read()"
   ]
  },
  {
   "cell_type": "code",
   "execution_count": 70,
   "id": "391cdd02",
   "metadata": {},
   "outputs": [
    {
     "data": {
      "text/plain": [
       "0"
      ]
     },
     "execution_count": 70,
     "metadata": {},
     "output_type": "execute_result"
    }
   ],
   "source": [
    "f.seek(0)"
   ]
  },
  {
   "cell_type": "code",
   "execution_count": 71,
   "id": "cc2c17f1",
   "metadata": {},
   "outputs": [
    {
     "data": {
      "text/plain": [
       "'Data science is an interdisciplinary academic field [1] that uses statistics, scientific computing, scientific methods, processes, algorithms and systems to extract or extrapolate knowledge and insights from noisy, structured and unstructured data.[2] Data science also integrates domain knowledge from the underlying application domain (e.g., natural sciences, information technology, medicine).[3] Data science is multifaceted and can be described as a science, as a research paradigm, as a research method, as a discipline, as a workflow, and as a profession.[4]\\n'"
      ]
     },
     "execution_count": 71,
     "metadata": {},
     "output_type": "execute_result"
    }
   ],
   "source": [
    "f.readline()"
   ]
  },
  {
   "cell_type": "code",
   "execution_count": 72,
   "id": "e21186fd",
   "metadata": {},
   "outputs": [
    {
     "data": {
      "text/plain": [
       "'\\n'"
      ]
     },
     "execution_count": 72,
     "metadata": {},
     "output_type": "execute_result"
    }
   ],
   "source": [
    "f.readline()"
   ]
  },
  {
   "cell_type": "code",
   "execution_count": 73,
   "id": "6dd767de",
   "metadata": {},
   "outputs": [],
   "source": [
    "f.close()"
   ]
  },
  {
   "cell_type": "code",
   "execution_count": 76,
   "id": "869e4ab1",
   "metadata": {},
   "outputs": [
    {
     "name": "stdout",
     "output_type": "stream",
     "text": [
      "Data science is an interdisciplinary academic field [1] that uses statistics, scientific computing, scientific methods, processes, algorithms and systems to extract or extrapolate knowledge and insights from noisy, structured and unstructured data.[2] Data science also integrates domain knowledge from the underlying application domain (e.g., natural sciences, information technology, medicine).[3] Data science is multifaceted and can be described as a science, as a research paradigm, as a research method, as a discipline, as a workflow, and as a profession.[4]\n",
      " \n",
      " Data science is a \"concept to unify statistics, data analysis, informatics, and their related methods in order to understand and analyse actual phenomena\" with data.[5] It uses techniques and theories drawn from many fields within the context of mathematics, statistics, computer science, information science, and domain knowledge.[6] However, data science is different from computer science and information science. Turing Award winner Jim Gray imagined data science as a \"fourth paradigm\" of science (empirical, theoretical, computational, and now data-driven) and asserted that everything about science is changing because of the impact of information technology\" and the data deluge.[7][8]\n",
      " \n",
      " A data scientist is someone who creates programming code and combines it with statistical knowledge to create insights from data.[9] "
     ]
    }
   ],
   "source": [
    "f = open(\"google.txt\",'r+')\n",
    "for line in f:\n",
    "    print(line,end = \" \")"
   ]
  },
  {
   "cell_type": "code",
   "execution_count": 77,
   "id": "6cec40c5",
   "metadata": {},
   "outputs": [
    {
     "data": {
      "text/plain": [
       "43"
      ]
     },
     "execution_count": 77,
     "metadata": {},
     "output_type": "execute_result"
    }
   ],
   "source": [
    "f.write(\"dsjdcc cdsnf dsjfdn fjkfdjskv sdbhc dkjfdv \")"
   ]
  },
  {
   "cell_type": "code",
   "execution_count": 79,
   "id": "335d88e2",
   "metadata": {},
   "outputs": [],
   "source": [
    "f.close()"
   ]
  },
  {
   "cell_type": "code",
   "execution_count": 80,
   "id": "45b2b980",
   "metadata": {},
   "outputs": [],
   "source": [
    "f = open('google.txt',\"r+\")"
   ]
  },
  {
   "cell_type": "code",
   "execution_count": 81,
   "id": "faa28f5a",
   "metadata": {},
   "outputs": [
    {
     "data": {
      "text/plain": [
       "5"
      ]
     },
     "execution_count": 81,
     "metadata": {},
     "output_type": "execute_result"
    }
   ],
   "source": [
    "f.seek(5)"
   ]
  },
  {
   "cell_type": "code",
   "execution_count": 82,
   "id": "232c833d",
   "metadata": {},
   "outputs": [
    {
     "data": {
      "text/plain": [
       "41"
      ]
     },
     "execution_count": 82,
     "metadata": {},
     "output_type": "execute_result"
    }
   ],
   "source": [
    "f.write(\"This is my file write up at the location \")"
   ]
  },
  {
   "cell_type": "code",
   "execution_count": 83,
   "id": "1964a2d8",
   "metadata": {},
   "outputs": [],
   "source": [
    "f.close()"
   ]
  },
  {
   "cell_type": "code",
   "execution_count": 96,
   "id": "7c0d43f8",
   "metadata": {},
   "outputs": [],
   "source": [
    "f = open('google.txt',\"r+\")"
   ]
  },
  {
   "cell_type": "code",
   "execution_count": 97,
   "id": "6290ed30",
   "metadata": {},
   "outputs": [
    {
     "data": {
      "text/plain": [
       "['Data This is my file write up at the location field [1] that uses statistics, scientific computing, scientific methods, processes, algorithms and systems to extract or extrapolate knowledge and insights from noisy, structured and unstructured data.[2] Data science also integrates domain knowledge from the underlying application domain (e.g., natural sciences, information technology, medicine).[3] Data science is multifaceted and can be described as a science, as a research paradigm, as a research method, as a discipline, as a workflow, and as a profession.[4]\\n',\n",
       " '\\n',\n",
       " 'Data science is a \"concept to unify statistics, data analysis, informatics, and their related methods in order to understand and analyse actual phenomena\" with data.[5] It uses techniques and theories drawn from many fields within the context of mathematics, statistics, computer science, information science, and domain knowledge.[6] However, data science is different from computer science and information science. Turing Award winner Jim Gray imagined data science as a \"fourth paradigm\" of science (empirical, theoretical, computational, and now data-driven) and asserted that everything about science is changing because of the impact of information technology\" and the data deluge.[7][8]\\n',\n",
       " '\\n',\n",
       " 'A data scientist is someone who creates programming code and combines it with statistical knowledge to create insights from data.[9]dsjdcc cdsnf dsjfdn fjkfdjskv sdbhc dkjfdv ']"
      ]
     },
     "execution_count": 97,
     "metadata": {},
     "output_type": "execute_result"
    }
   ],
   "source": [
    "f.readlines()"
   ]
  },
  {
   "cell_type": "code",
   "execution_count": 102,
   "id": "6051c9c3",
   "metadata": {},
   "outputs": [
    {
     "data": {
      "text/plain": [
       "0"
      ]
     },
     "execution_count": 102,
     "metadata": {},
     "output_type": "execute_result"
    }
   ],
   "source": [
    "f.seek(0)"
   ]
  },
  {
   "cell_type": "code",
   "execution_count": 99,
   "id": "7cceaa07",
   "metadata": {},
   "outputs": [
    {
     "data": {
      "text/plain": [
       "5"
      ]
     },
     "execution_count": 99,
     "metadata": {},
     "output_type": "execute_result"
    }
   ],
   "source": [
    "len(f.readlines())"
   ]
  },
  {
   "cell_type": "code",
   "execution_count": 104,
   "id": "9c608058",
   "metadata": {},
   "outputs": [],
   "source": [
    "l  = f.readlines()"
   ]
  },
  {
   "cell_type": "code",
   "execution_count": 105,
   "id": "bbaafecf",
   "metadata": {},
   "outputs": [
    {
     "data": {
      "text/plain": [
       "['Data This is my file write up at the location field [1] that uses statistics, scientific computing, scientific methods, processes, algorithms and systems to extract or extrapolate knowledge and insights from noisy, structured and unstructured data.[2] Data science also integrates domain knowledge from the underlying application domain (e.g., natural sciences, information technology, medicine).[3] Data science is multifaceted and can be described as a science, as a research paradigm, as a research method, as a discipline, as a workflow, and as a profession.[4]\\n',\n",
       " '\\n',\n",
       " 'Data science is a \"concept to unify statistics, data analysis, informatics, and their related methods in order to understand and analyse actual phenomena\" with data.[5] It uses techniques and theories drawn from many fields within the context of mathematics, statistics, computer science, information science, and domain knowledge.[6] However, data science is different from computer science and information science. Turing Award winner Jim Gray imagined data science as a \"fourth paradigm\" of science (empirical, theoretical, computational, and now data-driven) and asserted that everything about science is changing because of the impact of information technology\" and the data deluge.[7][8]\\n',\n",
       " '\\n',\n",
       " 'A data scientist is someone who creates programming code and combines it with statistical knowledge to create insights from data.[9]dsjdcc cdsnf dsjfdn fjkfdjskv sdbhc dkjfdv ']"
      ]
     },
     "execution_count": 105,
     "metadata": {},
     "output_type": "execute_result"
    }
   ],
   "source": [
    "l"
   ]
  },
  {
   "cell_type": "code",
   "execution_count": 106,
   "id": "65854710",
   "metadata": {},
   "outputs": [
    {
     "data": {
      "text/plain": [
       "'Data This is my file write up at the location field [1] that uses statistics, scientific computing, scientific methods, processes, algorithms and systems to extract or extrapolate knowledge and insights from noisy, structured and unstructured data.[2] Data science also integrates domain knowledge from the underlying application domain (e.g., natural sciences, information technology, medicine).[3] Data science is multifaceted and can be described as a science, as a research paradigm, as a research method, as a discipline, as a workflow, and as a profession.[4]\\n'"
      ]
     },
     "execution_count": 106,
     "metadata": {},
     "output_type": "execute_result"
    }
   ],
   "source": [
    "l[0]"
   ]
  },
  {
   "cell_type": "code",
   "execution_count": 109,
   "id": "17b72f1e",
   "metadata": {},
   "outputs": [],
   "source": [
    "l1 = l[0].split()"
   ]
  },
  {
   "cell_type": "code",
   "execution_count": 113,
   "id": "515ee00f",
   "metadata": {},
   "outputs": [
    {
     "data": {
      "text/plain": [
       "['Data',\n",
       " 'This',\n",
       " 'is',\n",
       " 'my',\n",
       " 'file',\n",
       " 'write',\n",
       " 'up',\n",
       " 'at',\n",
       " 'the',\n",
       " 'location',\n",
       " 'field',\n",
       " '[1]',\n",
       " 'that',\n",
       " 'uses',\n",
       " 'statistics,',\n",
       " 'scientific',\n",
       " 'computing,',\n",
       " 'scientific',\n",
       " 'methods,',\n",
       " 'processes,',\n",
       " 'algorithms',\n",
       " 'and',\n",
       " 'systems',\n",
       " 'to',\n",
       " 'extract',\n",
       " 'or',\n",
       " 'extrapolate',\n",
       " 'knowledge',\n",
       " 'and',\n",
       " 'insights',\n",
       " 'from',\n",
       " 'noisy,',\n",
       " 'structured',\n",
       " 'and',\n",
       " 'unstructured',\n",
       " 'data.[2]',\n",
       " 'Data',\n",
       " 'science',\n",
       " 'also',\n",
       " 'integrates',\n",
       " 'domain',\n",
       " 'knowledge',\n",
       " 'from',\n",
       " 'the',\n",
       " 'underlying',\n",
       " 'application',\n",
       " 'domain',\n",
       " '(e.g.,',\n",
       " 'natural',\n",
       " 'sciences,',\n",
       " 'information',\n",
       " 'technology,',\n",
       " 'medicine).[3]',\n",
       " 'Data',\n",
       " 'science',\n",
       " 'is',\n",
       " 'multifaceted',\n",
       " 'and',\n",
       " 'can',\n",
       " 'be',\n",
       " 'described',\n",
       " 'as',\n",
       " 'a',\n",
       " 'science,',\n",
       " 'as',\n",
       " 'a',\n",
       " 'research',\n",
       " 'paradigm,',\n",
       " 'as',\n",
       " 'a',\n",
       " 'research',\n",
       " 'method,',\n",
       " 'as',\n",
       " 'a',\n",
       " 'discipline,',\n",
       " 'as',\n",
       " 'a',\n",
       " 'workflow,',\n",
       " 'and',\n",
       " 'as',\n",
       " 'a',\n",
       " 'profession.[4]']"
      ]
     },
     "execution_count": 113,
     "metadata": {},
     "output_type": "execute_result"
    }
   ],
   "source": [
    "l1"
   ]
  },
  {
   "cell_type": "code",
   "execution_count": 120,
   "id": "b6c91ef5",
   "metadata": {},
   "outputs": [],
   "source": [
    "l2 = []\n",
    "for i in l[0].split():\n",
    "    l2.append(i[0])\n",
    "    "
   ]
  },
  {
   "cell_type": "code",
   "execution_count": 121,
   "id": "6a45f817",
   "metadata": {},
   "outputs": [
    {
     "data": {
      "text/plain": [
       "['D',\n",
       " 'T',\n",
       " 'i',\n",
       " 'm',\n",
       " 'f',\n",
       " 'w',\n",
       " 'u',\n",
       " 'a',\n",
       " 't',\n",
       " 'l',\n",
       " 'f',\n",
       " '[',\n",
       " 't',\n",
       " 'u',\n",
       " 's',\n",
       " 's',\n",
       " 'c',\n",
       " 's',\n",
       " 'm',\n",
       " 'p',\n",
       " 'a',\n",
       " 'a',\n",
       " 's',\n",
       " 't',\n",
       " 'e',\n",
       " 'o',\n",
       " 'e',\n",
       " 'k',\n",
       " 'a',\n",
       " 'i',\n",
       " 'f',\n",
       " 'n',\n",
       " 's',\n",
       " 'a',\n",
       " 'u',\n",
       " 'd',\n",
       " 'D',\n",
       " 's',\n",
       " 'a',\n",
       " 'i',\n",
       " 'd',\n",
       " 'k',\n",
       " 'f',\n",
       " 't',\n",
       " 'u',\n",
       " 'a',\n",
       " 'd',\n",
       " '(',\n",
       " 'n',\n",
       " 's',\n",
       " 'i',\n",
       " 't',\n",
       " 'm',\n",
       " 'D',\n",
       " 's',\n",
       " 'i',\n",
       " 'm',\n",
       " 'a',\n",
       " 'c',\n",
       " 'b',\n",
       " 'd',\n",
       " 'a',\n",
       " 'a',\n",
       " 's',\n",
       " 'a',\n",
       " 'a',\n",
       " 'r',\n",
       " 'p',\n",
       " 'a',\n",
       " 'a',\n",
       " 'r',\n",
       " 'm',\n",
       " 'a',\n",
       " 'a',\n",
       " 'd',\n",
       " 'a',\n",
       " 'a',\n",
       " 'w',\n",
       " 'a',\n",
       " 'a',\n",
       " 'a',\n",
       " 'p']"
      ]
     },
     "execution_count": 121,
     "metadata": {},
     "output_type": "execute_result"
    }
   ],
   "source": [
    "l2"
   ]
  },
  {
   "cell_type": "code",
   "execution_count": 3,
   "id": "9d3d480b",
   "metadata": {},
   "outputs": [],
   "source": [
    "f = open('test3.txt','r+')"
   ]
  },
  {
   "cell_type": "code",
   "execution_count": 4,
   "id": "272510e8",
   "metadata": {},
   "outputs": [],
   "source": [
    "l = ['This is my first line','This is my second line','This is my third line','This is my fourth line']"
   ]
  },
  {
   "cell_type": "code",
   "execution_count": 5,
   "id": "368ff770",
   "metadata": {},
   "outputs": [
    {
     "data": {
      "text/plain": [
       "28"
      ]
     },
     "execution_count": 5,
     "metadata": {},
     "output_type": "execute_result"
    }
   ],
   "source": [
    "f.write(\" I can write lines at cursor\")"
   ]
  },
  {
   "cell_type": "code",
   "execution_count": 6,
   "id": "299ad3b0",
   "metadata": {},
   "outputs": [],
   "source": [
    "f.writelines(l)"
   ]
  },
  {
   "cell_type": "code",
   "execution_count": 7,
   "id": "e6cc3a36",
   "metadata": {},
   "outputs": [],
   "source": [
    "f.close()"
   ]
  },
  {
   "cell_type": "code",
   "execution_count": 8,
   "id": "58e6c6e1",
   "metadata": {},
   "outputs": [
    {
     "name": "stdout",
     "output_type": "stream",
     "text": [
      " Volume in drive C is Windows-SSD\n",
      " Volume Serial Number is 6680-0A33\n",
      "\n",
      " Directory of C:\\Users\\KRUSHNA\\OneDrive\\Desktop\\Data_science\\Full_python_course\n",
      "\n",
      "10-01-2023  11:22    <DIR>          .\n",
      "02-01-2023  21:39    <DIR>          ..\n",
      "09-01-2023  17:40    <DIR>          .ipynb_checkpoints\n",
      "20-12-2022  19:44             7,318 Assighnement_2.ipynb\n",
      "20-12-2022  19:38             3,401 Assighnment-1.ipynb\n",
      "10-01-2023  11:22            34,941 File_System.ipynb\n",
      "09-01-2023  13:23            62,875 Function.ipynb\n",
      "07-01-2023  19:16               589 Function_exercise.ipynb\n",
      "09-01-2023  15:45            29,245 Generator.ipynb\n",
      "09-01-2023  18:30             1,441 google.txt\n",
      "19-12-2022  16:08             6,391 if_nested_if.ipynb\n",
      "22-12-2022  21:51            17,785 LIst_RANGE_FUNCTION_WITH_FOR_LOOP.ipynb\n",
      "04-01-2023  19:31            31,402 String_list_indexing.ipynb\n",
      "09-01-2023  18:10               110 test.txt\n",
      "09-01-2023  17:41                49 test2.txt\n",
      "10-01-2023  11:22               114 test3.txt\n",
      "06-01-2023  19:12            38,153 Tuple_ser_dict.ipynb\n",
      "20-12-2022  20:33             2,035 Untitled.ipynb\n",
      "20-12-2022  21:19               734 Untitled.zip\n",
      "20-12-2022  21:09             3,624 Untitled1.ipynb\n",
      "20-12-2022  21:17               645 Untitled2.ipynb\n",
      "20-12-2022  19:08        67,317,917 While_loop.ipynb\n",
      "              19 File(s)     67,558,769 bytes\n",
      "               3 Dir(s)  77,268,377,600 bytes free\n"
     ]
    }
   ],
   "source": [
    "%ls"
   ]
  },
  {
   "cell_type": "code",
   "execution_count": 9,
   "id": "6657b1cf",
   "metadata": {},
   "outputs": [
    {
     "data": {
      "text/plain": [
       "4"
      ]
     },
     "execution_count": 9,
     "metadata": {},
     "output_type": "execute_result"
    }
   ],
   "source": [
    "f = open(\"google.txt\",'r+')\n",
    "f.fileno()"
   ]
  },
  {
   "cell_type": "code",
   "execution_count": 10,
   "id": "873f22bb",
   "metadata": {},
   "outputs": [
    {
     "name": "stdout",
     "output_type": "stream",
     "text": [
      " Volume in drive C is Windows-SSD\n",
      " Volume Serial Number is 6680-0A33\n",
      "\n",
      " Directory of C:\\Users\\KRUSHNA\\OneDrive\\Desktop\\Data_science\\Full_python_course\n",
      "\n",
      "10-01-2023  11:24    <DIR>          .\n",
      "02-01-2023  21:39    <DIR>          ..\n",
      "09-01-2023  17:40    <DIR>          .ipynb_checkpoints\n",
      "20-12-2022  19:44             7,318 Assighnement_2.ipynb\n",
      "20-12-2022  19:38             3,401 Assighnment-1.ipynb\n",
      "10-01-2023  11:24            37,413 File_System.ipynb\n",
      "09-01-2023  13:23            62,875 Function.ipynb\n",
      "07-01-2023  19:16               589 Function_exercise.ipynb\n",
      "09-01-2023  15:45            29,245 Generator.ipynb\n",
      "09-01-2023  18:30             1,441 google.txt\n",
      "19-12-2022  16:08             6,391 if_nested_if.ipynb\n",
      "22-12-2022  21:51            17,785 LIst_RANGE_FUNCTION_WITH_FOR_LOOP.ipynb\n",
      "04-01-2023  19:31            31,402 String_list_indexing.ipynb\n",
      "09-01-2023  18:10               110 test.txt\n",
      "09-01-2023  17:41                49 test2.txt\n",
      "10-01-2023  11:22               114 test3.txt\n",
      "06-01-2023  19:12            38,153 Tuple_ser_dict.ipynb\n",
      "20-12-2022  20:33             2,035 Untitled.ipynb\n",
      "20-12-2022  21:19               734 Untitled.zip\n",
      "20-12-2022  21:09             3,624 Untitled1.ipynb\n",
      "20-12-2022  21:17               645 Untitled2.ipynb\n",
      "20-12-2022  19:08        67,317,917 While_loop.ipynb\n",
      "              19 File(s)     67,561,241 bytes\n",
      "               3 Dir(s)  76,989,456,384 bytes free\n"
     ]
    }
   ],
   "source": [
    "%ls"
   ]
  },
  {
   "cell_type": "code",
   "execution_count": 11,
   "id": "d9a3a01a",
   "metadata": {},
   "outputs": [],
   "source": [
    "import os"
   ]
  },
  {
   "cell_type": "code",
   "execution_count": 12,
   "id": "33ef64e7",
   "metadata": {},
   "outputs": [],
   "source": [
    "os.remove(\"test3.txt\")"
   ]
  },
  {
   "cell_type": "code",
   "execution_count": 13,
   "id": "2f76c6b0",
   "metadata": {},
   "outputs": [
    {
     "name": "stdout",
     "output_type": "stream",
     "text": [
      " Volume in drive C is Windows-SSD\n",
      " Volume Serial Number is 6680-0A33\n",
      "\n",
      " Directory of C:\\Users\\KRUSHNA\\OneDrive\\Desktop\\Data_science\\Full_python_course\n",
      "\n",
      "10-01-2023  11:28    <DIR>          .\n",
      "02-01-2023  21:39    <DIR>          ..\n",
      "09-01-2023  17:40    <DIR>          .ipynb_checkpoints\n",
      "20-12-2022  19:44             7,318 Assighnement_2.ipynb\n",
      "20-12-2022  19:38             3,401 Assighnment-1.ipynb\n",
      "10-01-2023  11:28            39,698 File_System.ipynb\n",
      "09-01-2023  13:23            62,875 Function.ipynb\n",
      "07-01-2023  19:16               589 Function_exercise.ipynb\n",
      "09-01-2023  15:45            29,245 Generator.ipynb\n",
      "09-01-2023  18:30             1,441 google.txt\n",
      "19-12-2022  16:08             6,391 if_nested_if.ipynb\n",
      "22-12-2022  21:51            17,785 LIst_RANGE_FUNCTION_WITH_FOR_LOOP.ipynb\n",
      "04-01-2023  19:31            31,402 String_list_indexing.ipynb\n",
      "09-01-2023  18:10               110 test.txt\n",
      "09-01-2023  17:41                49 test2.txt\n",
      "06-01-2023  19:12            38,153 Tuple_ser_dict.ipynb\n",
      "20-12-2022  20:33             2,035 Untitled.ipynb\n",
      "20-12-2022  21:19               734 Untitled.zip\n",
      "20-12-2022  21:09             3,624 Untitled1.ipynb\n",
      "20-12-2022  21:17               645 Untitled2.ipynb\n",
      "20-12-2022  19:08        67,317,917 While_loop.ipynb\n",
      "              18 File(s)     67,563,412 bytes\n",
      "               3 Dir(s)  76,867,817,472 bytes free\n"
     ]
    }
   ],
   "source": [
    "%ls"
   ]
  },
  {
   "cell_type": "code",
   "execution_count": 14,
   "id": "91e96a5f",
   "metadata": {},
   "outputs": [
    {
     "data": {
      "text/plain": [
       "'C:\\\\Users\\\\KRUSHNA\\\\OneDrive\\\\Desktop\\\\Data_science\\\\Full_python_course'"
      ]
     },
     "execution_count": 14,
     "metadata": {},
     "output_type": "execute_result"
    }
   ],
   "source": [
    "os.getcwd()"
   ]
  },
  {
   "cell_type": "code",
   "execution_count": 15,
   "id": "aa2dbd14",
   "metadata": {},
   "outputs": [
    {
     "data": {
      "text/plain": [
       "'C:\\\\Users\\\\KRUSHNA\\\\OneDrive\\\\Desktop\\\\Data_science\\\\Full_python_course'"
      ]
     },
     "execution_count": 15,
     "metadata": {},
     "output_type": "execute_result"
    }
   ],
   "source": [
    "pwd()"
   ]
  },
  {
   "cell_type": "code",
   "execution_count": null,
   "id": "f454f29e",
   "metadata": {},
   "outputs": [],
   "source": []
  },
  {
   "cell_type": "code",
   "execution_count": 16,
   "id": "cf742b90",
   "metadata": {},
   "outputs": [
    {
     "data": {
      "text/plain": [
       "['.ipynb_checkpoints',\n",
       " 'Assighnement_2.ipynb',\n",
       " 'Assighnment-1.ipynb',\n",
       " 'File_System.ipynb',\n",
       " 'Function.ipynb',\n",
       " 'Function_exercise.ipynb',\n",
       " 'Generator.ipynb',\n",
       " 'google.txt',\n",
       " 'if_nested_if.ipynb',\n",
       " 'LIst_RANGE_FUNCTION_WITH_FOR_LOOP.ipynb',\n",
       " 'String_list_indexing.ipynb',\n",
       " 'test.txt',\n",
       " 'test2.txt',\n",
       " 'Tuple_ser_dict.ipynb',\n",
       " 'Untitled.ipynb',\n",
       " 'Untitled.zip',\n",
       " 'Untitled1.ipynb',\n",
       " 'Untitled2.ipynb',\n",
       " 'While_loop.ipynb']"
      ]
     },
     "execution_count": 16,
     "metadata": {},
     "output_type": "execute_result"
    }
   ],
   "source": [
    "os.listdir()"
   ]
  },
  {
   "cell_type": "code",
   "execution_count": 19,
   "id": "c61f6fe4",
   "metadata": {},
   "outputs": [
    {
     "name": "stdout",
     "output_type": "stream",
     "text": [
      ".\n",
      "A\n",
      "A\n",
      "F\n",
      "F\n",
      "F\n",
      "G\n",
      "g\n",
      "i\n",
      "L\n",
      "S\n",
      "t\n",
      "t\n",
      "T\n",
      "U\n",
      "U\n",
      "U\n",
      "U\n",
      "W\n"
     ]
    }
   ],
   "source": [
    "for i in os.listdir():\n",
    "    print(i)"
   ]
  },
  {
   "cell_type": "code",
   "execution_count": null,
   "id": "623ddc83",
   "metadata": {},
   "outputs": [],
   "source": []
  }
 ],
 "metadata": {
  "kernelspec": {
   "display_name": "Python 3 (ipykernel)",
   "language": "python",
   "name": "python3"
  },
  "language_info": {
   "codemirror_mode": {
    "name": "ipython",
    "version": 3
   },
   "file_extension": ".py",
   "mimetype": "text/x-python",
   "name": "python",
   "nbconvert_exporter": "python",
   "pygments_lexer": "ipython3",
   "version": "3.10.7"
  }
 },
 "nbformat": 4,
 "nbformat_minor": 5
}
