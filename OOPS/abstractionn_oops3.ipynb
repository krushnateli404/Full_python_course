{
 "cells": [
  {
   "cell_type": "code",
   "execution_count": 2,
   "id": "c1ee0eff",
   "metadata": {},
   "outputs": [],
   "source": [
    "def test(a,b):\n",
    "    return a+b"
   ]
  },
  {
   "cell_type": "code",
   "execution_count": 3,
   "id": "88da75a4",
   "metadata": {},
   "outputs": [
    {
     "data": {
      "text/plain": [
       "9"
      ]
     },
     "execution_count": 3,
     "metadata": {},
     "output_type": "execute_result"
    }
   ],
   "source": [
    "test(4,5)"
   ]
  },
  {
   "cell_type": "code",
   "execution_count": 4,
   "id": "0b867782",
   "metadata": {},
   "outputs": [
    {
     "data": {
      "text/plain": [
       "'krushnateli'"
      ]
     },
     "execution_count": 4,
     "metadata": {},
     "output_type": "execute_result"
    }
   ],
   "source": [
    "test(\"krushna\",\"teli\")"
   ]
  },
  {
   "cell_type": "code",
   "execution_count": 5,
   "id": "920636b8",
   "metadata": {},
   "outputs": [],
   "source": [
    "class insta:\n",
    "    def share_stories(self):\n",
    "        print(\"This will share my insta story \")\n",
    "class facebook:\n",
    "    def share_stories(self):\n",
    "        print(\"This will share my facebook story\")"
   ]
  },
  {
   "cell_type": "code",
   "execution_count": 6,
   "id": "efebd313",
   "metadata": {},
   "outputs": [],
   "source": [
    "def sharestories(app):\n",
    "    app.share_stories()"
   ]
  },
  {
   "cell_type": "code",
   "execution_count": 7,
   "id": "33d61dab",
   "metadata": {},
   "outputs": [],
   "source": [
    "i = insta()\n",
    "f = facebook()"
   ]
  },
  {
   "cell_type": "code",
   "execution_count": 8,
   "id": "3ef77205",
   "metadata": {},
   "outputs": [
    {
     "name": "stdout",
     "output_type": "stream",
     "text": [
      "This will share my insta story \n"
     ]
    }
   ],
   "source": [
    "sharestories(i)"
   ]
  },
  {
   "cell_type": "code",
   "execution_count": 9,
   "id": "dd78e51c",
   "metadata": {},
   "outputs": [
    {
     "name": "stdout",
     "output_type": "stream",
     "text": [
      "This will share my facebook story\n"
     ]
    }
   ],
   "source": [
    "sharestories(f)"
   ]
  },
  {
   "cell_type": "code",
   "execution_count": 14,
   "id": "5dd834d0",
   "metadata": {},
   "outputs": [],
   "source": [
    "class social_media :\n",
    "    def share_stories(self):\n",
    "        print(\"share a stories\")\n",
    "    def upload_stories(self):\n",
    "        print(\"This will upload a stories\")\n",
    "        \n",
    "class facebook(social_media):\n",
    "    def share_stories(self):\n",
    "        print(\"This is a fun for share a stories for facebook\")\n",
    "\n",
    "class insta(social_media):\n",
    "    def share_stories(self):\n",
    "        print(\"This will print a story from insta\")\n",
    "    "
   ]
  },
  {
   "cell_type": "code",
   "execution_count": 15,
   "id": "050c0966",
   "metadata": {},
   "outputs": [],
   "source": [
    "f = facebook()\n",
    "i = insta()"
   ]
  },
  {
   "cell_type": "code",
   "execution_count": 16,
   "id": "600f0455",
   "metadata": {},
   "outputs": [
    {
     "name": "stdout",
     "output_type": "stream",
     "text": [
      "This is a fun for share a stories for facebook\n"
     ]
    }
   ],
   "source": [
    "f.share_stories()"
   ]
  },
  {
   "cell_type": "code",
   "execution_count": 18,
   "id": "a744e722",
   "metadata": {},
   "outputs": [
    {
     "name": "stdout",
     "output_type": "stream",
     "text": [
      "This will print a story from insta\n"
     ]
    }
   ],
   "source": [
    "i.share_stories()"
   ]
  },
  {
   "cell_type": "code",
   "execution_count": 23,
   "id": "480e8b97",
   "metadata": {},
   "outputs": [],
   "source": [
    "class test(Exception):\n",
    "    def __init__(self,msg):\n",
    "        self.msg = msg\n"
   ]
  },
  {
   "cell_type": "code",
   "execution_count": 24,
   "id": "3e075aad",
   "metadata": {},
   "outputs": [
    {
     "name": "stdout",
     "output_type": "stream",
     "text": [
      "This is my own exception class \n"
     ]
    }
   ],
   "source": [
    "try:\n",
    "    raise(test(\"This is my own exception class \"))\n",
    "except test as t :\n",
    "    print(t)"
   ]
  },
  {
   "cell_type": "code",
   "execution_count": 25,
   "id": "e57d8a55",
   "metadata": {},
   "outputs": [],
   "source": [
    "class test(Exception):\n",
    "    def __init__(self,msg,myval):\n",
    "        self.msg = msg\n",
    "        self.myval = myval"
   ]
  },
  {
   "cell_type": "code",
   "execution_count": 26,
   "id": "d3b5c2db",
   "metadata": {},
   "outputs": [
    {
     "name": "stdout",
     "output_type": "stream",
     "text": [
      "('This is my own exception class ', 5)\n"
     ]
    }
   ],
   "source": [
    "try:\n",
    "    raise(test(\"This is my own exception class \",5))\n",
    "except test as t :\n",
    "    print(t)"
   ]
  },
  {
   "cell_type": "code",
   "execution_count": 30,
   "id": "7519c152",
   "metadata": {},
   "outputs": [],
   "source": [
    "class reactangle :\n",
    "    def __init__(self,length,breadth):\n",
    "        self.length = length\n",
    "        self.breadth = breadth\n",
    "        \n",
    "    def area_sqaure(self):\n",
    "        return self.length *self.breadth\n",
    "\n",
    "class diff_react(reactangle):\n",
    "    def perimeter(self):\n",
    "        return 2*self.length + 2*self.breadth\n",
    "    \n",
    "        \n",
    "\n",
    "    "
   ]
  },
  {
   "cell_type": "code",
   "execution_count": 28,
   "id": "35468d63",
   "metadata": {},
   "outputs": [],
   "source": [
    "c = reactangle(3,4)"
   ]
  },
  {
   "cell_type": "code",
   "execution_count": 29,
   "id": "3dd9146b",
   "metadata": {},
   "outputs": [
    {
     "data": {
      "text/plain": [
       "12"
      ]
     },
     "execution_count": 29,
     "metadata": {},
     "output_type": "execute_result"
    }
   ],
   "source": [
    "c.area_sqaure()"
   ]
  },
  {
   "cell_type": "code",
   "execution_count": 33,
   "id": "a4d9f883",
   "metadata": {},
   "outputs": [],
   "source": [
    "d = diff_react(3,5)"
   ]
  },
  {
   "cell_type": "code",
   "execution_count": 34,
   "id": "12b7ec9d",
   "metadata": {},
   "outputs": [
    {
     "data": {
      "text/plain": [
       "16"
      ]
     },
     "execution_count": 34,
     "metadata": {},
     "output_type": "execute_result"
    }
   ],
   "source": [
    "d.perimeter()"
   ]
  },
  {
   "cell_type": "code",
   "execution_count": 35,
   "id": "722b3504",
   "metadata": {},
   "outputs": [],
   "source": [
    "class create_except(Exception):\n",
    "    def __init__(self,myexcept):\n",
    "        self.myexcept = myexcept"
   ]
  },
  {
   "cell_type": "code",
   "execution_count": 38,
   "id": "e09a5b75",
   "metadata": {},
   "outputs": [
    {
     "name": "stdout",
     "output_type": "stream",
     "text": [
      "This is my own exception custom class\n"
     ]
    }
   ],
   "source": [
    "try:\n",
    "    raise(create_except(\"This is my own exception custom class\"))\n",
    "except create_except as c:\n",
    "    print(c)"
   ]
  },
  {
   "cell_type": "code",
   "execution_count": 39,
   "id": "761d875c",
   "metadata": {},
   "outputs": [],
   "source": [
    "class test :\n",
    "    def __init__(self,a,b):\n",
    "        self.a = a\n",
    "        self.b = b\n",
    "    def ts(self):\n",
    "        return self.a + self.b\n",
    "class test2(test):\n",
    "    def ts2(self):\n",
    "        return self.a * self.b\n",
    "class test3(test2):\n",
    "    pass\n"
   ]
  },
  {
   "cell_type": "code",
   "execution_count": 46,
   "id": "20ee0ecf",
   "metadata": {},
   "outputs": [],
   "source": [
    " z = test2(3,4)"
   ]
  },
  {
   "cell_type": "code",
   "execution_count": 48,
   "id": "88393bde",
   "metadata": {},
   "outputs": [
    {
     "data": {
      "text/plain": [
       "12"
      ]
     },
     "execution_count": 48,
     "metadata": {},
     "output_type": "execute_result"
    }
   ],
   "source": [
    "z.ts2()"
   ]
  },
  {
   "cell_type": "code",
   "execution_count": 49,
   "id": "f1fe8bae",
   "metadata": {},
   "outputs": [],
   "source": [
    "t3 = test3(4,5)"
   ]
  },
  {
   "cell_type": "code",
   "execution_count": 50,
   "id": "55694805",
   "metadata": {},
   "outputs": [
    {
     "data": {
      "text/plain": [
       "20"
      ]
     },
     "execution_count": 50,
     "metadata": {},
     "output_type": "execute_result"
    }
   ],
   "source": [
    "t3.ts2()"
   ]
  },
  {
   "cell_type": "code",
   "execution_count": 72,
   "id": "3f7c5a70",
   "metadata": {},
   "outputs": [],
   "source": [
    "class test :\n",
    "    def __init__(self,name,age):\n",
    "        self.name = name\n",
    "        self.age = age\n",
    "    def info(self):\n",
    "        print(\"The name of perrson is \",self.name)\n",
    "        print(\"Age of person is \",self.age)\n",
    "class test2 :\n",
    "    def __init__(self,phone):\n",
    "        self.phone = phone\n",
    "    def info2(self):\n",
    "        print(\"The phone number of person is \", self.phone)\n",
    "class over_info(test,test2):\n",
    "    def __init__(self,*args,**kwrgs):\n",
    "        test.__init__(self,*args)\n",
    "        test2.__init__(self,**kwrgs)"
   ]
  },
  {
   "cell_type": "code",
   "execution_count": 76,
   "id": "0e59c8ab",
   "metadata": {},
   "outputs": [],
   "source": [
    "o = over_info(\"krushna\",19,phone = 9860448568)"
   ]
  },
  {
   "cell_type": "code",
   "execution_count": 77,
   "id": "e8eb4c5c",
   "metadata": {},
   "outputs": [
    {
     "name": "stdout",
     "output_type": "stream",
     "text": [
      "The phone number of person is  9860448568\n"
     ]
    }
   ],
   "source": [
    "o.info2()"
   ]
  },
  {
   "cell_type": "code",
   "execution_count": 69,
   "id": "52f9f2ba",
   "metadata": {},
   "outputs": [
    {
     "ename": "TypeError",
     "evalue": "test2.__init__() got an unexpected keyword argument 'phone'",
     "output_type": "error",
     "traceback": [
      "\u001b[1;31m---------------------------------------------------------------------------\u001b[0m",
      "\u001b[1;31mTypeError\u001b[0m                                 Traceback (most recent call last)",
      "Cell \u001b[1;32mIn[69], line 1\u001b[0m\n\u001b[1;32m----> 1\u001b[0m t1 \u001b[38;5;241m=\u001b[39m \u001b[43mtest2\u001b[49m\u001b[43m(\u001b[49m\u001b[38;5;124;43m\"\u001b[39;49m\u001b[38;5;124;43mxyz\u001b[39;49m\u001b[38;5;124;43m\"\u001b[39;49m\u001b[43m,\u001b[49m\u001b[38;5;241;43m19\u001b[39;49m\u001b[43m,\u001b[49m\u001b[43mphone\u001b[49m\u001b[43m \u001b[49m\u001b[38;5;241;43m=\u001b[39;49m\u001b[43m \u001b[49m\u001b[38;5;241;43m9860448568\u001b[39;49m\u001b[43m)\u001b[49m\n",
      "\u001b[1;31mTypeError\u001b[0m: test2.__init__() got an unexpected keyword argument 'phone'"
     ]
    }
   ],
   "source": []
  },
  {
   "cell_type": "code",
   "execution_count": 83,
   "id": "3b318f27",
   "metadata": {},
   "outputs": [],
   "source": [
    "class Encapsulation:\n",
    "    def __init__(self):\n",
    "        self._private_1 = 4\n",
    "        self.__private_2 = 45\n",
    "    def protected(self):\n",
    "        print(\"This is the value of protected variable \",_private_1)\n",
    "    def private(self):\n",
    "        print(\"This is the private variable  \",__private_2)\n",
    "        \n",
    "        \n",
    "    \n",
    "        "
   ]
  },
  {
   "cell_type": "code",
   "execution_count": 84,
   "id": "ffff3ef1",
   "metadata": {},
   "outputs": [],
   "source": [
    "c = Encapsulation()"
   ]
  },
  {
   "cell_type": "code",
   "execution_count": 86,
   "id": "9006580b",
   "metadata": {},
   "outputs": [
    {
     "data": {
      "text/plain": [
       "4"
      ]
     },
     "execution_count": 86,
     "metadata": {},
     "output_type": "execute_result"
    }
   ],
   "source": [
    "c._private_1"
   ]
  },
  {
   "cell_type": "code",
   "execution_count": 91,
   "id": "ad3f6453",
   "metadata": {},
   "outputs": [
    {
     "data": {
      "text/plain": [
       "45"
      ]
     },
     "execution_count": 91,
     "metadata": {},
     "output_type": "execute_result"
    }
   ],
   "source": [
    "c._Encapsulation__private_2"
   ]
  },
  {
   "cell_type": "code",
   "execution_count": 5,
   "id": "84d35611",
   "metadata": {},
   "outputs": [
    {
     "name": "stdout",
     "output_type": "stream",
     "text": [
      "Enter the first number : 3\n",
      "Enter the second number : 0\n",
      "division by zero\n"
     ]
    }
   ],
   "source": [
    "class divide_by_5(Exception):\n",
    "    def __init__(self,msg):\n",
    "        self.msg = msg\n",
    "try :\n",
    "    a = int(input(\"Enter the first number : \"))\n",
    "    b = int(input(\"Enter the second number : \"))\n",
    "    a/b\n",
    "    if b == 5:\n",
    "        raise divide_by_5(\"Division by 5 Error\")\n",
    "except ZeroDivisionError as d:\n",
    "    print(d)\n",
    "except divide_by_5 as d:\n",
    "    print(d)\n",
    "else:\n",
    "    result = a/b\n",
    "    print(result)"
   ]
  },
  {
   "cell_type": "code",
   "execution_count": 4,
   "id": "49cbc5f9",
   "metadata": {},
   "outputs": [],
   "source": [
    "class abc:\n",
    "    pass"
   ]
  },
  {
   "cell_type": "code",
   "execution_count": 5,
   "id": "07dcc969",
   "metadata": {},
   "outputs": [],
   "source": [
    "from abc import abstractmethod\n",
    "class date_project :\n",
    "    def read_file(self):\n",
    "        pass\n",
    "    def validate_file_name(self):\n",
    "        pass\n",
    "    def validate_datatype(self):\n",
    "        pass\n",
    "    def validate_db_conn(self):\n",
    "        pass\n",
    "    def create_connn(self):\n",
    "        pass\n",
    "    def insert_data(self):\n",
    "        pass\n",
    "    def delete_data(self):\n",
    "        pass\n",
    "    def update_data(self):\n",
    "        pass\n",
    "    def perform_stat(self):\n",
    "        pass\n",
    "    def delete_data(self):\n",
    "        pass"
   ]
  },
  {
   "cell_type": "code",
   "execution_count": null,
   "id": "2fb08371",
   "metadata": {},
   "outputs": [],
   "source": [
    "class db_ops(date_project)"
   ]
  },
  {
   "cell_type": "code",
   "execution_count": 11,
   "id": "9b559c67",
   "metadata": {},
   "outputs": [],
   "source": [
    "class test:\n",
    "    def fun(self):\n",
    "        print(\"This is a fun called at a time of object print \")\n",
    "    \n",
    "    def __str__(self):\n",
    "        return str(\"This is a fun called at a time of object print \")"
   ]
  },
  {
   "cell_type": "code",
   "execution_count": 12,
   "id": "b5c545ec",
   "metadata": {},
   "outputs": [],
   "source": [
    "t = test()"
   ]
  },
  {
   "cell_type": "code",
   "execution_count": 13,
   "id": "c641f265",
   "metadata": {},
   "outputs": [
    {
     "name": "stdout",
     "output_type": "stream",
     "text": [
      "This is a fun called at a time of object print \n"
     ]
    }
   ],
   "source": [
    "print(t)"
   ]
  },
  {
   "cell_type": "code",
   "execution_count": null,
   "id": "0387dfee",
   "metadata": {},
   "outputs": [],
   "source": []
  }
 ],
 "metadata": {
  "kernelspec": {
   "display_name": "Python 3 (ipykernel)",
   "language": "python",
   "name": "python3"
  },
  "language_info": {
   "codemirror_mode": {
    "name": "ipython",
    "version": 3
   },
   "file_extension": ".py",
   "mimetype": "text/x-python",
   "name": "python",
   "nbconvert_exporter": "python",
   "pygments_lexer": "ipython3",
   "version": "3.10.7"
  }
 },
 "nbformat": 4,
 "nbformat_minor": 5
}
