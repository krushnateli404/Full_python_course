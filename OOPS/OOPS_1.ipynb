{
 "cells": [
  {
   "cell_type": "code",
   "execution_count": 3,
   "id": "6faaa257",
   "metadata": {},
   "outputs": [],
   "source": [
    "class emp:\n",
    "    pass"
   ]
  },
  {
   "cell_type": "code",
   "execution_count": 4,
   "id": "5d9fb7b5",
   "metadata": {},
   "outputs": [],
   "source": [
    "sunny = emp()"
   ]
  },
  {
   "cell_type": "code",
   "execution_count": null,
   "id": "0148aaba",
   "metadata": {},
   "outputs": [],
   "source": []
  },
  {
   "cell_type": "code",
   "execution_count": null,
   "id": "e7f788ec",
   "metadata": {},
   "outputs": [],
   "source": [
    "1.how to define class and object in python\n",
    "2.variable in class\n",
    "  instance variable\n",
    "  local variable\n",
    "3. method in class\n",
    "   constructor()-->this is special method \n",
    "   instance method\n",
    "   local method\n",
    "   static method"
   ]
  },
  {
   "cell_type": "markdown",
   "id": "ebeef049",
   "metadata": {},
   "source": [
    "# NOTE: __init__ method is called constructor"
   ]
  },
  {
   "cell_type": "raw",
   "id": "80b8eff8",
   "metadata": {},
   "source": [
    "init is a special method or Constructor are those thing method which will be call immedatily(autometically) when we crete a class"
   ]
  },
  {
   "cell_type": "code",
   "execution_count": 5,
   "id": "537de8d6",
   "metadata": {},
   "outputs": [],
   "source": [
    "class emp:\n",
    "    def __init__(self):\n",
    "        print(\"object created!!\")"
   ]
  },
  {
   "cell_type": "code",
   "execution_count": 6,
   "id": "aac8e898",
   "metadata": {},
   "outputs": [
    {
     "name": "stdout",
     "output_type": "stream",
     "text": [
      "object created!!\n"
     ]
    }
   ],
   "source": [
    "sunny = emp()"
   ]
  },
  {
   "cell_type": "code",
   "execution_count": 7,
   "id": "9f8f565b",
   "metadata": {},
   "outputs": [],
   "source": [
    "class emp:\n",
    "    def __init__(self): #this is a instance method\n",
    "        self.age = 25  #this are  a instance variable or obj variable\n",
    "        self.name = \"krushna\"\n",
    "        self.sellary = 25000"
   ]
  },
  {
   "cell_type": "code",
   "execution_count": 8,
   "id": "fb52815b",
   "metadata": {},
   "outputs": [],
   "source": [
    "krushna = emp()"
   ]
  },
  {
   "cell_type": "code",
   "execution_count": 9,
   "id": "2d57083f",
   "metadata": {},
   "outputs": [
    {
     "data": {
      "text/plain": [
       "25"
      ]
     },
     "execution_count": 9,
     "metadata": {},
     "output_type": "execute_result"
    }
   ],
   "source": [
    "krushna.age"
   ]
  },
  {
   "cell_type": "code",
   "execution_count": 10,
   "id": "492bc47b",
   "metadata": {},
   "outputs": [
    {
     "data": {
      "text/plain": [
       "25"
      ]
     },
     "execution_count": 10,
     "metadata": {},
     "output_type": "execute_result"
    }
   ],
   "source": [
    "krushna.age"
   ]
  },
  {
   "cell_type": "code",
   "execution_count": 11,
   "id": "185b6532",
   "metadata": {},
   "outputs": [
    {
     "data": {
      "text/plain": [
       "25000"
      ]
     },
     "execution_count": 11,
     "metadata": {},
     "output_type": "execute_result"
    }
   ],
   "source": [
    "krushna.sellary"
   ]
  },
  {
   "cell_type": "code",
   "execution_count": 21,
   "id": "547f7c10",
   "metadata": {},
   "outputs": [],
   "source": [
    "class emp:\n",
    "    def __init__(self,a,b,c):\n",
    "        self.age = a #a,b,c are local variable\n",
    "        self.name= b\n",
    "        self.sallery= c\n",
    "    def show(self):\n",
    "        print(self.age,self.name,self.sallery)\n",
    "    def box(self):\n",
    "        print(a,b,c)"
   ]
  },
  {
   "cell_type": "code",
   "execution_count": 22,
   "id": "62ed50cd",
   "metadata": {},
   "outputs": [],
   "source": [
    "krushna = emp(2,\"krushna\",23094)"
   ]
  },
  {
   "cell_type": "code",
   "execution_count": 20,
   "id": "b9a1eccb",
   "metadata": {},
   "outputs": [
    {
     "name": "stdout",
     "output_type": "stream",
     "text": [
      "2 krushna 23094\n"
     ]
    }
   ],
   "source": [
    "krushna.show() #it show output cause variable are instance"
   ]
  },
  {
   "cell_type": "code",
   "execution_count": 23,
   "id": "1727d7fe",
   "metadata": {},
   "outputs": [
    {
     "ename": "NameError",
     "evalue": "name 'a' is not defined",
     "output_type": "error",
     "traceback": [
      "\u001b[1;31m---------------------------------------------------------------------------\u001b[0m",
      "\u001b[1;31mNameError\u001b[0m                                 Traceback (most recent call last)",
      "\u001b[1;32m~\\AppData\\Local\\Temp\\ipykernel_1460\\4100696022.py\u001b[0m in \u001b[0;36m<module>\u001b[1;34m\u001b[0m\n\u001b[1;32m----> 1\u001b[1;33m \u001b[0mkrushna\u001b[0m\u001b[1;33m.\u001b[0m\u001b[0mbox\u001b[0m\u001b[1;33m(\u001b[0m\u001b[1;33m)\u001b[0m\u001b[1;33m\u001b[0m\u001b[1;33m\u001b[0m\u001b[0m\n\u001b[0m",
      "\u001b[1;32m~\\AppData\\Local\\Temp\\ipykernel_1460\\472589626.py\u001b[0m in \u001b[0;36mbox\u001b[1;34m(self)\u001b[0m\n\u001b[0;32m      7\u001b[0m         \u001b[0mprint\u001b[0m\u001b[1;33m(\u001b[0m\u001b[0mself\u001b[0m\u001b[1;33m.\u001b[0m\u001b[0mage\u001b[0m\u001b[1;33m,\u001b[0m\u001b[0mself\u001b[0m\u001b[1;33m.\u001b[0m\u001b[0mname\u001b[0m\u001b[1;33m,\u001b[0m\u001b[0mself\u001b[0m\u001b[1;33m.\u001b[0m\u001b[0msallery\u001b[0m\u001b[1;33m)\u001b[0m\u001b[1;33m\u001b[0m\u001b[1;33m\u001b[0m\u001b[0m\n\u001b[0;32m      8\u001b[0m     \u001b[1;32mdef\u001b[0m \u001b[0mbox\u001b[0m\u001b[1;33m(\u001b[0m\u001b[0mself\u001b[0m\u001b[1;33m)\u001b[0m\u001b[1;33m:\u001b[0m\u001b[1;33m\u001b[0m\u001b[1;33m\u001b[0m\u001b[0m\n\u001b[1;32m----> 9\u001b[1;33m         \u001b[0mprint\u001b[0m\u001b[1;33m(\u001b[0m\u001b[0ma\u001b[0m\u001b[1;33m,\u001b[0m\u001b[0mb\u001b[0m\u001b[1;33m,\u001b[0m\u001b[0mc\u001b[0m\u001b[1;33m)\u001b[0m\u001b[1;33m\u001b[0m\u001b[1;33m\u001b[0m\u001b[0m\n\u001b[0m",
      "\u001b[1;31mNameError\u001b[0m: name 'a' is not defined"
     ]
    }
   ],
   "source": [
    "krushna.box() #cause a,b,c are local variable"
   ]
  },
  {
   "cell_type": "code",
   "execution_count": 32,
   "id": "aa6b68f1",
   "metadata": {},
   "outputs": [],
   "source": [
    "class car:\n",
    "    def __init__(self,a,b,c):\n",
    "        self.top_speed = a\n",
    "        self.fuel_capacity = b\n",
    "        self.disk_break = c\n",
    "    def show(self):\n",
    "        print(f\"top spped {self.top_speed} fuel_capacity {self.fuel_capacity} disk_break {self.disk_break }\")\n",
    "    \n",
    "    def drive(self,x):\n",
    "        print(f\"it can drive {x}\")\n",
    "        "
   ]
  },
  {
   "cell_type": "code",
   "execution_count": 33,
   "id": "b94b2605",
   "metadata": {},
   "outputs": [],
   "source": [
    "audi8 = car(350,15,\"Yes\")"
   ]
  },
  {
   "cell_type": "code",
   "execution_count": 34,
   "id": "b939d1f4",
   "metadata": {},
   "outputs": [
    {
     "name": "stdout",
     "output_type": "stream",
     "text": [
      "top spped 350 fuel_capacity 15 disk_break Yes\n"
     ]
    }
   ],
   "source": [
    "audi8.show()"
   ]
  },
  {
   "cell_type": "code",
   "execution_count": 35,
   "id": "8ef98854",
   "metadata": {},
   "outputs": [
    {
     "name": "stdout",
     "output_type": "stream",
     "text": [
      "it can drive very fast\n"
     ]
    }
   ],
   "source": [
    "audi8.drive(\"very fast\")"
   ]
  },
  {
   "cell_type": "code",
   "execution_count": null,
   "id": "a80feeea",
   "metadata": {},
   "outputs": [],
   "source": []
  }
 ],
 "metadata": {
  "kernelspec": {
   "display_name": "Python 3 (ipykernel)",
   "language": "python",
   "name": "python3"
  },
  "language_info": {
   "codemirror_mode": {
    "name": "ipython",
    "version": 3
   },
   "file_extension": ".py",
   "mimetype": "text/x-python",
   "name": "python",
   "nbconvert_exporter": "python",
   "pygments_lexer": "ipython3",
   "version": "3.9.13"
  }
 },
 "nbformat": 4,
 "nbformat_minor": 5
}
