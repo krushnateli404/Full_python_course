{
 "cells": [
  {
   "cell_type": "code",
   "execution_count": null,
   "id": "edd39d01",
   "metadata": {},
   "outputs": [],
   "source": [
    "1.simple inheritance\n",
    "2.multilevel\n",
    "3.hireachical\n",
    "4.hybrid\n",
    "5.multiple\n",
    "6.hybrid\n"
   ]
  },
  {
   "cell_type": "markdown",
   "id": "bd45f42f",
   "metadata": {},
   "source": [
    "# hirachical inheritance:"
   ]
  },
  {
   "cell_type": "code",
   "execution_count": 3,
   "id": "a3b8eb13",
   "metadata": {},
   "outputs": [],
   "source": [
    "class schoolmember:\n",
    "    def __init__(self,name,age):\n",
    "        self.name = name\n",
    "        self.age = age\n",
    "        \n",
    "class student(schoolmember):\n",
    "    def __init__(self,name,age,rollno,per):\n",
    "        super().__init__(name,age)\n",
    "        self.rollno = rollno\n",
    "        self.per = per\n",
    "    def tell(self):\n",
    "        super().tell\n",
    "    \n",
    "class teacher(schoolmember):\n",
    "    def __init__(self,name,age,sal):\n",
    "        super.__init__()\n",
    "        self.sal = sal\n",
    "    "
   ]
  },
  {
   "cell_type": "code",
   "execution_count": null,
   "id": "20e57c6e",
   "metadata": {},
   "outputs": [],
   "source": []
  },
  {
   "cell_type": "code",
   "execution_count": null,
   "id": "445cbbde",
   "metadata": {},
   "outputs": [],
   "source": []
  },
  {
   "cell_type": "code",
   "execution_count": null,
   "id": "d6be4889",
   "metadata": {},
   "outputs": [],
   "source": []
  },
  {
   "cell_type": "code",
   "execution_count": 4,
   "id": "8883c98e",
   "metadata": {},
   "outputs": [],
   "source": [
    "krushna = student(\"krushna\",20,58,85)"
   ]
  },
  {
   "cell_type": "code",
   "execution_count": null,
   "id": "345903dd",
   "metadata": {},
   "outputs": [],
   "source": []
  },
  {
   "cell_type": "code",
   "execution_count": null,
   "id": "354dcd9c",
   "metadata": {},
   "outputs": [],
   "source": []
  },
  {
   "cell_type": "code",
   "execution_count": null,
   "id": "d8f0478d",
   "metadata": {},
   "outputs": [],
   "source": []
  },
  {
   "cell_type": "markdown",
   "id": "19685329",
   "metadata": {},
   "source": [
    "# Multiple inheritance:"
   ]
  },
  {
   "cell_type": "code",
   "execution_count": 12,
   "id": "2bc4e667",
   "metadata": {},
   "outputs": [],
   "source": [
    "class A:\n",
    "    def __init__(Self):\n",
    "        print(\"A has been called\")\n",
    "class B:\n",
    "    def __init__(self):\n",
    "        print(\"B has been called\")\n",
    "class C(B,A):\n",
    "    pass\n",
    "    "
   ]
  },
  {
   "cell_type": "code",
   "execution_count": 13,
   "id": "4eb3984f",
   "metadata": {},
   "outputs": [
    {
     "name": "stdout",
     "output_type": "stream",
     "text": [
      "B has been called\n"
     ]
    }
   ],
   "source": [
    "obj_first = C()"
   ]
  },
  {
   "cell_type": "code",
   "execution_count": 14,
   "id": "26310962",
   "metadata": {},
   "outputs": [
    {
     "data": {
      "text/plain": [
       "<__main__.C at 0x1f889799f60>"
      ]
     },
     "execution_count": 14,
     "metadata": {},
     "output_type": "execute_result"
    }
   ],
   "source": [
    "obj_first"
   ]
  },
  {
   "cell_type": "markdown",
   "id": "b8485714",
   "metadata": {},
   "source": [
    "# mro = method resolution order"
   ]
  },
  {
   "cell_type": "code",
   "execution_count": 15,
   "id": "92422d97",
   "metadata": {},
   "outputs": [
    {
     "name": "stdout",
     "output_type": "stream",
     "text": [
      "[<class '__main__.C'>, <class '__main__.B'>, <class '__main__.A'>, <class 'object'>]\n"
     ]
    }
   ],
   "source": [
    "print(C.mro())  "
   ]
  },
  {
   "cell_type": "code",
   "execution_count": 20,
   "id": "90a095c7",
   "metadata": {},
   "outputs": [],
   "source": [
    "class A:\n",
    "    def __init__(Self):\n",
    "        print(\"A has been called\")\n",
    "class B:\n",
    "    def __init__(self):\n",
    "        print(\"B has been called\")\n",
    "class C(A,B):\n",
    "    def __init__(Self):\n",
    "        print(\"C has been called\")\n",
    "    "
   ]
  },
  {
   "cell_type": "code",
   "execution_count": 21,
   "id": "16414491",
   "metadata": {},
   "outputs": [
    {
     "name": "stdout",
     "output_type": "stream",
     "text": [
      "C has been called\n"
     ]
    }
   ],
   "source": [
    "onj_second = C()"
   ]
  },
  {
   "cell_type": "code",
   "execution_count": 22,
   "id": "c9d58195",
   "metadata": {},
   "outputs": [
    {
     "name": "stdout",
     "output_type": "stream",
     "text": [
      "[<class '__main__.C'>, <class '__main__.B'>, <class '__main__.A'>, <class 'object'>]\n"
     ]
    }
   ],
   "source": [
    "print(C.mro())"
   ]
  },
  {
   "cell_type": "code",
   "execution_count": 23,
   "id": "fc04c123",
   "metadata": {},
   "outputs": [],
   "source": [
    "obj_third = object()"
   ]
  },
  {
   "cell_type": "code",
   "execution_count": 24,
   "id": "9fd99b21",
   "metadata": {},
   "outputs": [
    {
     "data": {
      "text/plain": [
       "['__class__',\n",
       " '__delattr__',\n",
       " '__dir__',\n",
       " '__doc__',\n",
       " '__eq__',\n",
       " '__format__',\n",
       " '__ge__',\n",
       " '__getattribute__',\n",
       " '__gt__',\n",
       " '__hash__',\n",
       " '__init__',\n",
       " '__init_subclass__',\n",
       " '__le__',\n",
       " '__lt__',\n",
       " '__ne__',\n",
       " '__new__',\n",
       " '__reduce__',\n",
       " '__reduce_ex__',\n",
       " '__repr__',\n",
       " '__setattr__',\n",
       " '__sizeof__',\n",
       " '__str__',\n",
       " '__subclasshook__']"
      ]
     },
     "execution_count": 24,
     "metadata": {},
     "output_type": "execute_result"
    }
   ],
   "source": [
    "dir(obj_third)"
   ]
  },
  {
   "cell_type": "code",
   "execution_count": 46,
   "id": "96c49735",
   "metadata": {},
   "outputs": [],
   "source": [
    "class person:\n",
    "    def __init__(self,name,age):\n",
    "        print(\"person calledd\")\n",
    "        self.name = name\n",
    "        self.age = age\n",
    "class student:\n",
    "    def __init__(self,name,age,rollno,per):\n",
    "        print(\"student called\")\n",
    "    \n",
    "        super().__init__(name,age)\n",
    "        self.rollno = rollno\n",
    "        self.per = per\n",
    "    \n",
    "class science_Student(student,person):\n",
    "    def __init__(self,name,age,rollno,per,stream):\n",
    "            print('science student calleed')\n",
    "            super().__init__(name,age,rollno,per)\n",
    "            self.stream = stream\n",
    "        \n",
    "    def tell(self):\n",
    "        print(self.name,self.age,self.rollno,self.per,self.stream)"
   ]
  },
  {
   "cell_type": "code",
   "execution_count": 47,
   "id": "05a180d6",
   "metadata": {},
   "outputs": [
    {
     "name": "stdout",
     "output_type": "stream",
     "text": [
      "science student calleed\n",
      "student called\n",
      "person calledd\n"
     ]
    }
   ],
   "source": [
    "o = science_Student(\"krushna\",23,34,45,\"science\")"
   ]
  },
  {
   "cell_type": "code",
   "execution_count": 48,
   "id": "f8c95db1",
   "metadata": {},
   "outputs": [
    {
     "name": "stdout",
     "output_type": "stream",
     "text": [
      "krushna 23 34 45 science\n"
     ]
    }
   ],
   "source": [
    "o.tell()"
   ]
  },
  {
   "cell_type": "code",
   "execution_count": null,
   "id": "226f67ad",
   "metadata": {},
   "outputs": [],
   "source": [
    "class A:\n",
    "    def __init__(self):\n",
    "        print(\"constructor called\")\n",
    "    \n",
    "class B:\n",
    "    def __init__(self):\n",
    "        print(\"B called\")\n",
    "        \n",
    "class C:\n",
    "    def __init__(self):\n",
    "        print(\"C called\")"
   ]
  },
  {
   "cell_type": "code",
   "execution_count": 51,
   "id": "36fb8b5e",
   "metadata": {},
   "outputs": [],
   "source": [
    "class person:\n",
    "    def __init__(self,name,age):\n",
    "        print(\"person calledd\")\n",
    "        self.name = name\n",
    "        self.age = age\n",
    "class student:\n",
    "    def __init__(self,rollno,per):\n",
    "        print(\"student called\")\n",
    "        self.rollno = rollno\n",
    "        self.per = per\n",
    "    \n",
    "class science_Student(student,person):\n",
    "    def __init__(self,name,age,rollno,per,stream):\n",
    "            print('science student calleed')\n",
    "            person.__init__(self,name,age)\n",
    "            student.__init__(self,rollno,per)\n",
    "            self.stream = stream\n",
    "        \n",
    "    def tell(self):\n",
    "        print(self.name,self.age,self.rollno,self.per,self.stream)"
   ]
  },
  {
   "cell_type": "code",
   "execution_count": 52,
   "id": "9abd43fb",
   "metadata": {},
   "outputs": [
    {
     "name": "stdout",
     "output_type": "stream",
     "text": [
      "science student calleed\n",
      "person calledd\n",
      "student called\n"
     ]
    }
   ],
   "source": [
    "obj1 = science_Student(\"xyz\",5,66,45,'science')"
   ]
  },
  {
   "cell_type": "code",
   "execution_count": 53,
   "id": "d1555f08",
   "metadata": {},
   "outputs": [
    {
     "name": "stdout",
     "output_type": "stream",
     "text": [
      "xyz 5 66 45 science\n"
     ]
    }
   ],
   "source": [
    "obj1.tell()"
   ]
  },
  {
   "cell_type": "code",
   "execution_count": 56,
   "id": "382ce5c9",
   "metadata": {},
   "outputs": [
    {
     "name": "stdout",
     "output_type": "stream",
     "text": [
      "[<class '__main__.science_Student'>, <class '__main__.student'>, <class '__main__.person'>, <class 'object'>]\n"
     ]
    }
   ],
   "source": [
    "print(science_Student.mro())"
   ]
  },
  {
   "cell_type": "markdown",
   "id": "7e80225e",
   "metadata": {},
   "source": [
    "# Hybrid inheritance"
   ]
  },
  {
   "cell_type": "code",
   "execution_count": 61,
   "id": "5fa16a81",
   "metadata": {},
   "outputs": [],
   "source": [
    "class A:\n",
    "    def __init__(self):\n",
    "        print(\"constructor called\")\n",
    "    \n",
    "class B(A):\n",
    "    def __init__(self):\n",
    "        print(\"B called\")\n",
    "        \n",
    "class C(A):\n",
    "    def __init__(self):\n",
    "        print(\"C called\")\n",
    "class D(B,C):\n",
    "    pass\n",
    "#     def __init__(self):\n",
    "#         print(\"D called\")"
   ]
  },
  {
   "cell_type": "code",
   "execution_count": 62,
   "id": "33960ebf",
   "metadata": {},
   "outputs": [
    {
     "name": "stdout",
     "output_type": "stream",
     "text": [
      "B called\n"
     ]
    }
   ],
   "source": [
    "myfirstobj = D()"
   ]
  },
  {
   "cell_type": "code",
   "execution_count": 63,
   "id": "11ecd01f",
   "metadata": {},
   "outputs": [
    {
     "name": "stdout",
     "output_type": "stream",
     "text": [
      "[<class '__main__.D'>, <class '__main__.B'>, <class '__main__.C'>, <class '__main__.A'>, <class 'object'>]\n"
     ]
    }
   ],
   "source": [
    "print(D.mro())"
   ]
  },
  {
   "cell_type": "code",
   "execution_count": null,
   "id": "70610def",
   "metadata": {},
   "outputs": [],
   "source": []
  }
 ],
 "metadata": {
  "kernelspec": {
   "display_name": "Python 3 (ipykernel)",
   "language": "python",
   "name": "python3"
  },
  "language_info": {
   "codemirror_mode": {
    "name": "ipython",
    "version": 3
   },
   "file_extension": ".py",
   "mimetype": "text/x-python",
   "name": "python",
   "nbconvert_exporter": "python",
   "pygments_lexer": "ipython3",
   "version": "3.10.7"
  }
 },
 "nbformat": 4,
 "nbformat_minor": 5
}
