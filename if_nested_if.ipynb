{
 "cells": [
  {
   "cell_type": "code",
   "execution_count": 1,
   "id": "0f4b4e71",
   "metadata": {},
   "outputs": [
    {
     "name": "stdout",
     "output_type": "stream",
     "text": [
      "Enter the string:hg\n",
      "The given string in SMALL LETTER\n"
     ]
    }
   ],
   "source": [
    " str1 = input(\"Enter the string:\")\n",
    "if (str1==str1.upper()):\n",
    "    print(\"The given string in CAPITAL LETTER\")\n",
    "elif (str1==str1.lower()):\n",
    "    print(\"The given string in SMALL LETTER\")\n",
    "else:\n",
    "    print(\"OUT\")"
   ]
  },
  {
   "cell_type": "code",
   "execution_count": 2,
   "id": "5beb9396",
   "metadata": {},
   "outputs": [
    {
     "name": "stdout",
     "output_type": "stream",
     "text": [
      "Enter the character string:hjk\n"
     ]
    },
    {
     "ename": "TypeError",
     "evalue": "ord() expected a character, but string of length 3 found",
     "output_type": "error",
     "traceback": [
      "\u001b[1;31m---------------------------------------------------------------------------\u001b[0m",
      "\u001b[1;31mTypeError\u001b[0m                                 Traceback (most recent call last)",
      "Cell \u001b[1;32mIn [2], line 2\u001b[0m\n\u001b[0;32m      1\u001b[0m char1 \u001b[38;5;241m=\u001b[39m \u001b[38;5;28minput\u001b[39m(\u001b[38;5;124m\"\u001b[39m\u001b[38;5;124mEnter the character string:\u001b[39m\u001b[38;5;124m\"\u001b[39m)\n\u001b[1;32m----> 2\u001b[0m ascivalue \u001b[38;5;241m=\u001b[39m \u001b[38;5;28;43mord\u001b[39;49m\u001b[43m(\u001b[49m\u001b[43mchar1\u001b[49m\u001b[43m)\u001b[49m\n\u001b[0;32m      3\u001b[0m \u001b[38;5;28;01mif\u001b[39;00m (ascivalue\u001b[38;5;241m>\u001b[39m\u001b[38;5;241m=\u001b[39m\u001b[38;5;241m97\u001b[39m \u001b[38;5;129;01mand\u001b[39;00m ascivalue\u001b[38;5;241m<\u001b[39m\u001b[38;5;241m=\u001b[39m\u001b[38;5;241m122\u001b[39m):\u001b[38;5;66;03m#This ascii value for small letter\u001b[39;00m\n\u001b[0;32m      4\u001b[0m     \u001b[38;5;28mprint\u001b[39m(\u001b[38;5;124m\"\u001b[39m\u001b[38;5;124mThe given string in SMALL letter\u001b[39m\u001b[38;5;124m\"\u001b[39m)\n",
      "\u001b[1;31mTypeError\u001b[0m: ord() expected a character, but string of length 3 found"
     ]
    }
   ],
   "source": [
    "char1 = input(\"Enter the character string:\")\n",
    "ascivalue = ord(char1)\n",
    "if (ascivalue>=97 and ascivalue<=122):#This ascii value for small letter\n",
    "    print(\"The given string in SMALL letter\")\n",
    "else:\n",
    "    print(\"The given string in CAPITAL letter\")"
   ]
  },
  {
   "cell_type": "code",
   "execution_count": null,
   "id": "4bdb1edc",
   "metadata": {},
   "outputs": [],
   "source": [
    "a= 50"
   ]
  },
  {
   "cell_type": "code",
   "execution_count": null,
   "id": "7a528092",
   "metadata": {},
   "outputs": [],
   "source": [
    "if a==50:\n",
    "    print(\"Correct\")\n",
    "    print(\"fine\")\n",
    "print(\"Alright\")"
   ]
  },
  {
   "cell_type": "code",
   "execution_count": null,
   "id": "0a2cf89b",
   "metadata": {},
   "outputs": [],
   "source": [
    "#WAP to accept 3 integers from the user and withought using  any logical operator and cascading of relational operators. find out the greatest number amongst them\n",
    "\n",
    "num1 = int(input(\"Enter the numbe1: \"))\n",
    "num2 = int(input(\"Enter the number2: \"))\n",
    "num3 = int(input(\"Enter the number3: \"))\n",
    "if (num1>num2):\n",
    "    print(f\"{num1} is greater number\")\n",
    "elif (num1>num3):\n",
    "     print(f\"{num1} is greater number\")\n",
    "elif (num2>num3):\n",
    "    print(f\"{num2} is greter number\")\n",
    "else:\n",
    "    print(f\"{num3} is greater \")"
   ]
  },
  {
   "cell_type": "markdown",
   "id": "4ba77146",
   "metadata": {},
   "source": [
    "# nested if :- if inside if(we can write as many as if)"
   ]
  },
  {
   "cell_type": "code",
   "execution_count": null,
   "id": "00a42928",
   "metadata": {},
   "outputs": [],
   "source": [
    "a = 100\n",
    "b=200"
   ]
  },
  {
   "cell_type": "code",
   "execution_count": null,
   "id": "d831a1ed",
   "metadata": {},
   "outputs": [],
   "source": [
    "if a>100:\n",
    "    print(\"We are in first if statement\")\n",
    "    if (b<201):\n",
    "        print(\"We are in second if statement\")"
   ]
  },
  {
   "cell_type": "code",
   "execution_count": null,
   "id": "640dc6b3",
   "metadata": {},
   "outputs": [],
   "source": [
    "a = int(input(\"Enter the number1: \"))\n",
    "b = int(input(\"Enter the number2: \"))\n",
    "c = int(input(\"Enter the number3: \"))\n",
    "if a>b:\n",
    "    if a>c:\n",
    "        print(\"a is greatest\")\n",
    "elif b>a:\n",
    "    if b>c:\n",
    "        print(\"b is greatest\")\n",
    "else:\n",
    "    print(\"c is greatest\")"
   ]
  },
  {
   "cell_type": "code",
   "execution_count": 3,
   "id": "ad7a07ee",
   "metadata": {},
   "outputs": [],
   "source": [
    "def maximum(a,b,c):\n",
    "    if(a>b and a>c):\n",
    "        print(\"a is greatest\")\n",
    "    if(b>a and b>c):\n",
    "        print(\"b is greatest\")\n",
    "    if(c>a and c>b):\n",
    "        print(\"c is greatest\")"
   ]
  },
  {
   "cell_type": "code",
   "execution_count": null,
   "id": "86296345",
   "metadata": {},
   "outputs": [],
   "source": [
    "maximum(19,45,45)"
   ]
  },
  {
   "cell_type": "code",
   "execution_count": 6,
   "id": "98109585",
   "metadata": {},
   "outputs": [
    {
     "name": "stdout",
     "output_type": "stream",
     "text": [
      "Enter the three number:3\n",
      "12 2 44\n",
      "44\n"
     ]
    }
   ],
   "source": [
    "n=int(input(\"Enter the three number:\"))\n",
    "x=list(map(int,input().split()))\n",
    "print(max(x))"
   ]
  },
  {
   "cell_type": "code",
   "execution_count": null,
   "id": "b346c9ae",
   "metadata": {},
   "outputs": [],
   "source": []
  }
 ],
 "metadata": {
  "kernelspec": {
   "display_name": "Python 3 (ipykernel)",
   "language": "python",
   "name": "python3"
  },
  "language_info": {
   "codemirror_mode": {
    "name": "ipython",
    "version": 3
   },
   "file_extension": ".py",
   "mimetype": "text/x-python",
   "name": "python",
   "nbconvert_exporter": "python",
   "pygments_lexer": "ipython3",
   "version": "3.10.7"
  }
 },
 "nbformat": 4,
 "nbformat_minor": 5
}
