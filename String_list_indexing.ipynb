{
 "cells": [
  {
   "cell_type": "code",
   "execution_count": 1,
   "id": "2b547f2d",
   "metadata": {},
   "outputs": [
    {
     "data": {
      "text/plain": [
       "str"
      ]
     },
     "execution_count": 1,
     "metadata": {},
     "output_type": "execute_result"
    }
   ],
   "source": [
    "k = \"krushna\"\n",
    "type(k)"
   ]
  },
  {
   "cell_type": "code",
   "execution_count": 2,
   "id": "eda1384b",
   "metadata": {},
   "outputs": [
    {
     "data": {
      "text/plain": [
       "''"
      ]
     },
     "execution_count": 2,
     "metadata": {},
     "output_type": "execute_result"
    }
   ],
   "source": [
    "k[0:-10]"
   ]
  },
  {
   "cell_type": "code",
   "execution_count": 3,
   "id": "ba09739c",
   "metadata": {},
   "outputs": [
    {
     "data": {
      "text/plain": [
       "'k'"
      ]
     },
     "execution_count": 3,
     "metadata": {},
     "output_type": "execute_result"
    }
   ],
   "source": [
    "k[0:-10:-1]"
   ]
  },
  {
   "cell_type": "code",
   "execution_count": 4,
   "id": "7749a237",
   "metadata": {},
   "outputs": [],
   "source": [
    "a = \"I am krushna teli\""
   ]
  },
  {
   "cell_type": "code",
   "execution_count": 5,
   "id": "37b7dc12",
   "metadata": {},
   "outputs": [
    {
     "data": {
      "text/plain": [
       "'krushna'"
      ]
     },
     "execution_count": 5,
     "metadata": {},
     "output_type": "execute_result"
    }
   ],
   "source": [
    "a[5:-5]"
   ]
  },
  {
   "cell_type": "code",
   "execution_count": 6,
   "id": "24051efc",
   "metadata": {},
   "outputs": [
    {
     "data": {
      "text/plain": [
       "''"
      ]
     },
     "execution_count": 6,
     "metadata": {},
     "output_type": "execute_result"
    }
   ],
   "source": [
    "a[5:-5:-1]"
   ]
  },
  {
   "cell_type": "code",
   "execution_count": 7,
   "id": "fc467f20",
   "metadata": {},
   "outputs": [
    {
     "data": {
      "text/plain": [
       "' anhsur'"
      ]
     },
     "execution_count": 7,
     "metadata": {},
     "output_type": "execute_result"
    }
   ],
   "source": [
    "a[-5:5:-1]"
   ]
  },
  {
   "cell_type": "code",
   "execution_count": 8,
   "id": "d4927bb1",
   "metadata": {},
   "outputs": [
    {
     "data": {
      "text/plain": [
       "2"
      ]
     },
     "execution_count": 8,
     "metadata": {},
     "output_type": "execute_result"
    }
   ],
   "source": [
    "a.find('a')"
   ]
  },
  {
   "cell_type": "code",
   "execution_count": 9,
   "id": "6cef69fc",
   "metadata": {},
   "outputs": [
    {
     "data": {
      "text/plain": [
       "2"
      ]
     },
     "execution_count": 9,
     "metadata": {},
     "output_type": "execute_result"
    }
   ],
   "source": [
    "a.count('a')"
   ]
  },
  {
   "cell_type": "code",
   "execution_count": 10,
   "id": "49663fb4",
   "metadata": {},
   "outputs": [],
   "source": [
    "l =a.split()"
   ]
  },
  {
   "cell_type": "code",
   "execution_count": 11,
   "id": "591bb5c6",
   "metadata": {},
   "outputs": [
    {
     "data": {
      "text/plain": [
       "['I', 'am', 'krushna', 'teli']"
      ]
     },
     "execution_count": 11,
     "metadata": {},
     "output_type": "execute_result"
    }
   ],
   "source": [
    "l"
   ]
  },
  {
   "cell_type": "code",
   "execution_count": 12,
   "id": "e229827d",
   "metadata": {},
   "outputs": [
    {
     "data": {
      "text/plain": [
       "'I'"
      ]
     },
     "execution_count": 12,
     "metadata": {},
     "output_type": "execute_result"
    }
   ],
   "source": [
    "l[0]"
   ]
  },
  {
   "cell_type": "code",
   "execution_count": 13,
   "id": "e51d8339",
   "metadata": {},
   "outputs": [
    {
     "data": {
      "text/plain": [
       "['I', 'am', 'krushna']"
      ]
     },
     "execution_count": 13,
     "metadata": {},
     "output_type": "execute_result"
    }
   ],
   "source": [
    "l[0:3]"
   ]
  },
  {
   "cell_type": "code",
   "execution_count": 14,
   "id": "6f710e9f",
   "metadata": {},
   "outputs": [
    {
     "data": {
      "text/plain": [
       "['I am krushna tel', '']"
      ]
     },
     "execution_count": 14,
     "metadata": {},
     "output_type": "execute_result"
    }
   ],
   "source": [
    "a.split('i')"
   ]
  },
  {
   "cell_type": "code",
   "execution_count": 15,
   "id": "eb8eec20",
   "metadata": {},
   "outputs": [
    {
     "data": {
      "text/plain": [
       "['I ', 'm krushn', ' teli']"
      ]
     },
     "execution_count": 15,
     "metadata": {},
     "output_type": "execute_result"
    }
   ],
   "source": [
    "a.split('a')"
   ]
  },
  {
   "cell_type": "code",
   "execution_count": 16,
   "id": "6682e10b",
   "metadata": {},
   "outputs": [
    {
     "data": {
      "text/plain": [
       "'I AM KRUSHNA TELI'"
      ]
     },
     "execution_count": 16,
     "metadata": {},
     "output_type": "execute_result"
    }
   ],
   "source": [
    "a.upper()"
   ]
  },
  {
   "cell_type": "code",
   "execution_count": 17,
   "id": "ea408999",
   "metadata": {},
   "outputs": [],
   "source": [
    "a = 'KruSHna'"
   ]
  },
  {
   "cell_type": "code",
   "execution_count": 18,
   "id": "22c5fb6d",
   "metadata": {},
   "outputs": [
    {
     "data": {
      "text/plain": [
       "'kRUshNA'"
      ]
     },
     "execution_count": 18,
     "metadata": {},
     "output_type": "execute_result"
    }
   ],
   "source": [
    "a.swapcase()"
   ]
  },
  {
   "cell_type": "code",
   "execution_count": 19,
   "id": "a0955899",
   "metadata": {},
   "outputs": [
    {
     "data": {
      "text/plain": [
       "'Krushna'"
      ]
     },
     "execution_count": 19,
     "metadata": {},
     "output_type": "execute_result"
    }
   ],
   "source": [
    "a.title()"
   ]
  },
  {
   "cell_type": "code",
   "execution_count": 20,
   "id": "f1e3f68b",
   "metadata": {},
   "outputs": [
    {
     "data": {
      "text/plain": [
       "'Krushna'"
      ]
     },
     "execution_count": 20,
     "metadata": {},
     "output_type": "execute_result"
    }
   ],
   "source": [
    "\n",
    "a.capitalize()"
   ]
  },
  {
   "cell_type": "code",
   "execution_count": 21,
   "id": "85c44d85",
   "metadata": {},
   "outputs": [],
   "source": [
    "b ='krushna'\n",
    "c = 'teli'\n",
    "\n"
   ]
  },
  {
   "cell_type": "code",
   "execution_count": 22,
   "id": "d21cbbed",
   "metadata": {},
   "outputs": [
    {
     "data": {
      "text/plain": [
       "'ktelirteliutelistelihtelintelia'"
      ]
     },
     "execution_count": 22,
     "metadata": {},
     "output_type": "execute_result"
    }
   ],
   "source": [
    "c.join(b)"
   ]
  },
  {
   "cell_type": "code",
   "execution_count": 23,
   "id": "b3f4972c",
   "metadata": {},
   "outputs": [
    {
     "data": {
      "text/plain": [
       "'k r u s h n a'"
      ]
     },
     "execution_count": 23,
     "metadata": {},
     "output_type": "execute_result"
    }
   ],
   "source": [
    "\" \".join(\"krushna\")"
   ]
  },
  {
   "cell_type": "code",
   "execution_count": 24,
   "id": "c92e2848",
   "metadata": {},
   "outputs": [
    {
     "data": {
      "text/plain": [
       "<reversed at 0x1d1b9ce7040>"
      ]
     },
     "execution_count": 24,
     "metadata": {},
     "output_type": "execute_result"
    }
   ],
   "source": [
    "reversed(\"krushna\")"
   ]
  },
  {
   "cell_type": "code",
   "execution_count": 25,
   "id": "3f3a7f8b",
   "metadata": {},
   "outputs": [
    {
     "name": "stdout",
     "output_type": "stream",
     "text": [
      "a\n",
      "n\n",
      "h\n",
      "s\n",
      "u\n",
      "r\n",
      "k\n"
     ]
    }
   ],
   "source": [
    "for  i in reversed(\"krushna\"):\n",
    "    print(i)"
   ]
  },
  {
   "cell_type": "code",
   "execution_count": 26,
   "id": "83e6ce3e",
   "metadata": {},
   "outputs": [
    {
     "data": {
      "text/plain": [
       "'anhsurk'"
      ]
     },
     "execution_count": 26,
     "metadata": {},
     "output_type": "execute_result"
    }
   ],
   "source": [
    "b[::-1]"
   ]
  },
  {
   "cell_type": "code",
   "execution_count": 27,
   "id": "a8134a8f",
   "metadata": {},
   "outputs": [
    {
     "data": {
      "text/plain": [
       "'krushnakrushnakrushna'"
      ]
     },
     "execution_count": 27,
     "metadata": {},
     "output_type": "execute_result"
    }
   ],
   "source": [
    "\"krushna\"*3"
   ]
  },
  {
   "cell_type": "code",
   "execution_count": 28,
   "id": "1ac0a822",
   "metadata": {},
   "outputs": [
    {
     "data": {
      "text/plain": [
       "'krushnateli'"
      ]
     },
     "execution_count": 28,
     "metadata": {},
     "output_type": "execute_result"
    }
   ],
   "source": [
    "\"krushna\" + \"teli\""
   ]
  },
  {
   "cell_type": "code",
   "execution_count": 29,
   "id": "8bc3b1ed",
   "metadata": {},
   "outputs": [],
   "source": [
    "x = \"    krushna  \""
   ]
  },
  {
   "cell_type": "code",
   "execution_count": 30,
   "id": "f30ce095",
   "metadata": {},
   "outputs": [
    {
     "data": {
      "text/plain": [
       "'    krushna'"
      ]
     },
     "execution_count": 30,
     "metadata": {},
     "output_type": "execute_result"
    }
   ],
   "source": [
    "x.rstrip()"
   ]
  },
  {
   "cell_type": "code",
   "execution_count": 31,
   "id": "22802da0",
   "metadata": {},
   "outputs": [
    {
     "data": {
      "text/plain": [
       "'krushna  '"
      ]
     },
     "execution_count": 31,
     "metadata": {},
     "output_type": "execute_result"
    }
   ],
   "source": [
    "x.lstrip()"
   ]
  },
  {
   "cell_type": "code",
   "execution_count": 32,
   "id": "61dd69b7",
   "metadata": {},
   "outputs": [
    {
     "data": {
      "text/plain": [
       "'krushna'"
      ]
     },
     "execution_count": 32,
     "metadata": {},
     "output_type": "execute_result"
    }
   ],
   "source": [
    "x.strip()"
   ]
  },
  {
   "cell_type": "code",
   "execution_count": 33,
   "id": "e5268921",
   "metadata": {},
   "outputs": [],
   "source": [
    "k = \"krushna\""
   ]
  },
  {
   "cell_type": "code",
   "execution_count": 34,
   "id": "03551ea3",
   "metadata": {},
   "outputs": [
    {
     "data": {
      "text/plain": [
       "False"
      ]
     },
     "execution_count": 34,
     "metadata": {},
     "output_type": "execute_result"
    }
   ],
   "source": [
    "k.isupper()"
   ]
  },
  {
   "cell_type": "code",
   "execution_count": 35,
   "id": "abe46356",
   "metadata": {},
   "outputs": [],
   "source": [
    "x = \"KRUSHNA\""
   ]
  },
  {
   "cell_type": "code",
   "execution_count": 36,
   "id": "51d1b524",
   "metadata": {},
   "outputs": [
    {
     "data": {
      "text/plain": [
       "True"
      ]
     },
     "execution_count": 36,
     "metadata": {},
     "output_type": "execute_result"
    }
   ],
   "source": [
    "x.isupper()"
   ]
  },
  {
   "cell_type": "code",
   "execution_count": 37,
   "id": "6873d9e5",
   "metadata": {},
   "outputs": [
    {
     "data": {
      "text/plain": [
       "True"
      ]
     },
     "execution_count": 37,
     "metadata": {},
     "output_type": "execute_result"
    }
   ],
   "source": [
    "k.islower()"
   ]
  },
  {
   "cell_type": "code",
   "execution_count": 38,
   "id": "5cc549cb",
   "metadata": {},
   "outputs": [
    {
     "data": {
      "text/plain": [
       "False"
      ]
     },
     "execution_count": 38,
     "metadata": {},
     "output_type": "execute_result"
    }
   ],
   "source": [
    "s = \"krushna   \"\n",
    "s.isspace()"
   ]
  },
  {
   "cell_type": "code",
   "execution_count": 39,
   "id": "30f7038b",
   "metadata": {},
   "outputs": [
    {
     "data": {
      "text/plain": [
       "True"
      ]
     },
     "execution_count": 39,
     "metadata": {},
     "output_type": "execute_result"
    }
   ],
   "source": [
    "s = \"  \"\n",
    "s.isspace()"
   ]
  },
  {
   "cell_type": "code",
   "execution_count": 40,
   "id": "2d2ae5cf",
   "metadata": {},
   "outputs": [],
   "source": [
    "s = \"krushna\""
   ]
  },
  {
   "cell_type": "code",
   "execution_count": 41,
   "id": "d9e60c1c",
   "metadata": {},
   "outputs": [
    {
     "data": {
      "text/plain": [
       "True"
      ]
     },
     "execution_count": 41,
     "metadata": {},
     "output_type": "execute_result"
    }
   ],
   "source": [
    "s.endswith('a')"
   ]
  },
  {
   "cell_type": "code",
   "execution_count": 42,
   "id": "2013019c",
   "metadata": {},
   "outputs": [
    {
     "data": {
      "text/plain": [
       "False"
      ]
     },
     "execution_count": 42,
     "metadata": {},
     "output_type": "execute_result"
    }
   ],
   "source": [
    "s.endswith('d')"
   ]
  },
  {
   "cell_type": "code",
   "execution_count": 43,
   "id": "76ebbbb4",
   "metadata": {},
   "outputs": [
    {
     "data": {
      "text/plain": [
       "True"
      ]
     },
     "execution_count": 43,
     "metadata": {},
     "output_type": "execute_result"
    }
   ],
   "source": [
    "s.startswith('k')"
   ]
  },
  {
   "cell_type": "code",
   "execution_count": null,
   "id": "aade3898",
   "metadata": {},
   "outputs": [],
   "source": []
  },
  {
   "cell_type": "markdown",
   "id": "9f5bebce",
   "metadata": {},
   "source": [
    "# LIST: it is collection of hetrogenous dataset and it is similar as array in other langauge"
   ]
  },
  {
   "cell_type": "code",
   "execution_count": 44,
   "id": "e176fd19",
   "metadata": {},
   "outputs": [],
   "source": [
    "l = [\"krushna\",\"santya\",458,4+5j,True,543.45]"
   ]
  },
  {
   "cell_type": "code",
   "execution_count": 45,
   "id": "b19a0c4c",
   "metadata": {},
   "outputs": [
    {
     "data": {
      "text/plain": [
       "['krushna', 'santya', 458, (4+5j), True, 543.45]"
      ]
     },
     "execution_count": 45,
     "metadata": {},
     "output_type": "execute_result"
    }
   ],
   "source": [
    "l"
   ]
  },
  {
   "cell_type": "code",
   "execution_count": 46,
   "id": "65f84a5e",
   "metadata": {},
   "outputs": [
    {
     "data": {
      "text/plain": [
       "'santya'"
      ]
     },
     "execution_count": 46,
     "metadata": {},
     "output_type": "execute_result"
    }
   ],
   "source": [
    "l[1]"
   ]
  },
  {
   "cell_type": "code",
   "execution_count": 47,
   "id": "b570e366",
   "metadata": {},
   "outputs": [
    {
     "data": {
      "text/plain": [
       "list"
      ]
     },
     "execution_count": 47,
     "metadata": {},
     "output_type": "execute_result"
    }
   ],
   "source": [
    "type(l)"
   ]
  },
  {
   "cell_type": "code",
   "execution_count": 48,
   "id": "d8e35de5",
   "metadata": {},
   "outputs": [
    {
     "data": {
      "text/plain": [
       "complex"
      ]
     },
     "execution_count": 48,
     "metadata": {},
     "output_type": "execute_result"
    }
   ],
   "source": [
    "type(l[3])"
   ]
  },
  {
   "cell_type": "code",
   "execution_count": 49,
   "id": "1410a323",
   "metadata": {},
   "outputs": [
    {
     "data": {
      "text/plain": [
       "4.0"
      ]
     },
     "execution_count": 49,
     "metadata": {},
     "output_type": "execute_result"
    }
   ],
   "source": [
    "l[3].real"
   ]
  },
  {
   "cell_type": "code",
   "execution_count": 50,
   "id": "1733413a",
   "metadata": {},
   "outputs": [
    {
     "data": {
      "text/plain": [
       "'n'"
      ]
     },
     "execution_count": 50,
     "metadata": {},
     "output_type": "execute_result"
    }
   ],
   "source": [
    "l[1][2]"
   ]
  },
  {
   "cell_type": "code",
   "execution_count": 51,
   "id": "88e7b0db",
   "metadata": {},
   "outputs": [],
   "source": [
    "l1 = [\"kruhsna\",\"santya\",58475]\n",
    "l2 = [\"xyz\",\"pdf\",484893.4]"
   ]
  },
  {
   "cell_type": "code",
   "execution_count": 52,
   "id": "f1271613",
   "metadata": {},
   "outputs": [
    {
     "data": {
      "text/plain": [
       "['kruhsna', 'santya', 58475, 'xyz', 'pdf', 484893.4]"
      ]
     },
     "execution_count": 52,
     "metadata": {},
     "output_type": "execute_result"
    }
   ],
   "source": [
    "l1+l2"
   ]
  },
  {
   "cell_type": "markdown",
   "id": "952e1eb3",
   "metadata": {},
   "source": [
    "# cause l1 has different datatype and \"krushna\" is different datatype"
   ]
  },
  {
   "cell_type": "code",
   "execution_count": 53,
   "id": "83321cd9",
   "metadata": {},
   "outputs": [
    {
     "ename": "TypeError",
     "evalue": "can only concatenate list (not \"str\") to list",
     "output_type": "error",
     "traceback": [
      "\u001b[1;31m---------------------------------------------------------------------------\u001b[0m",
      "\u001b[1;31mTypeError\u001b[0m                                 Traceback (most recent call last)",
      "Cell \u001b[1;32mIn [53], line 1\u001b[0m\n\u001b[1;32m----> 1\u001b[0m \u001b[43ml1\u001b[49m\u001b[43m \u001b[49m\u001b[38;5;241;43m+\u001b[39;49m\u001b[43m \u001b[49m\u001b[38;5;124;43m\"\u001b[39;49m\u001b[38;5;124;43mkrushna\u001b[39;49m\u001b[38;5;124;43m\"\u001b[39;49m\n",
      "\u001b[1;31mTypeError\u001b[0m: can only concatenate list (not \"str\") to list"
     ]
    }
   ],
   "source": [
    "l1 + \"krushna\" # cause l1 has different datatype and \"krushna\" is different datatype"
   ]
  },
  {
   "cell_type": "markdown",
   "id": "aa7d051d",
   "metadata": {},
   "source": [
    "# cause both value are same datatype i.e list"
   ]
  },
  {
   "cell_type": "code",
   "execution_count": 54,
   "id": "416a1827",
   "metadata": {},
   "outputs": [
    {
     "data": {
      "text/plain": [
       "['kruhsna', 'santya', 58475, 'teli']"
      ]
     },
     "execution_count": 54,
     "metadata": {},
     "output_type": "execute_result"
    }
   ],
   "source": [
    "l1 + [\"teli\"] # cause both value are same datatype i.e list"
   ]
  },
  {
   "cell_type": "code",
   "execution_count": 55,
   "id": "51a2c698",
   "metadata": {},
   "outputs": [
    {
     "data": {
      "text/plain": [
       "['kruhsna',\n",
       " 'santya',\n",
       " 58475,\n",
       " 'kruhsna',\n",
       " 'santya',\n",
       " 58475,\n",
       " 'kruhsna',\n",
       " 'santya',\n",
       " 58475,\n",
       " 'kruhsna',\n",
       " 'santya',\n",
       " 58475]"
      ]
     },
     "execution_count": 55,
     "metadata": {},
     "output_type": "execute_result"
    }
   ],
   "source": [
    "l1*4"
   ]
  },
  {
   "cell_type": "code",
   "execution_count": 56,
   "id": "c39555a8",
   "metadata": {},
   "outputs": [
    {
     "data": {
      "text/plain": [
       "['kruhsna', 'santya', 58475]"
      ]
     },
     "execution_count": 56,
     "metadata": {},
     "output_type": "execute_result"
    }
   ],
   "source": [
    "l1"
   ]
  },
  {
   "cell_type": "code",
   "execution_count": 57,
   "id": "b6c167bd",
   "metadata": {},
   "outputs": [],
   "source": [
    " l1[0] = 'xyz'"
   ]
  },
  {
   "cell_type": "code",
   "execution_count": 58,
   "id": "0298b381",
   "metadata": {},
   "outputs": [
    {
     "data": {
      "text/plain": [
       "['xyz', 'santya', 58475]"
      ]
     },
     "execution_count": 58,
     "metadata": {},
     "output_type": "execute_result"
    }
   ],
   "source": [
    "l1"
   ]
  },
  {
   "cell_type": "markdown",
   "id": "5465f724",
   "metadata": {},
   "source": [
    "# string does not able to change the variable name but in case list its able"
   ]
  },
  {
   "cell_type": "code",
   "execution_count": 59,
   "id": "4c435370",
   "metadata": {},
   "outputs": [
    {
     "ename": "TypeError",
     "evalue": "'str' object does not support item assignment",
     "output_type": "error",
     "traceback": [
      "\u001b[1;31m---------------------------------------------------------------------------\u001b[0m",
      "\u001b[1;31mTypeError\u001b[0m                                 Traceback (most recent call last)",
      "Cell \u001b[1;32mIn [59], line 1\u001b[0m\n\u001b[1;32m----> 1\u001b[0m \u001b[43ml1\u001b[49m\u001b[43m[\u001b[49m\u001b[38;5;241;43m1\u001b[39;49m\u001b[43m]\u001b[49m\u001b[43m[\u001b[49m\u001b[38;5;241;43m0\u001b[39;49m\u001b[43m]\u001b[49m \u001b[38;5;241m=\u001b[39m \u001b[38;5;124m'\u001b[39m\u001b[38;5;124mp\u001b[39m\u001b[38;5;124m'\u001b[39m\n",
      "\u001b[1;31mTypeError\u001b[0m: 'str' object does not support item assignment"
     ]
    }
   ],
   "source": [
    "l1[1][0] = 'p' #string does not able to change the variable name but in case list its able"
   ]
  },
  {
   "cell_type": "markdown",
   "id": "76dfba28",
   "metadata": {},
   "source": [
    "# NOTE: list is a mutable entity and string is inmutable entity "
   ]
  },
  {
   "cell_type": "code",
   "execution_count": 60,
   "id": "593f26b7",
   "metadata": {},
   "outputs": [],
   "source": [
    "x = \"krushna\""
   ]
  },
  {
   "cell_type": "code",
   "execution_count": 61,
   "id": "a33344f1",
   "metadata": {},
   "outputs": [
    {
     "data": {
      "text/plain": [
       "'drushna'"
      ]
     },
     "execution_count": 61,
     "metadata": {},
     "output_type": "execute_result"
    }
   ],
   "source": [
    "x.replace('k','d')"
   ]
  },
  {
   "cell_type": "markdown",
   "id": "23f80c46",
   "metadata": {},
   "source": [
    "# NOTE--->inmutable : at perticular index we can not occur changes"
   ]
  },
  {
   "cell_type": "code",
   "execution_count": null,
   "id": "aff3d872",
   "metadata": {},
   "outputs": [],
   "source": []
  },
  {
   "cell_type": "code",
   "execution_count": null,
   "id": "8e5af23f",
   "metadata": {},
   "outputs": [],
   "source": []
  },
  {
   "cell_type": "code",
   "execution_count": 62,
   "id": "3797d1b9",
   "metadata": {},
   "outputs": [
    {
     "data": {
      "text/plain": [
       "['xyz', 'santya', 58475]"
      ]
     },
     "execution_count": 62,
     "metadata": {},
     "output_type": "execute_result"
    }
   ],
   "source": [
    "l1"
   ]
  },
  {
   "cell_type": "code",
   "execution_count": 63,
   "id": "0d7e57ef",
   "metadata": {},
   "outputs": [
    {
     "data": {
      "text/plain": [
       "3"
      ]
     },
     "execution_count": 63,
     "metadata": {},
     "output_type": "execute_result"
    }
   ],
   "source": [
    "len(l1)"
   ]
  },
  {
   "cell_type": "code",
   "execution_count": 64,
   "id": "df692fd8",
   "metadata": {},
   "outputs": [
    {
     "data": {
      "text/plain": [
       "False"
      ]
     },
     "execution_count": 64,
     "metadata": {},
     "output_type": "execute_result"
    }
   ],
   "source": [
    "344 in  l1"
   ]
  },
  {
   "cell_type": "code",
   "execution_count": 65,
   "id": "cec3c0f5",
   "metadata": {},
   "outputs": [
    {
     "data": {
      "text/plain": [
       "True"
      ]
     },
     "execution_count": 65,
     "metadata": {},
     "output_type": "execute_result"
    }
   ],
   "source": [
    "'xyz' in l1"
   ]
  },
  {
   "cell_type": "code",
   "execution_count": 66,
   "id": "170beb2c",
   "metadata": {},
   "outputs": [
    {
     "data": {
      "text/plain": [
       "['xyz', 'santya', 58475]"
      ]
     },
     "execution_count": 66,
     "metadata": {},
     "output_type": "execute_result"
    }
   ],
   "source": [
    "l1"
   ]
  },
  {
   "cell_type": "code",
   "execution_count": 67,
   "id": "854a9a42",
   "metadata": {},
   "outputs": [],
   "source": [
    "l1.append(\"Teli\")"
   ]
  },
  {
   "cell_type": "code",
   "execution_count": 68,
   "id": "a9af25d1",
   "metadata": {},
   "outputs": [
    {
     "data": {
      "text/plain": [
       "['xyz', 'santya', 58475]"
      ]
     },
     "execution_count": 68,
     "metadata": {},
     "output_type": "execute_result"
    }
   ],
   "source": [
    "l1 = ['xyz', 'santya', 58475]\n",
    "l1"
   ]
  },
  {
   "cell_type": "code",
   "execution_count": 69,
   "id": "eddb3894",
   "metadata": {},
   "outputs": [],
   "source": [
    "l1.append(\"Teli\")"
   ]
  },
  {
   "cell_type": "code",
   "execution_count": 70,
   "id": "488de704",
   "metadata": {},
   "outputs": [
    {
     "data": {
      "text/plain": [
       "['xyz', 'santya', 58475, 'Teli']"
      ]
     },
     "execution_count": 70,
     "metadata": {},
     "output_type": "execute_result"
    }
   ],
   "source": [
    "l1"
   ]
  },
  {
   "cell_type": "code",
   "execution_count": 71,
   "id": "c447f39c",
   "metadata": {},
   "outputs": [
    {
     "data": {
      "text/plain": [
       "'Teli'"
      ]
     },
     "execution_count": 71,
     "metadata": {},
     "output_type": "execute_result"
    }
   ],
   "source": [
    " l1.pop() # it remove the element at index -1"
   ]
  },
  {
   "cell_type": "code",
   "execution_count": 72,
   "id": "eb6747d3",
   "metadata": {},
   "outputs": [],
   "source": [
    "l1.insert(1,\"pqr\")"
   ]
  },
  {
   "cell_type": "code",
   "execution_count": 73,
   "id": "208fa9ff",
   "metadata": {},
   "outputs": [
    {
     "data": {
      "text/plain": [
       "['xyz', 'pqr', 'santya', 58475]"
      ]
     },
     "execution_count": 73,
     "metadata": {},
     "output_type": "execute_result"
    }
   ],
   "source": [
    "l1"
   ]
  },
  {
   "cell_type": "code",
   "execution_count": 74,
   "id": "90c984a8",
   "metadata": {},
   "outputs": [],
   "source": [
    "l1.insert(1,[1,23,43,54,56])"
   ]
  },
  {
   "cell_type": "code",
   "execution_count": 75,
   "id": "02bd2b4d",
   "metadata": {},
   "outputs": [
    {
     "data": {
      "text/plain": [
       "['xyz', [1, 23, 43, 54, 56], 'pqr', 'santya', 58475]"
      ]
     },
     "execution_count": 75,
     "metadata": {},
     "output_type": "execute_result"
    }
   ],
   "source": [
    "l1"
   ]
  },
  {
   "cell_type": "code",
   "execution_count": 76,
   "id": "06ab2ce1",
   "metadata": {},
   "outputs": [
    {
     "data": {
      "text/plain": [
       "[58475, 'santya', 'pqr', [1, 23, 43, 54, 56], 'xyz']"
      ]
     },
     "execution_count": 76,
     "metadata": {},
     "output_type": "execute_result"
    }
   ],
   "source": [
    "l1[::-1]"
   ]
  },
  {
   "cell_type": "code",
   "execution_count": 77,
   "id": "7dfdaae4",
   "metadata": {},
   "outputs": [],
   "source": [
    "l1.reverse()"
   ]
  },
  {
   "cell_type": "code",
   "execution_count": 78,
   "id": "84d6090a",
   "metadata": {},
   "outputs": [
    {
     "data": {
      "text/plain": [
       "[58475, 'santya', 'pqr', [1, 23, 43, 54, 56], 'xyz']"
      ]
     },
     "execution_count": 78,
     "metadata": {},
     "output_type": "execute_result"
    }
   ],
   "source": [
    "l1"
   ]
  },
  {
   "cell_type": "code",
   "execution_count": 79,
   "id": "4a3c3c7f",
   "metadata": {},
   "outputs": [],
   "source": [
    "l1[3][2] = 87"
   ]
  },
  {
   "cell_type": "code",
   "execution_count": 80,
   "id": "6c2972fb",
   "metadata": {},
   "outputs": [
    {
     "data": {
      "text/plain": [
       "[58475, 'santya', 'pqr', [1, 23, 87, 54, 56], 'xyz']"
      ]
     },
     "execution_count": 80,
     "metadata": {},
     "output_type": "execute_result"
    }
   ],
   "source": [
    "l1"
   ]
  },
  {
   "cell_type": "code",
   "execution_count": 81,
   "id": "d2567c4b",
   "metadata": {},
   "outputs": [
    {
     "data": {
      "text/plain": [
       "1"
      ]
     },
     "execution_count": 81,
     "metadata": {},
     "output_type": "execute_result"
    }
   ],
   "source": [
    "l1.count(\"santya\")"
   ]
  },
  {
   "cell_type": "code",
   "execution_count": 83,
   "id": "85ae31f0",
   "metadata": {},
   "outputs": [],
   "source": [
    "l1.append([1,2,45,56])"
   ]
  },
  {
   "cell_type": "code",
   "execution_count": 84,
   "id": "16d9ece4",
   "metadata": {},
   "outputs": [
    {
     "data": {
      "text/plain": [
       "[58475,\n",
       " 'santya',\n",
       " 'pqr',\n",
       " [1, 23, 87, 54, 56],\n",
       " 'xyz',\n",
       " [1, 2, 45, 56],\n",
       " [1, 2, 45, 56]]"
      ]
     },
     "execution_count": 84,
     "metadata": {},
     "output_type": "execute_result"
    }
   ],
   "source": [
    "l1"
   ]
  },
  {
   "cell_type": "code",
   "execution_count": 87,
   "id": "9ed82d78",
   "metadata": {},
   "outputs": [
    {
     "data": {
      "text/plain": [
       "[58475,\n",
       " 'santya',\n",
       " 'pqr',\n",
       " [1, 23, 87, 54, 56],\n",
       " 'xyz',\n",
       " [1, 2, 45, 56],\n",
       " [1, 2, 45, 56],\n",
       " 1,\n",
       " 23,\n",
       " 45,\n",
       " 65,\n",
       " 'fkdjg']"
      ]
     },
     "execution_count": 87,
     "metadata": {},
     "output_type": "execute_result"
    }
   ],
   "source": [
    "l1"
   ]
  },
  {
   "cell_type": "code",
   "execution_count": 85,
   "id": "699015b5",
   "metadata": {},
   "outputs": [],
   "source": [
    "l1.extend([1,23,45,65,\"fkdjg\"])"
   ]
  },
  {
   "cell_type": "code",
   "execution_count": 86,
   "id": "a409cf2d",
   "metadata": {},
   "outputs": [
    {
     "data": {
      "text/plain": [
       "[58475,\n",
       " 'santya',\n",
       " 'pqr',\n",
       " [1, 23, 87, 54, 56],\n",
       " 'xyz',\n",
       " [1, 2, 45, 56],\n",
       " [1, 2, 45, 56],\n",
       " 1,\n",
       " 23,\n",
       " 45,\n",
       " 65,\n",
       " 'fkdjg']"
      ]
     },
     "execution_count": 86,
     "metadata": {},
     "output_type": "execute_result"
    }
   ],
   "source": [
    "l1"
   ]
  },
  {
   "cell_type": "code",
   "execution_count": 88,
   "id": "2e28a734",
   "metadata": {},
   "outputs": [],
   "source": [
    "a = \"I am working with xyz company\""
   ]
  },
  {
   "cell_type": "code",
   "execution_count": 89,
   "id": "31d2e6c8",
   "metadata": {},
   "outputs": [
    {
     "data": {
      "text/plain": [
       "'I am working with x'"
      ]
     },
     "execution_count": 89,
     "metadata": {},
     "output_type": "execute_result"
    }
   ],
   "source": [
    "a[0:-10:1]"
   ]
  },
  {
   "cell_type": "code",
   "execution_count": 90,
   "id": "fc59a95f",
   "metadata": {},
   "outputs": [
    {
     "data": {
      "text/plain": [
       "'yx htiw gnikrow ma '"
      ]
     },
     "execution_count": 90,
     "metadata": {},
     "output_type": "execute_result"
    }
   ],
   "source": [
    "a[-10:0:-1]"
   ]
  },
  {
   "cell_type": "code",
   "execution_count": 91,
   "id": "4725e60f",
   "metadata": {},
   "outputs": [
    {
     "data": {
      "text/plain": [
       "''"
      ]
     },
     "execution_count": 91,
     "metadata": {},
     "output_type": "execute_result"
    }
   ],
   "source": [
    "a[0:-10:-1]"
   ]
  },
  {
   "cell_type": "code",
   "execution_count": 92,
   "id": "1e2dbd71",
   "metadata": {},
   "outputs": [
    {
     "data": {
      "text/plain": [
       "'I'"
      ]
     },
     "execution_count": 92,
     "metadata": {},
     "output_type": "execute_result"
    }
   ],
   "source": [
    "a[0:-100:-1]"
   ]
  },
  {
   "cell_type": "code",
   "execution_count": null,
   "id": "d691974b",
   "metadata": {},
   "outputs": [],
   "source": []
  }
 ],
 "metadata": {
  "kernelspec": {
   "display_name": "Python 3 (ipykernel)",
   "language": "python",
   "name": "python3"
  },
  "language_info": {
   "codemirror_mode": {
    "name": "ipython",
    "version": 3
   },
   "file_extension": ".py",
   "mimetype": "text/x-python",
   "name": "python",
   "nbconvert_exporter": "python",
   "pygments_lexer": "ipython3",
   "version": "3.10.7"
  }
 },
 "nbformat": 4,
 "nbformat_minor": 5
}
