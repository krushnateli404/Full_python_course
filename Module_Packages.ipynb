{
 "cells": [
  {
   "cell_type": "code",
   "execution_count": 1,
   "id": "6f52c833",
   "metadata": {},
   "outputs": [],
   "source": [
    "import os"
   ]
  },
  {
   "cell_type": "code",
   "execution_count": null,
   "id": "35cd1ae2",
   "metadata": {},
   "outputs": [],
   "source": []
  },
  {
   "cell_type": "code",
   "execution_count": 2,
   "id": "5073d91f",
   "metadata": {},
   "outputs": [],
   "source": [
    "def test(a,b):\n",
    "    return a+b"
   ]
  },
  {
   "cell_type": "code",
   "execution_count": 3,
   "id": "aec65832",
   "metadata": {},
   "outputs": [
    {
     "data": {
      "text/plain": [
       "'C:\\\\Users\\\\KRUSHNA\\\\OneDrive\\\\Desktop\\\\Data_science\\\\Full_python_course'"
      ]
     },
     "execution_count": 3,
     "metadata": {},
     "output_type": "execute_result"
    }
   ],
   "source": [
    "pwd() #present working directory"
   ]
  },
  {
   "cell_type": "code",
   "execution_count": 7,
   "id": "bbf6878b",
   "metadata": {},
   "outputs": [
    {
     "name": "stdout",
     "output_type": "stream",
     "text": [
      " Volume in drive C is Windows-SSD\n",
      " Volume Serial Number is 6680-0A33\n",
      "\n",
      " Directory of C:\\Users\\KRUSHNA\\OneDrive\\Desktop\\Data_science\\Full_python_course\n",
      "\n",
      "11-01-2023  23:00    <DIR>          .\n",
      "02-01-2023  21:39    <DIR>          ..\n",
      "11-01-2023  22:50    <DIR>          .ipynb_checkpoints\n",
      "20-12-2022  19:44             7,318 Assighnement_2.ipynb\n",
      "20-12-2022  19:38             3,401 Assighnment-1.ipynb\n",
      "11-01-2023  19:00            25,793 Exception_handling.ipynb\n",
      "10-01-2023  18:40            44,028 File_System.ipynb\n",
      "09-01-2023  13:23            62,875 Function.ipynb\n",
      "07-01-2023  19:16               589 Function_exercise.ipynb\n",
      "09-01-2023  15:45            29,245 Generator.ipynb\n",
      "09-01-2023  18:30             1,441 google.txt\n",
      "19-12-2022  16:08             6,391 if_nested_if.ipynb\n",
      "10-01-2023  21:56            26,609 LIst_RANGE_FUNCTION_WITH_FOR_LOOP.ipynb\n",
      "11-01-2023  20:31    <DIR>          logging\n",
      "11-01-2023  23:00             4,015 Module_Packages.ipynb\n",
      "11-01-2023  22:33                 0 new 2.txt\n",
      "04-01-2023  19:31            31,402 String_list_indexing.ipynb\n",
      "11-01-2023  18:54                 0 test.log\n",
      "11-01-2023  13:27                22 test.txt\n",
      "09-01-2023  17:41                49 test2.txt\n",
      "11-01-2023  22:57                33 test3.py\n",
      "10-01-2023  19:11                21 test4,txt\n",
      "11-01-2023  13:35                 0 test45.txt\n",
      "06-01-2023  19:12            38,153 Tuple_ser_dict.ipynb\n",
      "20-12-2022  20:33             2,035 Untitled.ipynb\n",
      "20-12-2022  21:19               734 Untitled.zip\n",
      "20-12-2022  21:09             3,624 Untitled1.ipynb\n",
      "20-12-2022  21:17               645 Untitled2.ipynb\n",
      "11-01-2023  18:58             3,817 Untitled3.ipynb\n",
      "11-01-2023  22:42             1,328 Untitled5.ipynb\n",
      "20-12-2022  19:08        67,317,917 While_loop.ipynb\n",
      "              27 File(s)     67,611,485 bytes\n",
      "               4 Dir(s)  76,163,764,224 bytes free\n"
     ]
    }
   ],
   "source": [
    "%ls"
   ]
  },
  {
   "cell_type": "markdown",
   "id": "0b61365e",
   "metadata": {},
   "source": [
    "# There are three way of import the user function"
   ]
  },
  {
   "cell_type": "markdown",
   "id": "cfa571e4",
   "metadata": {},
   "source": [
    "# Method A:"
   ]
  },
  {
   "cell_type": "code",
   "execution_count": 1,
   "id": "f9955110",
   "metadata": {},
   "outputs": [],
   "source": [
    "import test3"
   ]
  },
  {
   "cell_type": "code",
   "execution_count": 2,
   "id": "a3d03178",
   "metadata": {},
   "outputs": [
    {
     "data": {
      "text/plain": [
       "9"
      ]
     },
     "execution_count": 2,
     "metadata": {},
     "output_type": "execute_result"
    }
   ],
   "source": [
    "test3.test(4,5)"
   ]
  },
  {
   "cell_type": "code",
   "execution_count": 4,
   "id": "d36bc065",
   "metadata": {},
   "outputs": [
    {
     "data": {
      "text/plain": [
       "20"
      ]
     },
     "execution_count": 4,
     "metadata": {},
     "output_type": "execute_result"
    }
   ],
   "source": [
    "test3.test2(10,2)"
   ]
  },
  {
   "cell_type": "code",
   "execution_count": 5,
   "id": "c9806e7f",
   "metadata": {},
   "outputs": [
    {
     "data": {
      "text/plain": [
       "'this is my test4 function'"
      ]
     },
     "execution_count": 5,
     "metadata": {},
     "output_type": "execute_result"
    }
   ],
   "source": [
    "test3.test4()"
   ]
  },
  {
   "cell_type": "markdown",
   "id": "1577cec1",
   "metadata": {},
   "source": [
    "# Method B:"
   ]
  },
  {
   "cell_type": "code",
   "execution_count": 6,
   "id": "cc7a5a3d",
   "metadata": {},
   "outputs": [],
   "source": [
    "from test3 import test2"
   ]
  },
  {
   "cell_type": "code",
   "execution_count": 8,
   "id": "a5bb19a1",
   "metadata": {},
   "outputs": [
    {
     "data": {
      "text/plain": [
       "8"
      ]
     },
     "execution_count": 8,
     "metadata": {},
     "output_type": "execute_result"
    }
   ],
   "source": [
    "test2(4,2)"
   ]
  },
  {
   "cell_type": "markdown",
   "id": "9e85e326",
   "metadata": {},
   "source": [
    "# Method C:"
   ]
  },
  {
   "cell_type": "code",
   "execution_count": 9,
   "id": "a9a19766",
   "metadata": {},
   "outputs": [],
   "source": [
    "from test3 import *"
   ]
  },
  {
   "cell_type": "code",
   "execution_count": 10,
   "id": "9ae14b36",
   "metadata": {},
   "outputs": [
    {
     "data": {
      "text/plain": [
       "'this is my test4 function'"
      ]
     },
     "execution_count": 10,
     "metadata": {},
     "output_type": "execute_result"
    }
   ],
   "source": [
    "test4()"
   ]
  },
  {
   "cell_type": "code",
   "execution_count": 11,
   "id": "4f1d3e28",
   "metadata": {},
   "outputs": [
    {
     "data": {
      "text/plain": [
       "['In',\n",
       " 'Out',\n",
       " '_',\n",
       " '_10',\n",
       " '_2',\n",
       " '_4',\n",
       " '_5',\n",
       " '_8',\n",
       " '__',\n",
       " '___',\n",
       " '__builtin__',\n",
       " '__builtins__',\n",
       " '__doc__',\n",
       " '__loader__',\n",
       " '__name__',\n",
       " '__package__',\n",
       " '__spec__',\n",
       " '_dh',\n",
       " '_i',\n",
       " '_i1',\n",
       " '_i10',\n",
       " '_i11',\n",
       " '_i2',\n",
       " '_i3',\n",
       " '_i4',\n",
       " '_i5',\n",
       " '_i6',\n",
       " '_i7',\n",
       " '_i8',\n",
       " '_i9',\n",
       " '_ih',\n",
       " '_ii',\n",
       " '_iii',\n",
       " '_oh',\n",
       " 'exit',\n",
       " 'get_ipython',\n",
       " 'quit',\n",
       " 'test',\n",
       " 'test2',\n",
       " 'test3',\n",
       " 'test4']"
      ]
     },
     "execution_count": 11,
     "metadata": {},
     "output_type": "execute_result"
    }
   ],
   "source": [
    "dir()"
   ]
  },
  {
   "cell_type": "code",
   "execution_count": 12,
   "id": "bdb98def",
   "metadata": {},
   "outputs": [
    {
     "data": {
      "text/plain": [
       "<_io.TextIOWrapper name='my_module.py' mode='w' encoding='cp1252'>"
      ]
     },
     "execution_count": 12,
     "metadata": {},
     "output_type": "execute_result"
    }
   ],
   "source": [
    "open(\"my_module.py\",\"w\")"
   ]
  },
  {
   "cell_type": "code",
   "execution_count": 13,
   "id": "434a73a8",
   "metadata": {},
   "outputs": [
    {
     "name": "stdout",
     "output_type": "stream",
     "text": [
      " Volume in drive C is Windows-SSD\n",
      " Volume Serial Number is 6680-0A33\n",
      "\n",
      " Directory of C:\\Users\\KRUSHNA\\OneDrive\\Desktop\\Data_science\\Full_python_course\n",
      "\n",
      "12-01-2023  14:46    <DIR>          .\n",
      "02-01-2023  21:39    <DIR>          ..\n",
      "11-01-2023  22:50    <DIR>          .ipynb_checkpoints\n",
      "12-01-2023  14:24    <DIR>          __pycache__\n",
      "20-12-2022  19:44             7,318 Assighnement_2.ipynb\n",
      "20-12-2022  19:38             3,401 Assighnment-1.ipynb\n",
      "11-01-2023  19:00            25,793 Exception_handling.ipynb\n",
      "10-01-2023  18:40            44,028 File_System.ipynb\n",
      "12-01-2023  14:20    <DIR>          Full_python_course\n",
      "09-01-2023  13:23            62,875 Function.ipynb\n",
      "07-01-2023  19:16               589 Function_exercise.ipynb\n",
      "09-01-2023  15:45            29,245 Generator.ipynb\n",
      "09-01-2023  18:30             1,441 google.txt\n",
      "19-12-2022  16:08             6,391 if_nested_if.ipynb\n",
      "10-01-2023  21:56            26,609 LIst_RANGE_FUNCTION_WITH_FOR_LOOP.ipynb\n",
      "11-01-2023  20:31    <DIR>          logging\n",
      "12-01-2023  14:45             7,809 Module_Packages.ipynb\n",
      "12-01-2023  14:46                 0 my_module.py\n",
      "11-01-2023  22:33                 0 new 2.txt\n",
      "04-01-2023  19:31            31,402 String_list_indexing.ipynb\n",
      "11-01-2023  18:54                 0 test.log\n",
      "11-01-2023  13:27                22 test.txt\n",
      "09-01-2023  17:41                49 test2.txt\n",
      "12-01-2023  14:34               246 test3.py\n",
      "10-01-2023  19:11                21 test4,txt\n",
      "11-01-2023  13:35                 0 test45.txt\n",
      "06-01-2023  19:12            38,153 Tuple_ser_dict.ipynb\n",
      "20-12-2022  20:33             2,035 Untitled.ipynb\n",
      "20-12-2022  21:19               734 Untitled.zip\n",
      "20-12-2022  21:09             3,624 Untitled1.ipynb\n",
      "20-12-2022  21:17               645 Untitled2.ipynb\n",
      "11-01-2023  18:58             3,817 Untitled3.ipynb\n",
      "11-01-2023  23:04             1,807 Untitled5.ipynb\n",
      "20-12-2022  19:08        67,317,917 While_loop.ipynb\n",
      "              28 File(s)     67,615,971 bytes\n",
      "               6 Dir(s)  75,414,716,416 bytes free\n"
     ]
    }
   ],
   "source": [
    "%ls"
   ]
  },
  {
   "cell_type": "code",
   "execution_count": 14,
   "id": "96e2e6da",
   "metadata": {},
   "outputs": [
    {
     "name": "stdout",
     "output_type": "stream",
     "text": [
      " Volume in drive C is Windows-SSD\n",
      " Volume Serial Number is 6680-0A33\n",
      "\n",
      " Directory of C:\\Users\\KRUSHNA\\OneDrive\\Desktop\\Data_science\\Full_python_course\n",
      "\n",
      "12-01-2023  14:47    <DIR>          .\n",
      "02-01-2023  21:39    <DIR>          ..\n",
      "11-01-2023  22:50    <DIR>          .ipynb_checkpoints\n",
      "12-01-2023  14:24    <DIR>          __pycache__\n",
      "20-12-2022  19:44             7,318 Assighnement_2.ipynb\n",
      "20-12-2022  19:38             3,401 Assighnment-1.ipynb\n",
      "11-01-2023  19:00            25,793 Exception_handling.ipynb\n",
      "10-01-2023  18:40            44,028 File_System.ipynb\n",
      "12-01-2023  14:20    <DIR>          Full_python_course\n",
      "12-01-2023  14:47             1,399 Full_python_course - Shortcut (2).lnk\n",
      "12-01-2023  14:47             1,399 Full_python_course - Shortcut (3).lnk\n",
      "12-01-2023  14:47             1,399 Full_python_course - Shortcut.lnk\n",
      "09-01-2023  13:23            62,875 Function.ipynb\n",
      "07-01-2023  19:16               589 Function_exercise.ipynb\n",
      "09-01-2023  15:45            29,245 Generator.ipynb\n",
      "09-01-2023  18:30             1,441 google.txt\n",
      "19-12-2022  16:08             6,391 if_nested_if.ipynb\n",
      "10-01-2023  21:56            26,609 LIst_RANGE_FUNCTION_WITH_FOR_LOOP.ipynb\n",
      "11-01-2023  20:31    <DIR>          logging\n",
      "12-01-2023  14:47            10,910 Module_Packages.ipynb\n",
      "12-01-2023  14:51               202 my_module.py\n",
      "11-01-2023  22:33                 0 new 2.txt\n",
      "04-01-2023  19:31            31,402 String_list_indexing.ipynb\n",
      "11-01-2023  18:54                 0 test.log\n",
      "11-01-2023  13:27                22 test.txt\n",
      "09-01-2023  17:41                49 test2.txt\n",
      "12-01-2023  14:34               246 test3.py\n",
      "10-01-2023  19:11                21 test4,txt\n",
      "11-01-2023  13:35                 0 test45.txt\n",
      "06-01-2023  19:12            38,153 Tuple_ser_dict.ipynb\n",
      "20-12-2022  20:33             2,035 Untitled.ipynb\n",
      "20-12-2022  21:19               734 Untitled.zip\n",
      "20-12-2022  21:09             3,624 Untitled1.ipynb\n",
      "20-12-2022  21:17               645 Untitled2.ipynb\n",
      "11-01-2023  18:58             3,817 Untitled3.ipynb\n",
      "11-01-2023  23:04             1,807 Untitled5.ipynb\n",
      "20-12-2022  19:08        67,317,917 While_loop.ipynb\n",
      "              31 File(s)     67,623,471 bytes\n",
      "               6 Dir(s)  75,414,159,360 bytes free\n"
     ]
    }
   ],
   "source": [
    "%ls"
   ]
  },
  {
   "cell_type": "code",
   "execution_count": 15,
   "id": "c1693f55",
   "metadata": {},
   "outputs": [],
   "source": [
    "import my_module"
   ]
  },
  {
   "cell_type": "code",
   "execution_count": 16,
   "id": "1cdbdf53",
   "metadata": {},
   "outputs": [
    {
     "data": {
      "text/plain": [
       "['data science', 'blockchain', 'web3']"
      ]
     },
     "execution_count": 16,
     "metadata": {},
     "output_type": "execute_result"
    }
   ],
   "source": [
    "my_module.get_job()"
   ]
  },
  {
   "cell_type": "code",
   "execution_count": null,
   "id": "b7754774",
   "metadata": {},
   "outputs": [],
   "source": []
  }
 ],
 "metadata": {
  "kernelspec": {
   "display_name": "Python 3 (ipykernel)",
   "language": "python",
   "name": "python3"
  },
  "language_info": {
   "codemirror_mode": {
    "name": "ipython",
    "version": 3
   },
   "file_extension": ".py",
   "mimetype": "text/x-python",
   "name": "python",
   "nbconvert_exporter": "python",
   "pygments_lexer": "ipython3",
   "version": "3.10.7"
  }
 },
 "nbformat": 4,
 "nbformat_minor": 5
}
