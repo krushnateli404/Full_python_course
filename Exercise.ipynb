{
 "cells": [
  {
   "cell_type": "code",
   "execution_count": 1,
   "id": "41539fe0",
   "metadata": {},
   "outputs": [
    {
     "name": "stdout",
     "output_type": "stream",
     "text": [
      "Enter the two numbers:3 4\n",
      "7\n"
     ]
    }
   ],
   "source": [
    "in_str = input(\"Enter the two numbers:\")\n",
    "a,b = in_str.split()\n",
    "c = int(a)+int(b)\n",
    "print(c)"
   ]
  },
  {
   "cell_type": "code",
   "execution_count": 2,
   "id": "66ec035a",
   "metadata": {},
   "outputs": [
    {
     "data": {
      "text/plain": [
       "['hi', 'hi', 'hid@']"
      ]
     },
     "execution_count": 2,
     "metadata": {},
     "output_type": "execute_result"
    }
   ],
   "source": [
    "str1 = \"hi@hi@hid@\"\n",
    "str1.split('@',2)"
   ]
  },
  {
   "cell_type": "code",
   "execution_count": 3,
   "id": "3c6e0aa4",
   "metadata": {},
   "outputs": [
    {
     "data": {
      "text/plain": [
       "['A', 'B', 'C D E']"
      ]
     },
     "execution_count": 3,
     "metadata": {},
     "output_type": "execute_result"
    }
   ],
   "source": [
    "s1 = 'A B C D E'\n",
    "s1.split(' ',2)"
   ]
  },
  {
   "cell_type": "code",
   "execution_count": 4,
   "id": "81953154",
   "metadata": {},
   "outputs": [
    {
     "name": "stdout",
     "output_type": "stream",
     "text": [
      "1\n",
      "3\n",
      "5\n",
      "7\n",
      "9\n"
     ]
    }
   ],
   "source": [
    "num = 0\n",
    "while num<10:\n",
    "    num = num+1\n",
    "    if(num%2) == 0:\n",
    "        continue\n",
    "    print(num)"
   ]
  },
  {
   "cell_type": "code",
   "execution_count": 5,
   "id": "6a96ad28",
   "metadata": {},
   "outputs": [],
   "source": [
    "i=0\n",
    "if i<10:\n",
    "    pass"
   ]
  },
  {
   "cell_type": "code",
   "execution_count": 6,
   "id": "25d81d21",
   "metadata": {},
   "outputs": [
    {
     "name": "stdout",
     "output_type": "stream",
     "text": [
      "2\n",
      "4\n",
      "6\n",
      "8\n",
      "10\n"
     ]
    }
   ],
   "source": [
    "i =0\n",
    "while i<10:\n",
    "    i=i+1\n",
    "    if(i%2!=0):\n",
    "        pass\n",
    "    else:\n",
    "        print(i)"
   ]
  },
  {
   "cell_type": "code",
   "execution_count": null,
   "id": "57689e96",
   "metadata": {},
   "outputs": [],
   "source": [
    "i =0\n",
    "while i<10:\n",
    "    if i%2==0:\n",
    "        pass\n",
    "    else:\n",
    "        print(i)"
   ]
  },
  {
   "cell_type": "code",
   "execution_count": null,
   "id": "f3406a80",
   "metadata": {},
   "outputs": [],
   "source": [
    "my_list = [\"Mango\",\"Orange\",\"Banana\",\"pineapple\",\"papaya\"]\n",
    "size  = len(my_list)\n",
    "size"
   ]
  },
  {
   "cell_type": "code",
   "execution_count": null,
   "id": "9512c4df",
   "metadata": {},
   "outputs": [],
   "source": [
    "while i<size:\n",
    "    if my_list == 'Mango':\n",
    "        print(\"Mango found\")\n",
    "        break\n",
    "    else:\n",
    "        print(\"Mango is not found\")"
   ]
  },
  {
   "cell_type": "code",
   "execution_count": null,
   "id": "1e4bec1e",
   "metadata": {},
   "outputs": [],
   "source": []
  }
 ],
 "metadata": {
  "kernelspec": {
   "display_name": "Python 3 (ipykernel)",
   "language": "python",
   "name": "python3"
  },
  "language_info": {
   "codemirror_mode": {
    "name": "ipython",
    "version": 3
   },
   "file_extension": ".py",
   "mimetype": "text/x-python",
   "name": "python",
   "nbconvert_exporter": "python",
   "pygments_lexer": "ipython3",
   "version": "3.10.7"
  }
 },
 "nbformat": 4,
 "nbformat_minor": 5
}
