{
 "cells": [
  {
   "cell_type": "markdown",
   "id": "d77f2909",
   "metadata": {},
   "source": [
    "# Difference between tuples and list:\n",
    "    1. closed bracket are different\n",
    "    2. tuple can not support to change element at indexing\n",
    "    3. due to inmutable property of tuple it perform only some operation like count,index\n",
    "    4. tuple is used for data security,database or fix operation cause any one can not access or change it"
   ]
  },
  {
   "cell_type": "markdown",
   "id": "4f67e19b",
   "metadata": {},
   "source": [
    "# Tuples is inmutable"
   ]
  },
  {
   "cell_type": "code",
   "execution_count": null,
   "id": "9d764398",
   "metadata": {},
   "outputs": [],
   "source": [
    "t = (1,2,3,45)"
   ]
  },
  {
   "cell_type": "code",
   "execution_count": 2,
   "id": "3d742dea",
   "metadata": {},
   "outputs": [
    {
     "data": {
      "text/plain": [
       "tuple"
      ]
     },
     "execution_count": 2,
     "metadata": {},
     "output_type": "execute_result"
    }
   ],
   "source": [
    "type(t)"
   ]
  },
  {
   "cell_type": "code",
   "execution_count": 5,
   "id": "723437e2",
   "metadata": {},
   "outputs": [],
   "source": [
    "t1 = (\"krushna\",3243,3+6j,59.5,True)"
   ]
  },
  {
   "cell_type": "code",
   "execution_count": 6,
   "id": "6fa2071c",
   "metadata": {},
   "outputs": [],
   "source": [
    "l1 = [\"krushna\",3243,3+6j,59.5,True]"
   ]
  },
  {
   "cell_type": "code",
   "execution_count": 7,
   "id": "b9616677",
   "metadata": {},
   "outputs": [
    {
     "data": {
      "text/plain": [
       "tuple"
      ]
     },
     "execution_count": 7,
     "metadata": {},
     "output_type": "execute_result"
    }
   ],
   "source": [
    "type(t1)"
   ]
  },
  {
   "cell_type": "code",
   "execution_count": 11,
   "id": "d6b9f14f",
   "metadata": {},
   "outputs": [
    {
     "data": {
      "text/plain": [
       "list"
      ]
     },
     "execution_count": 11,
     "metadata": {},
     "output_type": "execute_result"
    }
   ],
   "source": [
    "type(l1)"
   ]
  },
  {
   "cell_type": "code",
   "execution_count": 12,
   "id": "3895b975",
   "metadata": {},
   "outputs": [],
   "source": [
    "t2 = ()"
   ]
  },
  {
   "cell_type": "code",
   "execution_count": 13,
   "id": "1c12ebf1",
   "metadata": {},
   "outputs": [
    {
     "data": {
      "text/plain": [
       "tuple"
      ]
     },
     "execution_count": 13,
     "metadata": {},
     "output_type": "execute_result"
    }
   ],
   "source": [
    "type(t2)"
   ]
  },
  {
   "cell_type": "code",
   "execution_count": 14,
   "id": "d3535abb",
   "metadata": {},
   "outputs": [
    {
     "data": {
      "text/plain": [
       "('krushna', 3243, (3+6j), 59.5, True)"
      ]
     },
     "execution_count": 14,
     "metadata": {},
     "output_type": "execute_result"
    }
   ],
   "source": [
    "t1"
   ]
  },
  {
   "cell_type": "code",
   "execution_count": 15,
   "id": "7bc79347",
   "metadata": {},
   "outputs": [
    {
     "data": {
      "text/plain": [
       "['krushna', 3243, (3+6j), 59.5, True]"
      ]
     },
     "execution_count": 15,
     "metadata": {},
     "output_type": "execute_result"
    }
   ],
   "source": [
    "l1"
   ]
  },
  {
   "cell_type": "code",
   "execution_count": 16,
   "id": "b45f52fb",
   "metadata": {},
   "outputs": [
    {
     "data": {
      "text/plain": [
       "['krushna', 3243]"
      ]
     },
     "execution_count": 16,
     "metadata": {},
     "output_type": "execute_result"
    }
   ],
   "source": [
    "l1[0:2]"
   ]
  },
  {
   "cell_type": "code",
   "execution_count": 17,
   "id": "b6c83ed1",
   "metadata": {},
   "outputs": [
    {
     "data": {
      "text/plain": [
       "('krushna', 3243)"
      ]
     },
     "execution_count": 17,
     "metadata": {},
     "output_type": "execute_result"
    }
   ],
   "source": [
    "t1[0:2]"
   ]
  },
  {
   "cell_type": "code",
   "execution_count": 18,
   "id": "58a7eae9",
   "metadata": {},
   "outputs": [
    {
     "data": {
      "text/plain": [
       "(True, 59.5, (3+6j), 3243, 'krushna')"
      ]
     },
     "execution_count": 18,
     "metadata": {},
     "output_type": "execute_result"
    }
   ],
   "source": [
    "t1[::-1]"
   ]
  },
  {
   "cell_type": "code",
   "execution_count": 19,
   "id": "b1cec9c6",
   "metadata": {},
   "outputs": [
    {
     "data": {
      "text/plain": [
       "True"
      ]
     },
     "execution_count": 19,
     "metadata": {},
     "output_type": "execute_result"
    }
   ],
   "source": [
    "t1[-1]"
   ]
  },
  {
   "cell_type": "code",
   "execution_count": 20,
   "id": "2ac895c3",
   "metadata": {},
   "outputs": [
    {
     "data": {
      "text/plain": [
       "('krushna', (3+6j), True)"
      ]
     },
     "execution_count": 20,
     "metadata": {},
     "output_type": "execute_result"
    }
   ],
   "source": [
    "t1[0::2]"
   ]
  },
  {
   "cell_type": "code",
   "execution_count": 23,
   "id": "7ad83160",
   "metadata": {},
   "outputs": [
    {
     "data": {
      "text/plain": [
       "('krushna', 3243, (3+6j), 59.5, True)"
      ]
     },
     "execution_count": 23,
     "metadata": {},
     "output_type": "execute_result"
    }
   ],
   "source": [
    "t1[::1]"
   ]
  },
  {
   "cell_type": "code",
   "execution_count": 24,
   "id": "3887d7bc",
   "metadata": {},
   "outputs": [],
   "source": [
    "l2 = [4,5,65,78]"
   ]
  },
  {
   "cell_type": "code",
   "execution_count": 26,
   "id": "bfbc719c",
   "metadata": {},
   "outputs": [],
   "source": [
    "l2[0] = \"krushna\""
   ]
  },
  {
   "cell_type": "code",
   "execution_count": 27,
   "id": "6d192080",
   "metadata": {},
   "outputs": [
    {
     "data": {
      "text/plain": [
       "['krushna', 5, 65, 78]"
      ]
     },
     "execution_count": 27,
     "metadata": {},
     "output_type": "execute_result"
    }
   ],
   "source": [
    "l2"
   ]
  },
  {
   "cell_type": "code",
   "execution_count": 28,
   "id": "7674aa02",
   "metadata": {},
   "outputs": [
    {
     "data": {
      "text/plain": [
       "'krushna'"
      ]
     },
     "execution_count": 28,
     "metadata": {},
     "output_type": "execute_result"
    }
   ],
   "source": [
    "t1[0]"
   ]
  },
  {
   "cell_type": "code",
   "execution_count": 29,
   "id": "5892517b",
   "metadata": {},
   "outputs": [
    {
     "ename": "TypeError",
     "evalue": "'tuple' object does not support item assignment",
     "output_type": "error",
     "traceback": [
      "\u001b[1;31m---------------------------------------------------------------------------\u001b[0m",
      "\u001b[1;31mTypeError\u001b[0m                                 Traceback (most recent call last)",
      "Cell \u001b[1;32mIn [29], line 1\u001b[0m\n\u001b[1;32m----> 1\u001b[0m \u001b[43mt1\u001b[49m\u001b[43m[\u001b[49m\u001b[38;5;241;43m0\u001b[39;49m\u001b[43m]\u001b[49m \u001b[38;5;241m=\u001b[39m \u001b[38;5;124m\"\u001b[39m\u001b[38;5;124msantya\u001b[39m\u001b[38;5;124m\"\u001b[39m\n",
      "\u001b[1;31mTypeError\u001b[0m: 'tuple' object does not support item assignment"
     ]
    }
   ],
   "source": [
    "t1[0] = \"santya\" #tuple can not support to change element by indexing"
   ]
  },
  {
   "cell_type": "code",
   "execution_count": 36,
   "id": "a85af597",
   "metadata": {},
   "outputs": [],
   "source": [
    "t2 = (23,4,5,56,7,23,23,67,87)"
   ]
  },
  {
   "cell_type": "code",
   "execution_count": 37,
   "id": "5481abc4",
   "metadata": {},
   "outputs": [
    {
     "data": {
      "text/plain": [
       "('krushna', 3243, (3+6j), 59.5, True, 23, 4, 5, 56, 7, 23, 23, 67, 87)"
      ]
     },
     "execution_count": 37,
     "metadata": {},
     "output_type": "execute_result"
    }
   ],
   "source": [
    "t1 + t2"
   ]
  },
  {
   "cell_type": "code",
   "execution_count": 38,
   "id": "ad45c644",
   "metadata": {},
   "outputs": [
    {
     "data": {
      "text/plain": [
       "(23, 4, 5, 56, 7, 23, 23, 67, 87, 23, 4, 5, 56, 7, 23, 23, 67, 87)"
      ]
     },
     "execution_count": 38,
     "metadata": {},
     "output_type": "execute_result"
    }
   ],
   "source": [
    "t2*2"
   ]
  },
  {
   "cell_type": "code",
   "execution_count": 39,
   "id": "5a0b587d",
   "metadata": {},
   "outputs": [
    {
     "data": {
      "text/plain": [
       "3"
      ]
     },
     "execution_count": 39,
     "metadata": {},
     "output_type": "execute_result"
    }
   ],
   "source": [
    "t2.count(23)"
   ]
  },
  {
   "cell_type": "code",
   "execution_count": 41,
   "id": "80a65f24",
   "metadata": {},
   "outputs": [
    {
     "data": {
      "text/plain": [
       "1"
      ]
     },
     "execution_count": 41,
     "metadata": {},
     "output_type": "execute_result"
    }
   ],
   "source": [
    "t2.index(4)"
   ]
  },
  {
   "cell_type": "code",
   "execution_count": 42,
   "id": "7e698df3",
   "metadata": {},
   "outputs": [],
   "source": [
    "t = (45,65,6,5,56,(6,4,5),\"krushna\")"
   ]
  },
  {
   "cell_type": "code",
   "execution_count": 43,
   "id": "09e367ee",
   "metadata": {},
   "outputs": [
    {
     "data": {
      "text/plain": [
       "(45, 65, 6, 5, 56, (6, 4, 5), 'krushna')"
      ]
     },
     "execution_count": 43,
     "metadata": {},
     "output_type": "execute_result"
    }
   ],
   "source": [
    "t"
   ]
  },
  {
   "cell_type": "code",
   "execution_count": 44,
   "id": "a40797d6",
   "metadata": {},
   "outputs": [],
   "source": [
    "t1 = ([45,65,76,6],(\"krushna\",56,65,\"teli\"))"
   ]
  },
  {
   "cell_type": "code",
   "execution_count": 45,
   "id": "5ead7698",
   "metadata": {},
   "outputs": [
    {
     "data": {
      "text/plain": [
       "([45, 65, 76, 6], ('krushna', 56, 65, 'teli'))"
      ]
     },
     "execution_count": 45,
     "metadata": {},
     "output_type": "execute_result"
    }
   ],
   "source": [
    "t1"
   ]
  },
  {
   "cell_type": "markdown",
   "id": "edacc13d",
   "metadata": {},
   "source": [
    "# NOTE:tuple only change element if that element has mutable property like list"
   ]
  },
  {
   "cell_type": "code",
   "execution_count": 46,
   "id": "caf16966",
   "metadata": {},
   "outputs": [],
   "source": [
    "t1[0][2] =45"
   ]
  },
  {
   "cell_type": "code",
   "execution_count": 47,
   "id": "2f414ab5",
   "metadata": {},
   "outputs": [
    {
     "data": {
      "text/plain": [
       "([45, 65, 45, 6], ('krushna', 56, 65, 'teli'))"
      ]
     },
     "execution_count": 47,
     "metadata": {},
     "output_type": "execute_result"
    }
   ],
   "source": [
    "t1"
   ]
  },
  {
   "cell_type": "code",
   "execution_count": 48,
   "id": "ee24e0f8",
   "metadata": {},
   "outputs": [],
   "source": [
    "l = [1,2,34,4]"
   ]
  },
  {
   "cell_type": "code",
   "execution_count": 49,
   "id": "dc6adcfa",
   "metadata": {},
   "outputs": [
    {
     "data": {
      "text/plain": [
       "[1, 2, 34, 4]"
      ]
     },
     "execution_count": 49,
     "metadata": {},
     "output_type": "execute_result"
    }
   ],
   "source": [
    "l"
   ]
  },
  {
   "cell_type": "code",
   "execution_count": 50,
   "id": "5b7675eb",
   "metadata": {},
   "outputs": [
    {
     "data": {
      "text/plain": [
       "(1, 2, 34, 4)"
      ]
     },
     "execution_count": 50,
     "metadata": {},
     "output_type": "execute_result"
    }
   ],
   "source": [
    "tuple(l)"
   ]
  },
  {
   "cell_type": "markdown",
   "id": "f645f82a",
   "metadata": {},
   "source": [
    "# SET: it is use for if in the list duplicate element is present and that if we have to called that duplicate element at once then we use set:\n",
    "1. it is not mutable and unmutable it is unordered"
   ]
  },
  {
   "cell_type": "code",
   "execution_count": 1,
   "id": "4310189d",
   "metadata": {},
   "outputs": [],
   "source": [
    "l = [1,2,3,4,5,6,7,8,5,5,5,5,5,5,8,4,4,32,]"
   ]
  },
  {
   "cell_type": "code",
   "execution_count": 2,
   "id": "5c84e78b",
   "metadata": {},
   "outputs": [
    {
     "data": {
      "text/plain": [
       "{1, 2, 3, 4, 5, 6, 7, 8, 32}"
      ]
     },
     "execution_count": 2,
     "metadata": {},
     "output_type": "execute_result"
    }
   ],
   "source": [
    "set(l)"
   ]
  },
  {
   "cell_type": "code",
   "execution_count": 3,
   "id": "1b84aee6",
   "metadata": {},
   "outputs": [],
   "source": [
    "s = {}"
   ]
  },
  {
   "cell_type": "code",
   "execution_count": 4,
   "id": "74d0089c",
   "metadata": {},
   "outputs": [
    {
     "data": {
      "text/plain": [
       "dict"
      ]
     },
     "execution_count": 4,
     "metadata": {},
     "output_type": "execute_result"
    }
   ],
   "source": [
    "type(s)"
   ]
  },
  {
   "cell_type": "code",
   "execution_count": 5,
   "id": "06c11335",
   "metadata": {},
   "outputs": [],
   "source": [
    "s1 ={1,2,3}"
   ]
  },
  {
   "cell_type": "code",
   "execution_count": 7,
   "id": "f474a1d7",
   "metadata": {},
   "outputs": [
    {
     "data": {
      "text/plain": [
       "set"
      ]
     },
     "execution_count": 7,
     "metadata": {},
     "output_type": "execute_result"
    }
   ],
   "source": [
    "type(s1)"
   ]
  },
  {
   "cell_type": "code",
   "execution_count": 8,
   "id": "6b248a8e",
   "metadata": {},
   "outputs": [
    {
     "ename": "TypeError",
     "evalue": "'set' object is not subscriptable",
     "output_type": "error",
     "traceback": [
      "\u001b[1;31m---------------------------------------------------------------------------\u001b[0m",
      "\u001b[1;31mTypeError\u001b[0m                                 Traceback (most recent call last)",
      "Cell \u001b[1;32mIn [8], line 1\u001b[0m\n\u001b[1;32m----> 1\u001b[0m \u001b[43ms1\u001b[49m\u001b[43m[\u001b[49m\u001b[38;5;241;43m0\u001b[39;49m\u001b[43m]\u001b[49m\n",
      "\u001b[1;31mTypeError\u001b[0m: 'set' object is not subscriptable"
     ]
    }
   ],
   "source": [
    "s1[0]"
   ]
  },
  {
   "cell_type": "code",
   "execution_count": 10,
   "id": "6643899b",
   "metadata": {},
   "outputs": [
    {
     "data": {
      "text/plain": [
       "[1, 2, 3]"
      ]
     },
     "execution_count": 10,
     "metadata": {},
     "output_type": "execute_result"
    }
   ],
   "source": [
    "list(s1)"
   ]
  },
  {
   "cell_type": "code",
   "execution_count": 13,
   "id": "44ef362d",
   "metadata": {},
   "outputs": [
    {
     "data": {
      "text/plain": [
       "{1, 2, 3}"
      ]
     },
     "execution_count": 13,
     "metadata": {},
     "output_type": "execute_result"
    }
   ],
   "source": [
    "s1"
   ]
  },
  {
   "cell_type": "code",
   "execution_count": 14,
   "id": "c64b0f35",
   "metadata": {},
   "outputs": [],
   "source": [
    "s1.add(45)"
   ]
  },
  {
   "cell_type": "code",
   "execution_count": 15,
   "id": "84cf302e",
   "metadata": {},
   "outputs": [
    {
     "data": {
      "text/plain": [
       "{1, 2, 3, 45}"
      ]
     },
     "execution_count": 15,
     "metadata": {},
     "output_type": "execute_result"
    }
   ],
   "source": [
    "s1"
   ]
  },
  {
   "cell_type": "code",
   "execution_count": 16,
   "id": "91277154",
   "metadata": {},
   "outputs": [],
   "source": [
    "s1.add(\"krushna\")"
   ]
  },
  {
   "cell_type": "code",
   "execution_count": 17,
   "id": "eea42eb9",
   "metadata": {},
   "outputs": [
    {
     "data": {
      "text/plain": [
       "{1, 2, 3, 45, 'krushna'}"
      ]
     },
     "execution_count": 17,
     "metadata": {},
     "output_type": "execute_result"
    }
   ],
   "source": [
    "s1"
   ]
  },
  {
   "cell_type": "code",
   "execution_count": 18,
   "id": "ca4d0792",
   "metadata": {},
   "outputs": [
    {
     "ename": "TypeError",
     "evalue": "unhashable type: 'list'",
     "output_type": "error",
     "traceback": [
      "\u001b[1;31m---------------------------------------------------------------------------\u001b[0m",
      "\u001b[1;31mTypeError\u001b[0m                                 Traceback (most recent call last)",
      "Cell \u001b[1;32mIn [18], line 1\u001b[0m\n\u001b[1;32m----> 1\u001b[0m \u001b[43ms1\u001b[49m\u001b[38;5;241;43m.\u001b[39;49m\u001b[43madd\u001b[49m\u001b[43m(\u001b[49m\u001b[43m[\u001b[49m\u001b[38;5;241;43m1\u001b[39;49m\u001b[43m,\u001b[49m\u001b[38;5;241;43m3\u001b[39;49m\u001b[43m,\u001b[49m\u001b[38;5;241;43m4\u001b[39;49m\u001b[43m,\u001b[49m\u001b[38;5;241;43m5\u001b[39;49m\u001b[43m]\u001b[49m\u001b[43m)\u001b[49m\n",
      "\u001b[1;31mTypeError\u001b[0m: unhashable type: 'list'"
     ]
    }
   ],
   "source": [
    "s1.add([1,3,4,5])"
   ]
  },
  {
   "cell_type": "code",
   "execution_count": 19,
   "id": "9e2144d7",
   "metadata": {},
   "outputs": [
    {
     "ename": "TypeError",
     "evalue": "unhashable type: 'list'",
     "output_type": "error",
     "traceback": [
      "\u001b[1;31m---------------------------------------------------------------------------\u001b[0m",
      "\u001b[1;31mTypeError\u001b[0m                                 Traceback (most recent call last)",
      "Cell \u001b[1;32mIn [19], line 1\u001b[0m\n\u001b[1;32m----> 1\u001b[0m {[\u001b[38;5;241m3\u001b[39m,\u001b[38;5;241m4\u001b[39m,\u001b[38;5;241m5\u001b[39m,\u001b[38;5;241m6\u001b[39m,],\u001b[38;5;241m54\u001b[39m,\u001b[38;5;241m5\u001b[39m,\u001b[38;5;241m45\u001b[39m,\u001b[38;5;241m4\u001b[39m,\u001b[38;5;241m4\u001b[39m}\n",
      "\u001b[1;31mTypeError\u001b[0m: unhashable type: 'list'"
     ]
    }
   ],
   "source": [
    "{[3,4,5,6,],54,5,45,4,4} # set always take primitive datatype like string,boolean,int,float"
   ]
  },
  {
   "cell_type": "code",
   "execution_count": 21,
   "id": "c68b9533",
   "metadata": {},
   "outputs": [
    {
     "data": {
      "text/plain": [
       "{(3, 4, 5, 6), 4, 45, 5, 54}"
      ]
     },
     "execution_count": 21,
     "metadata": {},
     "output_type": "execute_result"
    }
   ],
   "source": [
    "{(3,4,5,6,),54,5,45,4,4} # it perform only inmutable parameter"
   ]
  },
  {
   "cell_type": "code",
   "execution_count": 23,
   "id": "fe4cc0a5",
   "metadata": {},
   "outputs": [],
   "source": [
    "s = {(3,4,5,6,),(3,4,5,6,),54,5,45,4,4}"
   ]
  },
  {
   "cell_type": "code",
   "execution_count": 24,
   "id": "82971f1a",
   "metadata": {},
   "outputs": [
    {
     "data": {
      "text/plain": [
       "{(3, 4, 5, 6), 4, 45, 5, 54}"
      ]
     },
     "execution_count": 24,
     "metadata": {},
     "output_type": "execute_result"
    }
   ],
   "source": [
    "s"
   ]
  },
  {
   "cell_type": "code",
   "execution_count": 25,
   "id": "7418d17b",
   "metadata": {},
   "outputs": [],
   "source": [
    "s.remove(4)"
   ]
  },
  {
   "cell_type": "code",
   "execution_count": 26,
   "id": "d23cde56",
   "metadata": {},
   "outputs": [
    {
     "data": {
      "text/plain": [
       "{(3, 4, 5, 6), 45, 5, 54}"
      ]
     },
     "execution_count": 26,
     "metadata": {},
     "output_type": "execute_result"
    }
   ],
   "source": [
    "s"
   ]
  },
  {
   "cell_type": "code",
   "execution_count": 27,
   "id": "e6e10110",
   "metadata": {},
   "outputs": [],
   "source": [
    "s.discard(5)"
   ]
  },
  {
   "cell_type": "code",
   "execution_count": 28,
   "id": "54ef1bff",
   "metadata": {},
   "outputs": [
    {
     "data": {
      "text/plain": [
       "{(3, 4, 5, 6), 45, 54}"
      ]
     },
     "execution_count": 28,
     "metadata": {},
     "output_type": "execute_result"
    }
   ],
   "source": [
    "s"
   ]
  },
  {
   "cell_type": "code",
   "execution_count": 30,
   "id": "51355464",
   "metadata": {},
   "outputs": [],
   "source": [
    "s.discard(56)"
   ]
  },
  {
   "cell_type": "code",
   "execution_count": 31,
   "id": "b103e5ae",
   "metadata": {},
   "outputs": [
    {
     "data": {
      "text/plain": [
       "{(3, 4, 5, 6), 54}"
      ]
     },
     "execution_count": 31,
     "metadata": {},
     "output_type": "execute_result"
    }
   ],
   "source": [
    "s"
   ]
  },
  {
   "cell_type": "code",
   "execution_count": 32,
   "id": "dc857d39",
   "metadata": {},
   "outputs": [
    {
     "ename": "KeyError",
     "evalue": "56",
     "output_type": "error",
     "traceback": [
      "\u001b[1;31m---------------------------------------------------------------------------\u001b[0m",
      "\u001b[1;31mKeyError\u001b[0m                                  Traceback (most recent call last)",
      "Cell \u001b[1;32mIn [32], line 1\u001b[0m\n\u001b[1;32m----> 1\u001b[0m \u001b[43ms\u001b[49m\u001b[38;5;241;43m.\u001b[39;49m\u001b[43mremove\u001b[49m\u001b[43m(\u001b[49m\u001b[38;5;241;43m56\u001b[39;49m\u001b[43m)\u001b[49m\n",
      "\u001b[1;31mKeyError\u001b[0m: 56"
     ]
    }
   ],
   "source": [
    "s.remove(56)"
   ]
  },
  {
   "cell_type": "code",
   "execution_count": 34,
   "id": "0b806f96",
   "metadata": {},
   "outputs": [
    {
     "data": {
      "text/plain": [
       "{'Krushna', 'krushna'}"
      ]
     },
     "execution_count": 34,
     "metadata": {},
     "output_type": "execute_result"
    }
   ],
   "source": [
    "{\"krushna\",\"Krushna\"}"
   ]
  },
  {
   "cell_type": "code",
   "execution_count": 35,
   "id": "1051b720",
   "metadata": {},
   "outputs": [],
   "source": [
    "s = {4,5,6,7,67,3,4,5,4,\"krushna\",\"krushna\"}"
   ]
  },
  {
   "cell_type": "code",
   "execution_count": 36,
   "id": "6a5cb955",
   "metadata": {},
   "outputs": [
    {
     "data": {
      "text/plain": [
       "{3, 4, 5, 6, 67, 7, 'krushna'}"
      ]
     },
     "execution_count": 36,
     "metadata": {},
     "output_type": "execute_result"
    }
   ],
   "source": [
    "s"
   ]
  },
  {
   "cell_type": "markdown",
   "id": "b5edc686",
   "metadata": {},
   "source": [
    "# DICTINORY"
   ]
  },
  {
   "cell_type": "code",
   "execution_count": 3,
   "id": "33d297b8",
   "metadata": {},
   "outputs": [],
   "source": [
    "d = {}"
   ]
  },
  {
   "cell_type": "code",
   "execution_count": 4,
   "id": "c698f403",
   "metadata": {},
   "outputs": [
    {
     "data": {
      "text/plain": [
       "dict"
      ]
     },
     "execution_count": 4,
     "metadata": {},
     "output_type": "execute_result"
    }
   ],
   "source": [
    "type(d)"
   ]
  },
  {
   "cell_type": "code",
   "execution_count": 5,
   "id": "49a95412",
   "metadata": {},
   "outputs": [],
   "source": [
    "d = {3,4}"
   ]
  },
  {
   "cell_type": "code",
   "execution_count": 6,
   "id": "6fe2d0a0",
   "metadata": {},
   "outputs": [
    {
     "data": {
      "text/plain": [
       "set"
      ]
     },
     "execution_count": 6,
     "metadata": {},
     "output_type": "execute_result"
    }
   ],
   "source": [
    "type(d)"
   ]
  },
  {
   "cell_type": "code",
   "execution_count": 7,
   "id": "ff5a62c9",
   "metadata": {},
   "outputs": [],
   "source": [
    "d = {4:\"krushna\"}"
   ]
  },
  {
   "cell_type": "code",
   "execution_count": 8,
   "id": "45117e8d",
   "metadata": {},
   "outputs": [],
   "source": [
    "d1 = {\"key1\" : 473,\"key2\":453,\"key3\":\"krushna\",\"key4\":[1,2,3] }"
   ]
  },
  {
   "cell_type": "code",
   "execution_count": 9,
   "id": "2e0dc862",
   "metadata": {},
   "outputs": [],
   "source": [
    "l = [1,2,3,4,5]"
   ]
  },
  {
   "cell_type": "code",
   "execution_count": 10,
   "id": "e3740f97",
   "metadata": {},
   "outputs": [
    {
     "data": {
      "text/plain": [
       "453"
      ]
     },
     "execution_count": 10,
     "metadata": {},
     "output_type": "execute_result"
    }
   ],
   "source": [
    "d1['key2']"
   ]
  },
  {
   "cell_type": "code",
   "execution_count": 12,
   "id": "0d8c81f5",
   "metadata": {},
   "outputs": [],
   "source": [
    "d2 = {\"key1\":[1,23,4,5],\"key2\":\"krushna\",\"key1\":98}"
   ]
  },
  {
   "cell_type": "code",
   "execution_count": 13,
   "id": "5a433636",
   "metadata": {},
   "outputs": [
    {
     "data": {
      "text/plain": [
       "98"
      ]
     },
     "execution_count": 13,
     "metadata": {},
     "output_type": "execute_result"
    }
   ],
   "source": [
    "d2[\"key1\"]"
   ]
  },
  {
   "cell_type": "code",
   "execution_count": 32,
   "id": "4909cb58",
   "metadata": {},
   "outputs": [],
   "source": [
    "d = {'name':\"krushna\",'mo_no':9860448568,'mail_id':\"telikrushna@gmail.com\",'key1':(3,4,5,6),'key2':[1,2,3,4],'key3':{1,23,4,5,6,7,3,3,4,3,4},'key4':{3:4,4:7}}"
   ]
  },
  {
   "cell_type": "code",
   "execution_count": 33,
   "id": "41e3f00b",
   "metadata": {},
   "outputs": [
    {
     "data": {
      "text/plain": [
       "(3, 4, 5, 6)"
      ]
     },
     "execution_count": 33,
     "metadata": {},
     "output_type": "execute_result"
    }
   ],
   "source": [
    "d['key1']"
   ]
  },
  {
   "cell_type": "code",
   "execution_count": 34,
   "id": "cc0bb43c",
   "metadata": {},
   "outputs": [
    {
     "data": {
      "text/plain": [
       "tuple"
      ]
     },
     "execution_count": 34,
     "metadata": {},
     "output_type": "execute_result"
    }
   ],
   "source": [
    "type(d['key1'])"
   ]
  },
  {
   "cell_type": "code",
   "execution_count": 35,
   "id": "1fe11c87",
   "metadata": {},
   "outputs": [
    {
     "data": {
      "text/plain": [
       "set"
      ]
     },
     "execution_count": 35,
     "metadata": {},
     "output_type": "execute_result"
    }
   ],
   "source": [
    "type(d['key3'])"
   ]
  },
  {
   "cell_type": "code",
   "execution_count": 36,
   "id": "7eb0ea8f",
   "metadata": {},
   "outputs": [
    {
     "data": {
      "text/plain": [
       "4"
      ]
     },
     "execution_count": 36,
     "metadata": {},
     "output_type": "execute_result"
    }
   ],
   "source": [
    "d['key1'][1]"
   ]
  },
  {
   "cell_type": "code",
   "execution_count": 37,
   "id": "2482a6be",
   "metadata": {},
   "outputs": [
    {
     "ename": "TypeError",
     "evalue": "'set' object is not subscriptable",
     "output_type": "error",
     "traceback": [
      "\u001b[1;31m---------------------------------------------------------------------------\u001b[0m",
      "\u001b[1;31mTypeError\u001b[0m                                 Traceback (most recent call last)",
      "Cell \u001b[1;32mIn [37], line 1\u001b[0m\n\u001b[1;32m----> 1\u001b[0m \u001b[43md\u001b[49m\u001b[43m[\u001b[49m\u001b[38;5;124;43m'\u001b[39;49m\u001b[38;5;124;43mkey3\u001b[39;49m\u001b[38;5;124;43m'\u001b[39;49m\u001b[43m]\u001b[49m\u001b[43m[\u001b[49m\u001b[38;5;241;43m2\u001b[39;49m\u001b[43m]\u001b[49m\n",
      "\u001b[1;31mTypeError\u001b[0m: 'set' object is not subscriptable"
     ]
    }
   ],
   "source": [
    "d['key3'][2]"
   ]
  },
  {
   "cell_type": "code",
   "execution_count": 39,
   "id": "f7a17b26",
   "metadata": {},
   "outputs": [
    {
     "data": {
      "text/plain": [
       "4"
      ]
     },
     "execution_count": 39,
     "metadata": {},
     "output_type": "execute_result"
    }
   ],
   "source": [
    "d['key4'][3]"
   ]
  },
  {
   "cell_type": "code",
   "execution_count": 40,
   "id": "c6654bd4",
   "metadata": {},
   "outputs": [
    {
     "data": {
      "text/plain": [
       "dict_keys(['name', 'mo_no', 'mail_id', 'key1', 'key2', 'key3', 'key4'])"
      ]
     },
     "execution_count": 40,
     "metadata": {},
     "output_type": "execute_result"
    }
   ],
   "source": [
    "d.keys()"
   ]
  },
  {
   "cell_type": "code",
   "execution_count": 41,
   "id": "f7e1212b",
   "metadata": {},
   "outputs": [
    {
     "data": {
      "text/plain": [
       "dict_values(['krushna', 9860448568, 'telikrushna@gmail.com', (3, 4, 5, 6), [1, 2, 3, 4], {1, 3, 4, 5, 6, 7, 23}, {3: 4, 4: 7}])"
      ]
     },
     "execution_count": 41,
     "metadata": {},
     "output_type": "execute_result"
    }
   ],
   "source": [
    "d.values()"
   ]
  },
  {
   "cell_type": "code",
   "execution_count": 42,
   "id": "5154a4ec",
   "metadata": {},
   "outputs": [
    {
     "data": {
      "text/plain": [
       "dict_items([('name', 'krushna'), ('mo_no', 9860448568), ('mail_id', 'telikrushna@gmail.com'), ('key1', (3, 4, 5, 6)), ('key2', [1, 2, 3, 4]), ('key3', {1, 3, 4, 5, 6, 7, 23}), ('key4', {3: 4, 4: 7})])"
      ]
     },
     "execution_count": 42,
     "metadata": {},
     "output_type": "execute_result"
    }
   ],
   "source": [
    "d.items()"
   ]
  },
  {
   "cell_type": "code",
   "execution_count": 43,
   "id": "df5cc1ae",
   "metadata": {},
   "outputs": [],
   "source": [
    "d = {'key1':\"krushna\",'key2':[1,2,3,4]}"
   ]
  },
  {
   "cell_type": "code",
   "execution_count": 44,
   "id": "e2b1cb61",
   "metadata": {},
   "outputs": [
    {
     "data": {
      "text/plain": [
       "{'key1': 'krushna', 'key2': [1, 2, 3, 4]}"
      ]
     },
     "execution_count": 44,
     "metadata": {},
     "output_type": "execute_result"
    }
   ],
   "source": [
    "d"
   ]
  },
  {
   "cell_type": "code",
   "execution_count": 45,
   "id": "e3fdcde9",
   "metadata": {},
   "outputs": [],
   "source": [
    "d['key3'] = \"Teli\""
   ]
  },
  {
   "cell_type": "code",
   "execution_count": 46,
   "id": "c7a619da",
   "metadata": {},
   "outputs": [
    {
     "data": {
      "text/plain": [
       "{'key1': 'krushna', 'key2': [1, 2, 3, 4], 'key3': 'Teli'}"
      ]
     },
     "execution_count": 46,
     "metadata": {},
     "output_type": "execute_result"
    }
   ],
   "source": [
    "d"
   ]
  },
  {
   "cell_type": "code",
   "execution_count": 47,
   "id": "a06b0859",
   "metadata": {},
   "outputs": [],
   "source": [
    "d['key1'] = \"santya\""
   ]
  },
  {
   "cell_type": "code",
   "execution_count": 48,
   "id": "56d3f13f",
   "metadata": {},
   "outputs": [
    {
     "data": {
      "text/plain": [
       "{'key1': 'santya', 'key2': [1, 2, 3, 4], 'key3': 'Teli'}"
      ]
     },
     "execution_count": 48,
     "metadata": {},
     "output_type": "execute_result"
    }
   ],
   "source": [
    "d"
   ]
  },
  {
   "cell_type": "code",
   "execution_count": 49,
   "id": "18fc2d53",
   "metadata": {},
   "outputs": [],
   "source": [
    "d['key6'] = \"687.7868\""
   ]
  },
  {
   "cell_type": "code",
   "execution_count": 50,
   "id": "41a6aa13",
   "metadata": {},
   "outputs": [
    {
     "data": {
      "text/plain": [
       "{'key1': 'santya', 'key2': [1, 2, 3, 4], 'key3': 'Teli', 'key6': '687.7868'}"
      ]
     },
     "execution_count": 50,
     "metadata": {},
     "output_type": "execute_result"
    }
   ],
   "source": [
    "d"
   ]
  },
  {
   "cell_type": "code",
   "execution_count": 51,
   "id": "813e16e0",
   "metadata": {},
   "outputs": [],
   "source": [
    "del d['key1']"
   ]
  },
  {
   "cell_type": "code",
   "execution_count": 52,
   "id": "bd7a8d98",
   "metadata": {},
   "outputs": [
    {
     "data": {
      "text/plain": [
       "{'key2': [1, 2, 3, 4], 'key3': 'Teli', 'key6': '687.7868'}"
      ]
     },
     "execution_count": 52,
     "metadata": {},
     "output_type": "execute_result"
    }
   ],
   "source": [
    "d"
   ]
  },
  {
   "cell_type": "code",
   "execution_count": 53,
   "id": "baf29eae",
   "metadata": {},
   "outputs": [],
   "source": [
    "del d"
   ]
  },
  {
   "cell_type": "code",
   "execution_count": 54,
   "id": "5f8d167b",
   "metadata": {},
   "outputs": [
    {
     "ename": "NameError",
     "evalue": "name 'd' is not defined",
     "output_type": "error",
     "traceback": [
      "\u001b[1;31m---------------------------------------------------------------------------\u001b[0m",
      "\u001b[1;31mNameError\u001b[0m                                 Traceback (most recent call last)",
      "Cell \u001b[1;32mIn [54], line 1\u001b[0m\n\u001b[1;32m----> 1\u001b[0m \u001b[43md\u001b[49m\n",
      "\u001b[1;31mNameError\u001b[0m: name 'd' is not defined"
     ]
    }
   ],
   "source": [
    "d"
   ]
  },
  {
   "cell_type": "code",
   "execution_count": 55,
   "id": "47b538ab",
   "metadata": {},
   "outputs": [],
   "source": [
    "d1 = {'key1':\"krushna\",'key2':[1,2,3,4]}"
   ]
  },
  {
   "cell_type": "code",
   "execution_count": 56,
   "id": "a3233374",
   "metadata": {},
   "outputs": [
    {
     "ename": "TypeError",
     "evalue": "unhashable type: 'list'",
     "output_type": "error",
     "traceback": [
      "\u001b[1;31m---------------------------------------------------------------------------\u001b[0m",
      "\u001b[1;31mTypeError\u001b[0m                                 Traceback (most recent call last)",
      "Cell \u001b[1;32mIn [56], line 1\u001b[0m\n\u001b[1;32m----> 1\u001b[0m \u001b[43md1\u001b[49m\u001b[43m[\u001b[49m\u001b[43m[\u001b[49m\u001b[38;5;241;43m1\u001b[39;49m\u001b[43m,\u001b[49m\u001b[38;5;241;43m2\u001b[39;49m\u001b[43m,\u001b[49m\u001b[38;5;241;43m3\u001b[39;49m\u001b[43m]\u001b[49m\u001b[43m]\u001b[49m \u001b[38;5;241m=\u001b[39m \u001b[38;5;124m\"\u001b[39m\u001b[38;5;124mteli\u001b[39m\u001b[38;5;124m\"\u001b[39m\n",
      "\u001b[1;31mTypeError\u001b[0m: unhashable type: 'list'"
     ]
    }
   ],
   "source": [
    "d1[[1,2,3]] = \"teli\""
   ]
  },
  {
   "cell_type": "code",
   "execution_count": 57,
   "id": "de1fd18c",
   "metadata": {},
   "outputs": [],
   "source": [
    "d1[(1,2,3)] = \"teli\""
   ]
  },
  {
   "cell_type": "code",
   "execution_count": 58,
   "id": "6070395f",
   "metadata": {},
   "outputs": [
    {
     "data": {
      "text/plain": [
       "{'key1': 'krushna', 'key2': [1, 2, 3, 4], (1, 2, 3): 'teli'}"
      ]
     },
     "execution_count": 58,
     "metadata": {},
     "output_type": "execute_result"
    }
   ],
   "source": [
    "d1"
   ]
  },
  {
   "cell_type": "code",
   "execution_count": 59,
   "id": "06f0d82c",
   "metadata": {},
   "outputs": [
    {
     "data": {
      "text/plain": [
       "'krushna'"
      ]
     },
     "execution_count": 59,
     "metadata": {},
     "output_type": "execute_result"
    }
   ],
   "source": [
    "d1.get(\"key1\")"
   ]
  },
  {
   "cell_type": "code",
   "execution_count": 60,
   "id": "448682d8",
   "metadata": {},
   "outputs": [],
   "source": [
    "d1 = {'key1':'krushna','key2':'devloper'}"
   ]
  },
  {
   "cell_type": "code",
   "execution_count": 61,
   "id": "857fc914",
   "metadata": {},
   "outputs": [],
   "source": [
    "d2 = {'key3':456,\"key4\":[1,23,4,5]}"
   ]
  },
  {
   "cell_type": "code",
   "execution_count": 62,
   "id": "25eec257",
   "metadata": {},
   "outputs": [],
   "source": [
    "d1.update(d2)"
   ]
  },
  {
   "cell_type": "code",
   "execution_count": 63,
   "id": "b5584991",
   "metadata": {},
   "outputs": [
    {
     "data": {
      "text/plain": [
       "{'key1': 'krushna', 'key2': 'devloper', 'key3': 456, 'key4': [1, 23, 4, 5]}"
      ]
     },
     "execution_count": 63,
     "metadata": {},
     "output_type": "execute_result"
    }
   ],
   "source": [
    "d1"
   ]
  },
  {
   "cell_type": "code",
   "execution_count": 64,
   "id": "28896c2c",
   "metadata": {},
   "outputs": [
    {
     "data": {
      "text/plain": [
       "{'key3': 456, 'key4': [1, 23, 4, 5]}"
      ]
     },
     "execution_count": 64,
     "metadata": {},
     "output_type": "execute_result"
    }
   ],
   "source": [
    "d2"
   ]
  },
  {
   "cell_type": "code",
   "execution_count": 65,
   "id": "f83074ec",
   "metadata": {},
   "outputs": [
    {
     "ename": "TypeError",
     "evalue": "unsupported operand type(s) for +: 'dict' and 'dict'",
     "output_type": "error",
     "traceback": [
      "\u001b[1;31m---------------------------------------------------------------------------\u001b[0m",
      "\u001b[1;31mTypeError\u001b[0m                                 Traceback (most recent call last)",
      "Cell \u001b[1;32mIn [65], line 1\u001b[0m\n\u001b[1;32m----> 1\u001b[0m \u001b[43md1\u001b[49m\u001b[43m \u001b[49m\u001b[38;5;241;43m+\u001b[39;49m\u001b[43m \u001b[49m\u001b[43md2\u001b[49m\n",
      "\u001b[1;31mTypeError\u001b[0m: unsupported operand type(s) for +: 'dict' and 'dict'"
     ]
    }
   ],
   "source": [
    "d1 + d2"
   ]
  },
  {
   "cell_type": "code",
   "execution_count": 66,
   "id": "644395c0",
   "metadata": {},
   "outputs": [
    {
     "data": {
      "text/plain": [
       "{'key1': 'krushna', 'key2': 'devloper', 'key3': 456, 'key4': [1, 23, 4, 5]}"
      ]
     },
     "execution_count": 66,
     "metadata": {},
     "output_type": "execute_result"
    }
   ],
   "source": [
    "d1"
   ]
  },
  {
   "cell_type": "code",
   "execution_count": 67,
   "id": "5922da59",
   "metadata": {},
   "outputs": [],
   "source": [
    "key = {'name','mobile_no','email_id'}\n",
    "value = \"krushna\""
   ]
  },
  {
   "cell_type": "code",
   "execution_count": 68,
   "id": "425881ee",
   "metadata": {},
   "outputs": [],
   "source": [
    "d = d1.fromkeys(key,value)"
   ]
  },
  {
   "cell_type": "code",
   "execution_count": 69,
   "id": "a9442eea",
   "metadata": {},
   "outputs": [
    {
     "data": {
      "text/plain": [
       "{'email_id': 'krushna', 'mobile_no': 'krushna', 'name': 'krushna'}"
      ]
     },
     "execution_count": 69,
     "metadata": {},
     "output_type": "execute_result"
    }
   ],
   "source": [
    "d"
   ]
  },
  {
   "cell_type": "code",
   "execution_count": 72,
   "id": "129bca7a",
   "metadata": {},
   "outputs": [],
   "source": [
    "t1 = (1,2,3,4,\"krushna\",True)"
   ]
  },
  {
   "cell_type": "code",
   "execution_count": 73,
   "id": "f790ed85",
   "metadata": {},
   "outputs": [
    {
     "data": {
      "text/plain": [
       "0"
      ]
     },
     "execution_count": 73,
     "metadata": {},
     "output_type": "execute_result"
    }
   ],
   "source": [
    "t1.index(True)"
   ]
  },
  {
   "cell_type": "code",
   "execution_count": null,
   "id": "ffae0bee",
   "metadata": {},
   "outputs": [],
   "source": []
  }
 ],
 "metadata": {
  "kernelspec": {
   "display_name": "Python 3 (ipykernel)",
   "language": "python",
   "name": "python3"
  },
  "language_info": {
   "codemirror_mode": {
    "name": "ipython",
    "version": 3
   },
   "file_extension": ".py",
   "mimetype": "text/x-python",
   "name": "python",
   "nbconvert_exporter": "python",
   "pygments_lexer": "ipython3",
   "version": "3.10.7"
  }
 },
 "nbformat": 4,
 "nbformat_minor": 5
}
