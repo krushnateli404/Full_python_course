{
 "cells": [
  {
   "cell_type": "code",
   "execution_count": 5,
   "id": "fc8eae59",
   "metadata": {},
   "outputs": [
    {
     "name": "stdout",
     "output_type": "stream",
     "text": [
      "Enter the string: kruus\n",
      "k\n",
      "r\n",
      "s\n"
     ]
    }
   ],
   "source": [
    "str1 = str(input(\"Enter the string: \"))\n",
    "i=0\n",
    "for i in range(0,len(str1)):\n",
    "    if str1[i]  in  ['a','i','o','u','e']:\n",
    "        pass\n",
    "    else:\n",
    "        print(str1[i])"
   ]
  },
  {
   "cell_type": "markdown",
   "id": "c64670fb",
   "metadata": {},
   "source": [
    "●\tWrite a program to accept an integer from the user and calculate its factorial"
   ]
  },
  {
   "cell_type": "code",
   "execution_count": 7,
   "id": "83939d08",
   "metadata": {},
   "outputs": [
    {
     "name": "stdout",
     "output_type": "stream",
     "text": [
      "Enter the number:5\n",
      "120\n"
     ]
    }
   ],
   "source": [
    "num = int(input(\"Enter the number:\"))\n",
    "factorial =1\n",
    "\n",
    "\n",
    "for i in range(1,num+1):\n",
    "    if(num == 0 or num ==1):\n",
    "        print(\"1\")\n",
    "    else:\n",
    "        factorial = factorial*i\n",
    "        \n",
    "print(factorial)"
   ]
  },
  {
   "cell_type": "code",
   "execution_count": 13,
   "id": "65d1ef69",
   "metadata": {},
   "outputs": [
    {
     "name": "stdout",
     "output_type": "stream",
     "text": [
      "Enter the number: 4\n",
      "***\n",
      "***\n",
      "***\n"
     ]
    }
   ],
   "source": [
    "in_num = int(input(\"Enter the number: \"))\n",
    "for i in range(1,in_num):\n",
    "    for j in range(1,in_num):\n",
    "        print(\"*\",end=\"\")\n",
    "    print()\n",
    "    "
   ]
  },
  {
   "cell_type": "code",
   "execution_count": 16,
   "id": "c4f89f37",
   "metadata": {},
   "outputs": [
    {
     "name": "stdout",
     "output_type": "stream",
     "text": [
      "Enter the number: 5\n",
      "\n",
      "*\n",
      "**\n",
      "***\n",
      "****\n"
     ]
    }
   ],
   "source": [
    "in_num = int(input(\"Enter the number: \"))\n",
    "for i in range(0,in_num):\n",
    "    for j in range(1,i+1):\n",
    "            print(\"*\",end=\"\")\n",
    "    print()\n",
    "        "
   ]
  },
  {
   "cell_type": "code",
   "execution_count": 21,
   "id": "5d7936bd",
   "metadata": {},
   "outputs": [
    {
     "name": "stdout",
     "output_type": "stream",
     "text": [
      "Enter the number: 4\n",
      "****\n",
      "***\n",
      "**\n",
      "*\n"
     ]
    }
   ],
   "source": [
    "in_num = int(input(\"Enter the number: \"))\n",
    "for i in range(0,in_num):\n",
    "    for j in range(i,in_num):\n",
    "            print(\"*\",end=\"\")\n",
    "    print()"
   ]
  },
  {
   "cell_type": "code",
   "execution_count": null,
   "id": "781a1191",
   "metadata": {},
   "outputs": [],
   "source": []
  }
 ],
 "metadata": {
  "kernelspec": {
   "display_name": "Python 3 (ipykernel)",
   "language": "python",
   "name": "python3"
  },
  "language_info": {
   "codemirror_mode": {
    "name": "ipython",
    "version": 3
   },
   "file_extension": ".py",
   "mimetype": "text/x-python",
   "name": "python",
   "nbconvert_exporter": "python",
   "pygments_lexer": "ipython3",
   "version": "3.10.7"
  }
 },
 "nbformat": 4,
 "nbformat_minor": 5
}
