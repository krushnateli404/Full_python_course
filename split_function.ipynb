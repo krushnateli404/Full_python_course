{
 "cells": [
  {
   "cell_type": "code",
   "execution_count": 2,
   "id": "a1e77b0f",
   "metadata": {},
   "outputs": [
    {
     "data": {
      "text/plain": [
       "['I', 'am', 'coder']"
      ]
     },
     "execution_count": 2,
     "metadata": {},
     "output_type": "execute_result"
    }
   ],
   "source": [
    "str1 = \"I am coder\"\n",
    "str1.split()"
   ]
  },
  {
   "cell_type": "code",
   "execution_count": 4,
   "id": "ed3e7982",
   "metadata": {},
   "outputs": [
    {
     "name": "stdout",
     "output_type": "stream",
     "text": [
      "Enter the three word: krushna sanjay teli\n"
     ]
    }
   ],
   "source": [
    "x = input(\"Enter the three word: \")\n"
   ]
  },
  {
   "cell_type": "code",
   "execution_count": 6,
   "id": "e3a7ce6c",
   "metadata": {},
   "outputs": [],
   "source": [
    "a,b,c = x.split()"
   ]
  },
  {
   "cell_type": "code",
   "execution_count": 7,
   "id": "69a5f114",
   "metadata": {},
   "outputs": [
    {
     "name": "stdout",
     "output_type": "stream",
     "text": [
      "krushna\n"
     ]
    }
   ],
   "source": [
    "print(a)"
   ]
  },
  {
   "cell_type": "code",
   "execution_count": null,
   "id": "ba6a4660",
   "metadata": {},
   "outputs": [],
   "source": [
    "in_str = input(\"Enter the two numbers:\")\n",
    "a,b = in_str.split()\n",
    "c = int(a)+int(b)\n",
    "print(c)\n"
   ]
  },
  {
   "cell_type": "code",
   "execution_count": null,
   "id": "44e12190",
   "metadata": {},
   "outputs": [],
   "source": [
    "a,b = in_Str.split()\n",
    "c = a+b\n",
    "print(c)"
   ]
  }
 ],
 "metadata": {
  "kernelspec": {
   "display_name": "Python 3 (ipykernel)",
   "language": "python",
   "name": "python3"
  },
  "language_info": {
   "codemirror_mode": {
    "name": "ipython",
    "version": 3
   },
   "file_extension": ".py",
   "mimetype": "text/x-python",
   "name": "python",
   "nbconvert_exporter": "python",
   "pygments_lexer": "ipython3",
   "version": "3.10.7"
  }
 },
 "nbformat": 4,
 "nbformat_minor": 5
}
