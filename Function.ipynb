{
 "cells": [
  {
   "cell_type": "code",
   "execution_count": 1,
   "id": "72c90a24",
   "metadata": {},
   "outputs": [
    {
     "ename": "SyntaxError",
     "evalue": "incomplete input (3861551224.py, line 1)",
     "output_type": "error",
     "traceback": [
      "\u001b[1;36m  Cell \u001b[1;32mIn [1], line 1\u001b[1;36m\u001b[0m\n\u001b[1;33m    def test():\u001b[0m\n\u001b[1;37m               ^\u001b[0m\n\u001b[1;31mSyntaxError\u001b[0m\u001b[1;31m:\u001b[0m incomplete input\n"
     ]
    }
   ],
   "source": [
    "def test():"
   ]
  },
  {
   "cell_type": "code",
   "execution_count": null,
   "id": "2d9e3837",
   "metadata": {},
   "outputs": [],
   "source": []
  },
  {
   "cell_type": "code",
   "execution_count": 2,
   "id": "3b27cd80",
   "metadata": {},
   "outputs": [],
   "source": [
    "def test():\n",
    "    pass"
   ]
  },
  {
   "cell_type": "code",
   "execution_count": 3,
   "id": "49ac40f7",
   "metadata": {},
   "outputs": [],
   "source": [
    "def test1():\n",
    "    print(\"This is my first function\")"
   ]
  },
  {
   "cell_type": "code",
   "execution_count": 4,
   "id": "2e69cc13",
   "metadata": {},
   "outputs": [
    {
     "name": "stdout",
     "output_type": "stream",
     "text": [
      "This is my first function\n"
     ]
    }
   ],
   "source": [
    "test1()"
   ]
  },
  {
   "cell_type": "code",
   "execution_count": 5,
   "id": "87225065",
   "metadata": {},
   "outputs": [
    {
     "name": "stdout",
     "output_type": "stream",
     "text": [
      "This is my first function\n"
     ]
    }
   ],
   "source": [
    "a = test1()"
   ]
  },
  {
   "cell_type": "code",
   "execution_count": 6,
   "id": "6533999c",
   "metadata": {},
   "outputs": [
    {
     "ename": "TypeError",
     "evalue": "unsupported operand type(s) for +: 'NoneType' and 'str'",
     "output_type": "error",
     "traceback": [
      "\u001b[1;31m---------------------------------------------------------------------------\u001b[0m",
      "\u001b[1;31mTypeError\u001b[0m                                 Traceback (most recent call last)",
      "Cell \u001b[1;32mIn [6], line 1\u001b[0m\n\u001b[1;32m----> 1\u001b[0m \u001b[43ma\u001b[49m\u001b[43m \u001b[49m\u001b[38;5;241;43m+\u001b[39;49m\u001b[43m \u001b[49m\u001b[38;5;124;43m\"\u001b[39;49m\u001b[38;5;124;43mkrushna\u001b[39;49m\u001b[38;5;124;43m\"\u001b[39;49m\n",
      "\u001b[1;31mTypeError\u001b[0m: unsupported operand type(s) for +: 'NoneType' and 'str'"
     ]
    }
   ],
   "source": [
    "a + \"krushna\""
   ]
  },
  {
   "cell_type": "code",
   "execution_count": 7,
   "id": "15088a2b",
   "metadata": {},
   "outputs": [
    {
     "data": {
      "text/plain": [
       "'krushnateli'"
      ]
     },
     "execution_count": 7,
     "metadata": {},
     "output_type": "execute_result"
    }
   ],
   "source": [
    "\"krushna\" + \"teli\""
   ]
  },
  {
   "cell_type": "code",
   "execution_count": 8,
   "id": "ea8c3c9e",
   "metadata": {},
   "outputs": [
    {
     "name": "stdout",
     "output_type": "stream",
     "text": [
      "This is my first function\n"
     ]
    },
    {
     "data": {
      "text/plain": [
       "NoneType"
      ]
     },
     "execution_count": 8,
     "metadata": {},
     "output_type": "execute_result"
    }
   ],
   "source": [
    "type(test1())"
   ]
  },
  {
   "cell_type": "code",
   "execution_count": 9,
   "id": "c707600c",
   "metadata": {},
   "outputs": [
    {
     "name": "stdout",
     "output_type": "stream",
     "text": [
      "This is my first function\n"
     ]
    }
   ],
   "source": [
    "a = test1()"
   ]
  },
  {
   "cell_type": "code",
   "execution_count": 10,
   "id": "f5db7cc9",
   "metadata": {},
   "outputs": [
    {
     "data": {
      "text/plain": [
       "'None'"
      ]
     },
     "execution_count": 10,
     "metadata": {},
     "output_type": "execute_result"
    }
   ],
   "source": [
    "str(a)"
   ]
  },
  {
   "cell_type": "code",
   "execution_count": 11,
   "id": "d33e4c04",
   "metadata": {},
   "outputs": [],
   "source": [
    "def test2():\n",
    "    return \"This is my second function\""
   ]
  },
  {
   "cell_type": "code",
   "execution_count": 12,
   "id": "5259f7c0",
   "metadata": {},
   "outputs": [
    {
     "data": {
      "text/plain": [
       "'This is my second function'"
      ]
     },
     "execution_count": 12,
     "metadata": {},
     "output_type": "execute_result"
    }
   ],
   "source": [
    "test2()"
   ]
  },
  {
   "cell_type": "code",
   "execution_count": 13,
   "id": "605ff4c7",
   "metadata": {},
   "outputs": [],
   "source": [
    "b = test2()"
   ]
  },
  {
   "cell_type": "code",
   "execution_count": 15,
   "id": "7babbb1a",
   "metadata": {},
   "outputs": [
    {
     "data": {
      "text/plain": [
       "'This is my second function welcome'"
      ]
     },
     "execution_count": 15,
     "metadata": {},
     "output_type": "execute_result"
    }
   ],
   "source": [
    "b + \" welcome\""
   ]
  },
  {
   "cell_type": "code",
   "execution_count": 16,
   "id": "5598c166",
   "metadata": {},
   "outputs": [],
   "source": [
    "def test3():\n",
    "    return 4597"
   ]
  },
  {
   "cell_type": "code",
   "execution_count": 17,
   "id": "94105999",
   "metadata": {},
   "outputs": [
    {
     "data": {
      "text/plain": [
       "int"
      ]
     },
     "execution_count": 17,
     "metadata": {},
     "output_type": "execute_result"
    }
   ],
   "source": [
    "type(test3())"
   ]
  },
  {
   "cell_type": "code",
   "execution_count": 18,
   "id": "b83838b8",
   "metadata": {},
   "outputs": [],
   "source": [
    "def test4():\n",
    "    return 4,5,\"krushna\",[2,3,53]"
   ]
  },
  {
   "cell_type": "code",
   "execution_count": 19,
   "id": "ebe3f2dc",
   "metadata": {},
   "outputs": [],
   "source": [
    "b = test4()"
   ]
  },
  {
   "cell_type": "code",
   "execution_count": 20,
   "id": "eaf87c88",
   "metadata": {},
   "outputs": [
    {
     "data": {
      "text/plain": [
       "(4, 5, 'krushna', [2, 3, 53])"
      ]
     },
     "execution_count": 20,
     "metadata": {},
     "output_type": "execute_result"
    }
   ],
   "source": [
    "b"
   ]
  },
  {
   "cell_type": "code",
   "execution_count": 21,
   "id": "ea499c21",
   "metadata": {},
   "outputs": [
    {
     "data": {
      "text/plain": [
       "5"
      ]
     },
     "execution_count": 21,
     "metadata": {},
     "output_type": "execute_result"
    }
   ],
   "source": [
    "b[1]"
   ]
  },
  {
   "cell_type": "code",
   "execution_count": 22,
   "id": "faef74d4",
   "metadata": {},
   "outputs": [
    {
     "data": {
      "text/plain": [
       "[2, 3, 53]"
      ]
     },
     "execution_count": 22,
     "metadata": {},
     "output_type": "execute_result"
    }
   ],
   "source": [
    "b[3]"
   ]
  },
  {
   "cell_type": "code",
   "execution_count": 23,
   "id": "e9ca5825",
   "metadata": {},
   "outputs": [],
   "source": [
    "x,y,u,v = test4()"
   ]
  },
  {
   "cell_type": "code",
   "execution_count": 24,
   "id": "04e52fce",
   "metadata": {},
   "outputs": [
    {
     "data": {
      "text/plain": [
       "4"
      ]
     },
     "execution_count": 24,
     "metadata": {},
     "output_type": "execute_result"
    }
   ],
   "source": [
    "x"
   ]
  },
  {
   "cell_type": "code",
   "execution_count": 25,
   "id": "dc8774c0",
   "metadata": {},
   "outputs": [
    {
     "data": {
      "text/plain": [
       "5"
      ]
     },
     "execution_count": 25,
     "metadata": {},
     "output_type": "execute_result"
    }
   ],
   "source": [
    "y"
   ]
  },
  {
   "cell_type": "code",
   "execution_count": 26,
   "id": "66bec332",
   "metadata": {},
   "outputs": [
    {
     "data": {
      "text/plain": [
       "'krushna'"
      ]
     },
     "execution_count": 26,
     "metadata": {},
     "output_type": "execute_result"
    }
   ],
   "source": [
    "u"
   ]
  },
  {
   "cell_type": "code",
   "execution_count": 27,
   "id": "d36ac34f",
   "metadata": {},
   "outputs": [
    {
     "data": {
      "text/plain": [
       "[2, 3, 53]"
      ]
     },
     "execution_count": 27,
     "metadata": {},
     "output_type": "execute_result"
    }
   ],
   "source": [
    "v\n"
   ]
  },
  {
   "cell_type": "code",
   "execution_count": 31,
   "id": "f3c71e5f",
   "metadata": {},
   "outputs": [
    {
     "ename": "ValueError",
     "evalue": "not enough values to unpack (expected 6, got 4)",
     "output_type": "error",
     "traceback": [
      "\u001b[1;31m---------------------------------------------------------------------------\u001b[0m",
      "\u001b[1;31mValueError\u001b[0m                                Traceback (most recent call last)",
      "Cell \u001b[1;32mIn [31], line 1\u001b[0m\n\u001b[1;32m----> 1\u001b[0m x,y,u,v,w,z \u001b[38;5;241m=\u001b[39m test4()\n",
      "\u001b[1;31mValueError\u001b[0m: not enough values to unpack (expected 6, got 4)"
     ]
    }
   ],
   "source": [
    "x,y,u,v,w,z = test4()"
   ]
  },
  {
   "cell_type": "code",
   "execution_count": 29,
   "id": "dea00e1e",
   "metadata": {},
   "outputs": [],
   "source": [
    "def test5():\n",
    "    a = 6+7/6\n",
    "    return a"
   ]
  },
  {
   "cell_type": "code",
   "execution_count": 30,
   "id": "fb448706",
   "metadata": {},
   "outputs": [
    {
     "data": {
      "text/plain": [
       "7.166666666666667"
      ]
     },
     "execution_count": 30,
     "metadata": {},
     "output_type": "execute_result"
    }
   ],
   "source": [
    "test5()"
   ]
  },
  {
   "cell_type": "markdown",
   "id": "d47f6224",
   "metadata": {},
   "source": [
    "# if we use print in function then it gives 'Nonetype' datatype"
   ]
  },
  {
   "cell_type": "code",
   "execution_count": 2,
   "id": "60215053",
   "metadata": {},
   "outputs": [],
   "source": [
    "l = [1,2,3,4,\"krushna\",[1,2,4,5]]"
   ]
  },
  {
   "cell_type": "code",
   "execution_count": 1,
   "id": "a0662155",
   "metadata": {},
   "outputs": [],
   "source": [
    "def test6(a):\n",
    "    n =[]\n",
    "    if type(a) == list:\n",
    "        for i in a:\n",
    "            if type(i) == int:\n",
    "                n.append(i)\n",
    "    return n"
   ]
  },
  {
   "cell_type": "code",
   "execution_count": 3,
   "id": "21b0cdcf",
   "metadata": {},
   "outputs": [
    {
     "data": {
      "text/plain": [
       "[1, 2, 3, 4]"
      ]
     },
     "execution_count": 3,
     "metadata": {},
     "output_type": "execute_result"
    }
   ],
   "source": [
    "test6(l)"
   ]
  },
  {
   "cell_type": "code",
   "execution_count": 38,
   "id": "bc707e9e",
   "metadata": {},
   "outputs": [
    {
     "data": {
      "text/plain": [
       "list"
      ]
     },
     "execution_count": 38,
     "metadata": {},
     "output_type": "execute_result"
    }
   ],
   "source": [
    "type(test6(l))"
   ]
  },
  {
   "cell_type": "code",
   "execution_count": 39,
   "id": "5838a5d0",
   "metadata": {},
   "outputs": [
    {
     "data": {
      "text/plain": [
       "[2, 3, 4, 5, 6]"
      ]
     },
     "execution_count": 39,
     "metadata": {},
     "output_type": "execute_result"
    }
   ],
   "source": [
    "test6([2,3,4,5,6,\"krushna\",(\"kjfs\",\"fkjfd\",56)])"
   ]
  },
  {
   "cell_type": "code",
   "execution_count": 43,
   "id": "9c3b1e88",
   "metadata": {},
   "outputs": [],
   "source": [
    "\n",
    "d = {\"name\":\"krushna\",'email':\"telikrushna@gmail\",'mob_no':489854944}"
   ]
  },
  {
   "cell_type": "code",
   "execution_count": 53,
   "id": "10e45e48",
   "metadata": {},
   "outputs": [],
   "source": [
    "def test8(c):\n",
    "    if type(c) == dict:\n",
    "        return c.keys()\n",
    "    else:\n",
    "        return \"you have not passed dict\"\n",
    "    "
   ]
  },
  {
   "cell_type": "code",
   "execution_count": 54,
   "id": "ed20a929",
   "metadata": {},
   "outputs": [
    {
     "data": {
      "text/plain": [
       "dict_keys(['name', 'email', 'mob_no'])"
      ]
     },
     "execution_count": 54,
     "metadata": {},
     "output_type": "execute_result"
    }
   ],
   "source": [
    "test8(d)"
   ]
  },
  {
   "cell_type": "code",
   "execution_count": 59,
   "id": "4a3d9de5",
   "metadata": {},
   "outputs": [],
   "source": [
    "l1 = [1,2,3,4]\n",
    "l2 = [5,6,7,8]"
   ]
  },
  {
   "cell_type": "code",
   "execution_count": 60,
   "id": "d859c45f",
   "metadata": {},
   "outputs": [],
   "source": [
    "def test9(a,b):\n",
    "    if type(a) == list and type(b) == list:\n",
    "        return a.extend(b)\n",
    "    else:\n",
    "        return \"The gievn input is not list\""
   ]
  },
  {
   "cell_type": "code",
   "execution_count": 61,
   "id": "adf0024b",
   "metadata": {},
   "outputs": [],
   "source": [
    "test9(l1,l2)"
   ]
  },
  {
   "cell_type": "code",
   "execution_count": 63,
   "id": "c52634a8",
   "metadata": {},
   "outputs": [
    {
     "data": {
      "text/plain": [
       "[1, 2, 3, 4, 5, 6, 7, 8]"
      ]
     },
     "execution_count": 63,
     "metadata": {},
     "output_type": "execute_result"
    }
   ],
   "source": [
    "l1 #output comes when we called l1 "
   ]
  },
  {
   "cell_type": "code",
   "execution_count": 64,
   "id": "b5bd8566",
   "metadata": {},
   "outputs": [],
   "source": [
    "def test9(a,b):\n",
    "    if type(a) == list and type(b) == list:\n",
    "        a.extend(b)\n",
    "        return a\n",
    "    else:\n",
    "        return \"The gievn input is not list\""
   ]
  },
  {
   "cell_type": "code",
   "execution_count": 65,
   "id": "43c84cad",
   "metadata": {},
   "outputs": [
    {
     "data": {
      "text/plain": [
       "[1, 2, 3, 4, 5, 6, 7, 8, 5, 6, 7, 8]"
      ]
     },
     "execution_count": 65,
     "metadata": {},
     "output_type": "execute_result"
    }
   ],
   "source": [
    "test9(l1,l2)"
   ]
  },
  {
   "cell_type": "code",
   "execution_count": 4,
   "id": "1e958faa",
   "metadata": {},
   "outputs": [],
   "source": [
    "def test10(a):\n",
    "    \"\"\"This is the fuct that help us to create triangle with *\"\"\"\n",
    "    for i in range(0,a):\n",
    "        for j in range(i):\n",
    "            print(\"*\",end = \" \")\n",
    "        print(\" \")\n",
    "        \n",
    "    \n",
    "   \n",
    "    "
   ]
  },
  {
   "cell_type": "code",
   "execution_count": 109,
   "id": "1223a9fd",
   "metadata": {},
   "outputs": [
    {
     "name": "stdout",
     "output_type": "stream",
     "text": [
      " \n",
      "*  \n",
      "* *  \n",
      "* * *  \n",
      "* * * *  \n",
      "* * * * *  \n"
     ]
    }
   ],
   "source": [
    "test10(6)"
   ]
  },
  {
   "cell_type": "code",
   "execution_count": 110,
   "id": "ace54b68",
   "metadata": {},
   "outputs": [
    {
     "name": "stdout",
     "output_type": "stream",
     "text": [
      "Help on function test10 in module __main__:\n",
      "\n",
      "test10(a)\n",
      "    This is the fuct that help us to create triangle with *\n",
      "\n"
     ]
    }
   ],
   "source": [
    "help(test10)"
   ]
  },
  {
   "cell_type": "code",
   "execution_count": 111,
   "id": "11e5d7f9",
   "metadata": {},
   "outputs": [
    {
     "name": "stdout",
     "output_type": "stream",
     "text": [
      " \n",
      "*  \n",
      "* *  \n",
      "* * *  \n",
      "* * * *  \n",
      "Help on NoneType object:\n",
      "\n",
      "class NoneType(object)\n",
      " |  Methods defined here:\n",
      " |  \n",
      " |  __bool__(self, /)\n",
      " |      True if self else False\n",
      " |  \n",
      " |  __repr__(self, /)\n",
      " |      Return repr(self).\n",
      " |  \n",
      " |  ----------------------------------------------------------------------\n",
      " |  Static methods defined here:\n",
      " |  \n",
      " |  __new__(*args, **kwargs) from builtins.type\n",
      " |      Create and return a new object.  See help(type) for accurate signature.\n",
      "\n"
     ]
    }
   ],
   "source": [
    "help(test10(5))"
   ]
  },
  {
   "cell_type": "code",
   "execution_count": null,
   "id": "04175ce4",
   "metadata": {},
   "outputs": [],
   "source": [
    "we have to create a funct which will take string and return a len of the string without using a inbuilt fun len\n",
    "2.write funct which will be able to print an inex of all primitives element which we will pass"
   ]
  },
  {
   "cell_type": "code",
   "execution_count": null,
   "id": "44567f7a",
   "metadata": {},
   "outputs": [],
   "source": []
  },
  {
   "cell_type": "code",
   "execution_count": null,
   "id": "229e9e05",
   "metadata": {},
   "outputs": [],
   "source": []
  },
  {
   "cell_type": "markdown",
   "id": "249d4f2b",
   "metadata": {},
   "source": [
    "# *arg_name ARGUMENT"
   ]
  },
  {
   "cell_type": "code",
   "execution_count": 112,
   "id": "8f607785",
   "metadata": {},
   "outputs": [],
   "source": [
    "def test(a,b,c,d,e):\n",
    "    return a,b,c,d,e"
   ]
  },
  {
   "cell_type": "code",
   "execution_count": 113,
   "id": "03b8c1fa",
   "metadata": {},
   "outputs": [
    {
     "data": {
      "text/plain": [
       "(2, 3, 4, 5, 6)"
      ]
     },
     "execution_count": 113,
     "metadata": {},
     "output_type": "execute_result"
    }
   ],
   "source": [
    "test(2,3,4,5,6)"
   ]
  },
  {
   "cell_type": "code",
   "execution_count": 5,
   "id": "58fffaa1",
   "metadata": {},
   "outputs": [],
   "source": [
    "def test1(*args):\n",
    "    return args"
   ]
  },
  {
   "cell_type": "code",
   "execution_count": 6,
   "id": "b02c11f9",
   "metadata": {},
   "outputs": [
    {
     "data": {
      "text/plain": [
       "(45, 45, 54, 65)"
      ]
     },
     "execution_count": 6,
     "metadata": {},
     "output_type": "execute_result"
    }
   ],
   "source": [
    "test1(45,45,54,65)"
   ]
  },
  {
   "cell_type": "markdown",
   "id": "2c2f832b",
   "metadata": {},
   "source": [
    "# *arg_name gives the output in the form of tuple"
   ]
  },
  {
   "cell_type": "code",
   "execution_count": 116,
   "id": "c79f9af6",
   "metadata": {},
   "outputs": [
    {
     "data": {
      "text/plain": [
       "(12, 23, 4, 'krushna')"
      ]
     },
     "execution_count": 116,
     "metadata": {},
     "output_type": "execute_result"
    }
   ],
   "source": [
    "test1(12,23,4,\"krushna\")"
   ]
  },
  {
   "cell_type": "code",
   "execution_count": 117,
   "id": "1572dfbc",
   "metadata": {},
   "outputs": [
    {
     "data": {
      "text/plain": [
       "([1, 2, 3, 43], 54, (43, 54, 5), 'krushna')"
      ]
     },
     "execution_count": 117,
     "metadata": {},
     "output_type": "execute_result"
    }
   ],
   "source": [
    "test1([1,2,3,43],54,(43,54,5),\"krushna\")"
   ]
  },
  {
   "cell_type": "code",
   "execution_count": 120,
   "id": "55b0011d",
   "metadata": {},
   "outputs": [],
   "source": [
    "def test1(*inpt):\n",
    "    return inpt"
   ]
  },
  {
   "cell_type": "code",
   "execution_count": 123,
   "id": "8de11593",
   "metadata": {},
   "outputs": [
    {
     "data": {
      "text/plain": [
       "(2, 3, 4, 3, 4, 43, 34)"
      ]
     },
     "execution_count": 123,
     "metadata": {},
     "output_type": "execute_result"
    }
   ],
   "source": [
    "test1(2,3,4,3,4,43,34)"
   ]
  },
  {
   "cell_type": "code",
   "execution_count": 7,
   "id": "3e41914e",
   "metadata": {},
   "outputs": [],
   "source": [
    "def test4(*args,a):\n",
    "    return args,a"
   ]
  },
  {
   "cell_type": "code",
   "execution_count": 8,
   "id": "61d0ffd2",
   "metadata": {},
   "outputs": [
    {
     "data": {
      "text/plain": [
       "((45, 546, 54), 4984)"
      ]
     },
     "execution_count": 8,
     "metadata": {},
     "output_type": "execute_result"
    }
   ],
   "source": [
    "test4(45,546,54,a=4984)"
   ]
  },
  {
   "cell_type": "code",
   "execution_count": 9,
   "id": "1796b8b3",
   "metadata": {},
   "outputs": [],
   "source": [
    "def test5(*krushna,a,b,c,d):\n",
    "    return krushna,a,b,c,d"
   ]
  },
  {
   "cell_type": "code",
   "execution_count": 12,
   "id": "8829f0e6",
   "metadata": {},
   "outputs": [
    {
     "data": {
      "text/plain": [
       "(('jkjsdf',), [1, 23, 43, 4], (23, 3, 43), 'djksdj', 4903.4)"
      ]
     },
     "execution_count": 12,
     "metadata": {},
     "output_type": "execute_result"
    }
   ],
   "source": [
    "test5(\"jkjsdf\",a=[1,23,43,4],b=(23,3,43),c =\"djksdj\",d =4903.40)"
   ]
  },
  {
   "cell_type": "code",
   "execution_count": 13,
   "id": "0a879744",
   "metadata": {},
   "outputs": [],
   "source": [
    "def test6(a,*args):\n",
    "    return args,a"
   ]
  },
  {
   "cell_type": "code",
   "execution_count": 16,
   "id": "e161b635",
   "metadata": {},
   "outputs": [
    {
     "ename": "SyntaxError",
     "evalue": "positional argument follows keyword argument (3742262971.py, line 1)",
     "output_type": "error",
     "traceback": [
      "\u001b[1;36m  File \u001b[1;32m\"C:\\Users\\KRUSHNA\\AppData\\Local\\Temp\\ipykernel_17496\\3742262971.py\"\u001b[1;36m, line \u001b[1;32m1\u001b[0m\n\u001b[1;33m    test6(a=4984,45,546,54)\u001b[0m\n\u001b[1;37m                          ^\u001b[0m\n\u001b[1;31mSyntaxError\u001b[0m\u001b[1;31m:\u001b[0m positional argument follows keyword argument\n"
     ]
    }
   ],
   "source": [
    "test6(a=4984,45,546,54)"
   ]
  },
  {
   "cell_type": "code",
   "execution_count": 138,
   "id": "78dcca35",
   "metadata": {},
   "outputs": [],
   "source": [
    "def test7(a,*krushna,b,c):\n",
    "    return a,krushna,b,c"
   ]
  },
  {
   "cell_type": "code",
   "execution_count": 139,
   "id": "c6788870",
   "metadata": {},
   "outputs": [
    {
     "ename": "TypeError",
     "evalue": "test7() missing 2 required keyword-only arguments: 'b' and 'c'",
     "output_type": "error",
     "traceback": [
      "\u001b[1;31m---------------------------------------------------------------------------\u001b[0m",
      "\u001b[1;31mTypeError\u001b[0m                                 Traceback (most recent call last)",
      "Cell \u001b[1;32mIn [139], line 1\u001b[0m\n\u001b[1;32m----> 1\u001b[0m \u001b[43mtest7\u001b[49m\u001b[43m(\u001b[49m\u001b[38;5;124;43m\"\u001b[39;49m\u001b[38;5;124;43mdfkdf\u001b[39;49m\u001b[38;5;124;43m\"\u001b[39;49m\u001b[43m,\u001b[49m\u001b[43m[\u001b[49m\u001b[38;5;241;43m4\u001b[39;49m\u001b[43m,\u001b[49m\u001b[38;5;241;43m43\u001b[39;49m\u001b[43m,\u001b[49m\u001b[38;5;241;43m433\u001b[39;49m\u001b[43m,\u001b[49m\u001b[38;5;241;43m3\u001b[39;49m\u001b[43m]\u001b[49m\u001b[43m,\u001b[49m\u001b[38;5;241;43m4834743\u001b[39;49m\u001b[43m,\u001b[49m\u001b[38;5;241;43m443\u001b[39;49m\u001b[43m,\u001b[49m\u001b[38;5;241;43m4333\u001b[39;49m\u001b[43m,\u001b[49m\u001b[38;5;241;43m443\u001b[39;49m\u001b[43m,\u001b[49m\u001b[38;5;241;43m6\u001b[39;49m\u001b[43m,\u001b[49m\u001b[38;5;241;43m7\u001b[39;49m\u001b[43m)\u001b[49m\n",
      "\u001b[1;31mTypeError\u001b[0m: test7() missing 2 required keyword-only arguments: 'b' and 'c'"
     ]
    }
   ],
   "source": [
    "test7(\"dfkdf\",[4,43,433,3],4834743,443,4333,443,6,7)"
   ]
  },
  {
   "cell_type": "code",
   "execution_count": null,
   "id": "65f6de13",
   "metadata": {},
   "outputs": [],
   "source": [
    "*arg_name gives the output in the form of TUPLE"
   ]
  },
  {
   "cell_type": "code",
   "execution_count": 137,
   "id": "6897610a",
   "metadata": {},
   "outputs": [
    {
     "data": {
      "text/plain": [
       "('dfkdf', ([4, 43, 433, 3], 4834743, 443, 4333, 443), 6, 7)"
      ]
     },
     "execution_count": 137,
     "metadata": {},
     "output_type": "execute_result"
    }
   ],
   "source": [
    "test7(\"dfkdf\",[4,43,433,3],4834743,443,4333,443,b = 6,c= 7)"
   ]
  },
  {
   "cell_type": "code",
   "execution_count": 140,
   "id": "fcb53c7c",
   "metadata": {},
   "outputs": [],
   "source": [
    "def test8(*args):\n",
    "    for i in args:\n",
    "        if type(i) == list:\n",
    "            return i"
   ]
  },
  {
   "cell_type": "code",
   "execution_count": 141,
   "id": "1ab6adb1",
   "metadata": {},
   "outputs": [
    {
     "data": {
      "text/plain": [
       "[12, 333333333333, 43, 43]"
      ]
     },
     "execution_count": 141,
     "metadata": {},
     "output_type": "execute_result"
    }
   ],
   "source": [
    "test8(1,23,43,54,\"krushna\",[12,333333333333,43,43])"
   ]
  },
  {
   "cell_type": "code",
   "execution_count": 142,
   "id": "719cefb7",
   "metadata": {},
   "outputs": [
    {
     "data": {
      "text/plain": [
       "[2, 34, 34]"
      ]
     },
     "execution_count": 142,
     "metadata": {},
     "output_type": "execute_result"
    }
   ],
   "source": [
    "test8(48,43,4,4,545,443,[2,34,34],[344,34,343,232],\"krushna\")"
   ]
  },
  {
   "cell_type": "code",
   "execution_count": 143,
   "id": "1cc5661b",
   "metadata": {},
   "outputs": [],
   "source": [
    "#but print gives 'Nonetype' datatype\n",
    "def test8(*args):\n",
    "    for i in args:\n",
    "        if type(i) == list:\n",
    "            print(i)"
   ]
  },
  {
   "cell_type": "code",
   "execution_count": 144,
   "id": "7a0f8ca3",
   "metadata": {},
   "outputs": [
    {
     "name": "stdout",
     "output_type": "stream",
     "text": [
      "[2, 34, 34]\n",
      "[344, 34, 343, 232]\n"
     ]
    }
   ],
   "source": [
    "test8(48,43,4,4,545,443,[2,34,34],[344,34,343,232],\"krushna\")"
   ]
  },
  {
   "cell_type": "code",
   "execution_count": 145,
   "id": "c5d9c6e2",
   "metadata": {},
   "outputs": [],
   "source": [
    "def test8(*args):\n",
    "    l  = []\n",
    "    for i in args:\n",
    "        if type(i) == list:\n",
    "            l.append(i)\n",
    "    return l"
   ]
  },
  {
   "cell_type": "code",
   "execution_count": 146,
   "id": "0cdd7b5c",
   "metadata": {},
   "outputs": [
    {
     "data": {
      "text/plain": [
       "[[2, 34, 34], [344, 34, 343, 232]]"
      ]
     },
     "execution_count": 146,
     "metadata": {},
     "output_type": "execute_result"
    }
   ],
   "source": [
    "test8(48,43,4,4,545,443,[2,34,34],[344,34,343,232],\"krushna\")"
   ]
  },
  {
   "cell_type": "markdown",
   "id": "fcef046b",
   "metadata": {},
   "source": [
    "# **arg_name : it is use for key-value pair "
   ]
  },
  {
   "cell_type": "code",
   "execution_count": 2,
   "id": "37d657a6",
   "metadata": {},
   "outputs": [],
   "source": [
    "def test(**kwargs):\n",
    "    return kwargs"
   ]
  },
  {
   "cell_type": "code",
   "execution_count": 3,
   "id": "a1fea4f8",
   "metadata": {},
   "outputs": [
    {
     "ename": "TypeError",
     "evalue": "test() takes 0 positional arguments but 6 were given",
     "output_type": "error",
     "traceback": [
      "\u001b[1;31m---------------------------------------------------------------------------\u001b[0m",
      "\u001b[1;31mTypeError\u001b[0m                                 Traceback (most recent call last)",
      "Cell \u001b[1;32mIn [3], line 1\u001b[0m\n\u001b[1;32m----> 1\u001b[0m \u001b[43mtest\u001b[49m\u001b[43m(\u001b[49m\u001b[38;5;241;43m3\u001b[39;49m\u001b[43m,\u001b[49m\u001b[38;5;241;43m24\u001b[39;49m\u001b[43m,\u001b[49m\u001b[38;5;241;43m343\u001b[39;49m\u001b[43m,\u001b[49m\u001b[38;5;241;43m54\u001b[39;49m\u001b[43m,\u001b[49m\u001b[38;5;241;43m65\u001b[39;49m\u001b[43m,\u001b[49m\u001b[38;5;241;43m6\u001b[39;49m\u001b[43m)\u001b[49m\n",
      "\u001b[1;31mTypeError\u001b[0m: test() takes 0 positional arguments but 6 were given"
     ]
    }
   ],
   "source": [
    "test(3,24,343,54,65,6)"
   ]
  },
  {
   "cell_type": "markdown",
   "id": "2976e159",
   "metadata": {},
   "source": [
    "# **arg_name is gives the output in the form of dictinory"
   ]
  },
  {
   "cell_type": "code",
   "execution_count": 4,
   "id": "b78bab4d",
   "metadata": {},
   "outputs": [
    {
     "data": {
      "text/plain": [
       "{'a': 48, 'b': [4, 54, 4, 35, 5]}"
      ]
     },
     "execution_count": 4,
     "metadata": {},
     "output_type": "execute_result"
    }
   ],
   "source": [
    "test(a=48,b=[4,54,4,35,5])"
   ]
  },
  {
   "cell_type": "code",
   "execution_count": 5,
   "id": "97cf0038",
   "metadata": {},
   "outputs": [],
   "source": [
    "def test2(**krushna):\n",
    "    return krushna"
   ]
  },
  {
   "cell_type": "code",
   "execution_count": 6,
   "id": "9d414219",
   "metadata": {},
   "outputs": [
    {
     "data": {
      "text/plain": [
       "{'a': 574, 'g': 544, 'f': [23, 344334, 43, 4534]}"
      ]
     },
     "execution_count": 6,
     "metadata": {},
     "output_type": "execute_result"
    }
   ],
   "source": [
    "test2(a=574,g = 544,f = [23,344334,43,4534,])"
   ]
  },
  {
   "cell_type": "code",
   "execution_count": 7,
   "id": "2bdffa38",
   "metadata": {},
   "outputs": [
    {
     "data": {
      "text/plain": [
       "{'k': 'krushna'}"
      ]
     },
     "execution_count": 7,
     "metadata": {},
     "output_type": "execute_result"
    }
   ],
   "source": [
    "test2(k = 'krushna')"
   ]
  },
  {
   "cell_type": "code",
   "execution_count": 8,
   "id": "f2b6f00a",
   "metadata": {},
   "outputs": [
    {
     "ename": "SyntaxError",
     "evalue": "invalid syntax (1980141635.py, line 1)",
     "output_type": "error",
     "traceback": [
      "\u001b[1;36m  Cell \u001b[1;32mIn [8], line 1\u001b[1;36m\u001b[0m\n\u001b[1;33m    test2(k :'krushna')\u001b[0m\n\u001b[1;37m            ^\u001b[0m\n\u001b[1;31mSyntaxError\u001b[0m\u001b[1;31m:\u001b[0m invalid syntax\n"
     ]
    }
   ],
   "source": [
    "test2(k :'krushna')"
   ]
  },
  {
   "cell_type": "code",
   "execution_count": 9,
   "id": "fa23a066",
   "metadata": {},
   "outputs": [],
   "source": [
    "def test3(**krushna):\n",
    "    return krushna"
   ]
  },
  {
   "cell_type": "code",
   "execution_count": 10,
   "id": "a482dc5b",
   "metadata": {},
   "outputs": [
    {
     "data": {
      "text/plain": [
       "{'name': 'krushna',\n",
       " 'age': '20',\n",
       " 'mob_no': '4985948594',\n",
       " 'mail_id': 'telikrushna@gmail.com',\n",
       " 'address': 'ldklsdflk'}"
      ]
     },
     "execution_count": 10,
     "metadata": {},
     "output_type": "execute_result"
    }
   ],
   "source": [
    "test3(name =\"krushna\",age=\"20\",mob_no = \"4985948594\",mail_id = \"telikrushna@gmail.com\",address = \"ldklsdflk\")"
   ]
  },
  {
   "cell_type": "code",
   "execution_count": 18,
   "id": "c6eb6fb4",
   "metadata": {},
   "outputs": [],
   "source": [
    "def test4(a,**krushna):\n",
    "    return krushna,a"
   ]
  },
  {
   "cell_type": "code",
   "execution_count": 20,
   "id": "92a95cf9",
   "metadata": {},
   "outputs": [
    {
     "ename": "TypeError",
     "evalue": "test4() got multiple values for argument 'a'",
     "output_type": "error",
     "traceback": [
      "\u001b[1;31m---------------------------------------------------------------------------\u001b[0m",
      "\u001b[1;31mTypeError\u001b[0m                                 Traceback (most recent call last)",
      "Cell \u001b[1;32mIn [20], line 1\u001b[0m\n\u001b[1;32m----> 1\u001b[0m \u001b[43mtest4\u001b[49m\u001b[43m(\u001b[49m\u001b[38;5;241;43m4\u001b[39;49m\u001b[43m,\u001b[49m\u001b[43ma\u001b[49m\u001b[38;5;241;43m=\u001b[39;49m\u001b[43m \u001b[49m\u001b[38;5;241;43m45\u001b[39;49m\u001b[43m,\u001b[49m\u001b[43mc\u001b[49m\u001b[43m \u001b[49m\u001b[38;5;241;43m=\u001b[39;49m\u001b[43m \u001b[49m\u001b[38;5;241;43m95\u001b[39;49m\u001b[43m,\u001b[49m\u001b[43md\u001b[49m\u001b[43m \u001b[49m\u001b[38;5;241;43m=\u001b[39;49m\u001b[43m \u001b[49m\u001b[38;5;241;43m59\u001b[39;49m\u001b[43m,\u001b[49m\u001b[43me\u001b[49m\u001b[43m \u001b[49m\u001b[38;5;241;43m=\u001b[39;49m\u001b[43m \u001b[49m\u001b[38;5;241;43m69\u001b[39;49m\u001b[43m)\u001b[49m\n",
      "\u001b[1;31mTypeError\u001b[0m: test4() got multiple values for argument 'a'"
     ]
    }
   ],
   "source": [
    "test4(4,a= 45,c = 95,d = 59,e = 69)"
   ]
  },
  {
   "cell_type": "code",
   "execution_count": 16,
   "id": "177e2166",
   "metadata": {},
   "outputs": [
    {
     "data": {
      "text/plain": [
       "({'b': 45, 'c': 95, 'd': 59, 'e': 69}, 4)"
      ]
     },
     "execution_count": 16,
     "metadata": {},
     "output_type": "execute_result"
    }
   ],
   "source": [
    "test4(a= 4,b = 45,c = 95,d = 59,e = 69)"
   ]
  },
  {
   "cell_type": "markdown",
   "id": "a4e178f4",
   "metadata": {},
   "source": [
    "# we can't use random position** and *  at the same time"
   ]
  },
  {
   "cell_type": "code",
   "execution_count": 21,
   "id": "9a8ad138",
   "metadata": {},
   "outputs": [
    {
     "ename": "SyntaxError",
     "evalue": "invalid syntax (203560580.py, line 1)",
     "output_type": "error",
     "traceback": [
      "\u001b[1;36m  Cell \u001b[1;32mIn [21], line 1\u001b[1;36m\u001b[0m\n\u001b[1;33m    def test5(a,**krushna,*args):\u001b[0m\n\u001b[1;37m                          ^\u001b[0m\n\u001b[1;31mSyntaxError\u001b[0m\u001b[1;31m:\u001b[0m invalid syntax\n"
     ]
    }
   ],
   "source": [
    "def test5(a,**krushna,*args):\n",
    "    return a,krushna,args"
   ]
  },
  {
   "cell_type": "markdown",
   "id": "660ce036",
   "metadata": {},
   "source": [
    "#  single_hashtrick_arg_name is always before the double_hashtrick_arg_name"
   ]
  },
  {
   "cell_type": "code",
   "execution_count": null,
   "id": "dc10e864",
   "metadata": {},
   "outputs": [],
   "source": [
    "def test5(a,*args,**krushna):\n",
    "    return a,args,krushna"
   ]
  },
  {
   "cell_type": "code",
   "execution_count": 24,
   "id": "8070b897",
   "metadata": {},
   "outputs": [
    {
     "data": {
      "text/plain": [
       "(48, (3443, 65, 776, 87), {'g': 945, 'l': 4343})"
      ]
     },
     "execution_count": 24,
     "metadata": {},
     "output_type": "execute_result"
    }
   ],
   "source": [
    "test5(48,3443,65,776,87,g=945,l=4343)"
   ]
  },
  {
   "cell_type": "code",
   "execution_count": 25,
   "id": "4ea317e9",
   "metadata": {},
   "outputs": [],
   "source": [
    "def test6(a,b):\n",
    "    return a*b"
   ]
  },
  {
   "cell_type": "code",
   "execution_count": 26,
   "id": "d1c410e4",
   "metadata": {},
   "outputs": [
    {
     "data": {
      "text/plain": [
       "20"
      ]
     },
     "execution_count": 26,
     "metadata": {},
     "output_type": "execute_result"
    }
   ],
   "source": [
    "test6(4,5)"
   ]
  },
  {
   "cell_type": "markdown",
   "id": "3fa36fe8",
   "metadata": {},
   "source": [
    "# Lambda function"
   ]
  },
  {
   "cell_type": "code",
   "execution_count": 27,
   "id": "665b3c3b",
   "metadata": {},
   "outputs": [
    {
     "data": {
      "text/plain": [
       "<function __main__.<lambda>(a, b)>"
      ]
     },
     "execution_count": 27,
     "metadata": {},
     "output_type": "execute_result"
    }
   ],
   "source": [
    "lambda a,b :a*b"
   ]
  },
  {
   "cell_type": "code",
   "execution_count": 28,
   "id": "72c66f9a",
   "metadata": {},
   "outputs": [],
   "source": [
    "a = lambda a,b :a*b"
   ]
  },
  {
   "cell_type": "code",
   "execution_count": 29,
   "id": "c3741828",
   "metadata": {},
   "outputs": [
    {
     "data": {
      "text/plain": [
       "20"
      ]
     },
     "execution_count": 29,
     "metadata": {},
     "output_type": "execute_result"
    }
   ],
   "source": [
    "a(4,5)"
   ]
  },
  {
   "cell_type": "code",
   "execution_count": 31,
   "id": "7ddf4887",
   "metadata": {},
   "outputs": [],
   "source": [
    "b  = lambda a,b :(a*b,a+b)"
   ]
  },
  {
   "cell_type": "code",
   "execution_count": 32,
   "id": "1fef2711",
   "metadata": {},
   "outputs": [
    {
     "data": {
      "text/plain": [
       "(36, 12)"
      ]
     },
     "execution_count": 32,
     "metadata": {},
     "output_type": "execute_result"
    }
   ],
   "source": [
    "b(6,6)"
   ]
  },
  {
   "cell_type": "code",
   "execution_count": 17,
   "id": "5f9de327",
   "metadata": {},
   "outputs": [],
   "source": [
    "c = lambda *a:a"
   ]
  },
  {
   "cell_type": "code",
   "execution_count": 18,
   "id": "8f541131",
   "metadata": {},
   "outputs": [
    {
     "data": {
      "text/plain": [
       "(54, 65, 776)"
      ]
     },
     "execution_count": 18,
     "metadata": {},
     "output_type": "execute_result"
    }
   ],
   "source": [
    "c(54,65,776)"
   ]
  },
  {
   "cell_type": "code",
   "execution_count": 36,
   "id": "37f63934",
   "metadata": {},
   "outputs": [],
   "source": [
    "x = lambda x:[print(i) for i in x]"
   ]
  },
  {
   "cell_type": "code",
   "execution_count": 37,
   "id": "09a379c5",
   "metadata": {},
   "outputs": [
    {
     "name": "stdout",
     "output_type": "stream",
     "text": [
      "2\n",
      "3\n",
      "43\n",
      "5\n"
     ]
    },
    {
     "data": {
      "text/plain": [
       "[None, None, None, None]"
      ]
     },
     "execution_count": 37,
     "metadata": {},
     "output_type": "execute_result"
    }
   ],
   "source": [
    "x([2,3,43,5])"
   ]
  },
  {
   "cell_type": "code",
   "execution_count": 21,
   "id": "821b9c00",
   "metadata": {},
   "outputs": [],
   "source": [
    "x = lambda x:[ i**2 for i in x]"
   ]
  },
  {
   "cell_type": "code",
   "execution_count": 22,
   "id": "51f78c11",
   "metadata": {},
   "outputs": [
    {
     "data": {
      "text/plain": [
       "[9, 198025, 4225, 4225]"
      ]
     },
     "execution_count": 22,
     "metadata": {},
     "output_type": "execute_result"
    }
   ],
   "source": [
    "x([3,445,65,65])"
   ]
  },
  {
   "cell_type": "code",
   "execution_count": 40,
   "id": "67d1e316",
   "metadata": {},
   "outputs": [],
   "source": [
    "l = [4,34,4,34]"
   ]
  },
  {
   "cell_type": "code",
   "execution_count": 41,
   "id": "66430bbc",
   "metadata": {},
   "outputs": [],
   "source": [
    "l1 = []\n",
    "for i in l:\n",
    "    l1.append(i)"
   ]
  },
  {
   "cell_type": "code",
   "execution_count": 42,
   "id": "f6a8ea7b",
   "metadata": {},
   "outputs": [
    {
     "data": {
      "text/plain": [
       "[4, 34, 4, 34]"
      ]
     },
     "execution_count": 42,
     "metadata": {},
     "output_type": "execute_result"
    }
   ],
   "source": [
    "l1"
   ]
  },
  {
   "cell_type": "code",
   "execution_count": 44,
   "id": "01e8969b",
   "metadata": {},
   "outputs": [
    {
     "data": {
      "text/plain": [
       "[4, 34, 4, 34]"
      ]
     },
     "execution_count": 44,
     "metadata": {},
     "output_type": "execute_result"
    }
   ],
   "source": [
    "[i for i in l]"
   ]
  },
  {
   "cell_type": "code",
   "execution_count": 45,
   "id": "78f6702e",
   "metadata": {},
   "outputs": [],
   "source": [
    "a = lambda **kwrgs:kwrgs"
   ]
  },
  {
   "cell_type": "code",
   "execution_count": 46,
   "id": "0d267784",
   "metadata": {},
   "outputs": [
    {
     "data": {
      "text/plain": [
       "{'a': 445, 'b': 544}"
      ]
     },
     "execution_count": 46,
     "metadata": {},
     "output_type": "execute_result"
    }
   ],
   "source": [
    "a(a=445,b = 544)"
   ]
  },
  {
   "cell_type": "code",
   "execution_count": 47,
   "id": "761b49fc",
   "metadata": {},
   "outputs": [],
   "source": [
    "x = lambda x:[ i for i in x]"
   ]
  },
  {
   "cell_type": "code",
   "execution_count": 49,
   "id": "a56515b3",
   "metadata": {},
   "outputs": [
    {
     "data": {
      "text/plain": [
       "[3, 24, 35]"
      ]
     },
     "execution_count": 49,
     "metadata": {},
     "output_type": "execute_result"
    }
   ],
   "source": [
    "x([3,24,35])"
   ]
  },
  {
   "cell_type": "code",
   "execution_count": 23,
   "id": "4a80c399",
   "metadata": {},
   "outputs": [],
   "source": [
    "a = 10\n",
    "def test8(c,d):\n",
    "    return c*d"
   ]
  },
  {
   "cell_type": "code",
   "execution_count": 24,
   "id": "90334d18",
   "metadata": {},
   "outputs": [
    {
     "data": {
      "text/plain": [
       "5000"
      ]
     },
     "execution_count": 24,
     "metadata": {},
     "output_type": "execute_result"
    }
   ],
   "source": [
    "test8(a,500)"
   ]
  },
  {
   "cell_type": "code",
   "execution_count": 53,
   "id": "73c0a3e8",
   "metadata": {},
   "outputs": [
    {
     "data": {
      "text/plain": [
       "20"
      ]
     },
     "execution_count": 53,
     "metadata": {},
     "output_type": "execute_result"
    }
   ],
   "source": [
    "test8(4,5)"
   ]
  },
  {
   "cell_type": "code",
   "execution_count": 54,
   "id": "5a987a37",
   "metadata": {},
   "outputs": [],
   "source": [
    "a = 10\n",
    "def test6(c,d):\n",
    "    a = 5\n",
    "    return c*d"
   ]
  },
  {
   "cell_type": "code",
   "execution_count": 55,
   "id": "b97acefc",
   "metadata": {},
   "outputs": [
    {
     "data": {
      "text/plain": [
       "100"
      ]
     },
     "execution_count": 55,
     "metadata": {},
     "output_type": "execute_result"
    }
   ],
   "source": [
    "test6(a,10)"
   ]
  },
  {
   "cell_type": "code",
   "execution_count": 25,
   "id": "1910f839",
   "metadata": {},
   "outputs": [],
   "source": [
    "a = 10\n",
    "def test6(c,d):\n",
    "    c = 5\n",
    "    return c*d"
   ]
  },
  {
   "cell_type": "code",
   "execution_count": 26,
   "id": "9a8c4d08",
   "metadata": {},
   "outputs": [
    {
     "data": {
      "text/plain": [
       "250"
      ]
     },
     "execution_count": 26,
     "metadata": {},
     "output_type": "execute_result"
    }
   ],
   "source": [
    "test6(a,50) #it takes local value of c i.e inside the function"
   ]
  },
  {
   "cell_type": "code",
   "execution_count": 65,
   "id": "dc3e63bf",
   "metadata": {},
   "outputs": [],
   "source": [
    "c = 10\n",
    "def test6(c,d):\n",
    "    c = 5\n",
    "    return c*d"
   ]
  },
  {
   "cell_type": "code",
   "execution_count": 66,
   "id": "b4c62882",
   "metadata": {},
   "outputs": [
    {
     "data": {
      "text/plain": [
       "20"
      ]
     },
     "execution_count": 66,
     "metadata": {},
     "output_type": "execute_result"
    }
   ],
   "source": [
    "test6(5,4)"
   ]
  },
  {
   "cell_type": "code",
   "execution_count": 69,
   "id": "065b1c6f",
   "metadata": {},
   "outputs": [
    {
     "data": {
      "text/plain": [
       "10"
      ]
     },
     "execution_count": 69,
     "metadata": {},
     "output_type": "execute_result"
    }
   ],
   "source": [
    "c  #it gives the globel value"
   ]
  },
  {
   "cell_type": "code",
   "execution_count": 70,
   "id": "2797ce9c",
   "metadata": {},
   "outputs": [],
   "source": [
    "c = 10\n",
    "def test6(c,d):\n",
    "    c = 5\n",
    "    return c*d"
   ]
  },
  {
   "cell_type": "code",
   "execution_count": 71,
   "id": "c0a6cb0a",
   "metadata": {},
   "outputs": [
    {
     "data": {
      "text/plain": [
       "20"
      ]
     },
     "execution_count": 71,
     "metadata": {},
     "output_type": "execute_result"
    }
   ],
   "source": [
    "test6(c,4)"
   ]
  },
  {
   "cell_type": "code",
   "execution_count": 73,
   "id": "8780262a",
   "metadata": {},
   "outputs": [],
   "source": [
    "l = [1,2,43,54]\n",
    "l1 = []\n",
    "for i in l:\n",
    "    l1.append(i+2)"
   ]
  },
  {
   "cell_type": "code",
   "execution_count": 74,
   "id": "fc95a191",
   "metadata": {},
   "outputs": [
    {
     "data": {
      "text/plain": [
       "[3, 4, 45, 56]"
      ]
     },
     "execution_count": 74,
     "metadata": {},
     "output_type": "execute_result"
    }
   ],
   "source": [
    "l1"
   ]
  },
  {
   "cell_type": "code",
   "execution_count": 75,
   "id": "14db398f",
   "metadata": {},
   "outputs": [],
   "source": [
    "def test7(a):\n",
    "    l1 = []\n",
    "    for i in a:\n",
    "        l1.append(i+2)\n",
    "    return l1"
   ]
  },
  {
   "cell_type": "code",
   "execution_count": 77,
   "id": "fce08bdf",
   "metadata": {},
   "outputs": [],
   "source": [
    "l = [2,3,43,53,4,3]"
   ]
  },
  {
   "cell_type": "code",
   "execution_count": 79,
   "id": "9019c7a0",
   "metadata": {},
   "outputs": [
    {
     "data": {
      "text/plain": [
       "[4, 5, 45, 55, 6, 5]"
      ]
     },
     "execution_count": 79,
     "metadata": {},
     "output_type": "execute_result"
    }
   ],
   "source": [
    "test7(l)"
   ]
  },
  {
   "cell_type": "code",
   "execution_count": 82,
   "id": "90d3395d",
   "metadata": {},
   "outputs": [],
   "source": [
    "a = lambda a:[i+2 for i in a]"
   ]
  },
  {
   "cell_type": "code",
   "execution_count": 83,
   "id": "c584bc45",
   "metadata": {},
   "outputs": [
    {
     "data": {
      "text/plain": [
       "[4, 5, 45, 55, 6, 5]"
      ]
     },
     "execution_count": 83,
     "metadata": {},
     "output_type": "execute_result"
    }
   ],
   "source": [
    "a(l)"
   ]
  },
  {
   "cell_type": "code",
   "execution_count": 84,
   "id": "219ebe1b",
   "metadata": {},
   "outputs": [
    {
     "data": {
      "text/plain": [
       "[4, 9, 1849, 2809, 16, 9]"
      ]
     },
     "execution_count": 84,
     "metadata": {},
     "output_type": "execute_result"
    }
   ],
   "source": [
    "[i**2 for i in l]"
   ]
  },
  {
   "cell_type": "code",
   "execution_count": 85,
   "id": "e5264524",
   "metadata": {},
   "outputs": [
    {
     "data": {
      "text/plain": [
       "[(4, 4), (9, 5), (1849, 45), (2809, 55), (16, 6), (9, 5)]"
      ]
     },
     "execution_count": 85,
     "metadata": {},
     "output_type": "execute_result"
    }
   ],
   "source": [
    "[(i**2,i+2)for i in l]"
   ]
  },
  {
   "cell_type": "code",
   "execution_count": 86,
   "id": "1353dd02",
   "metadata": {},
   "outputs": [
    {
     "data": {
      "text/plain": [
       "[(4, 4), (9, 5), (9, 5)]"
      ]
     },
     "execution_count": 86,
     "metadata": {},
     "output_type": "execute_result"
    }
   ],
   "source": [
    "[(i**2,i+2)for i in l if i<4]"
   ]
  },
  {
   "cell_type": "code",
   "execution_count": 90,
   "id": "a92de7dc",
   "metadata": {},
   "outputs": [],
   "source": [
    "l1 = []\n",
    "for i in l:\n",
    "    if i <4:\n",
    "        l1.append((i**2,i+2))"
   ]
  },
  {
   "cell_type": "code",
   "execution_count": 91,
   "id": "96afb975",
   "metadata": {},
   "outputs": [
    {
     "data": {
      "text/plain": [
       "[(4, 4), (9, 5), (9, 5)]"
      ]
     },
     "execution_count": 91,
     "metadata": {},
     "output_type": "execute_result"
    }
   ],
   "source": [
    "l1"
   ]
  },
  {
   "cell_type": "code",
   "execution_count": 92,
   "id": "f6f8ece5",
   "metadata": {},
   "outputs": [
    {
     "data": {
      "text/plain": [
       "[(9, 5), (9, 5)]"
      ]
     },
     "execution_count": 92,
     "metadata": {},
     "output_type": "execute_result"
    }
   ],
   "source": [
    "[(i**2,i+2)for i in l if i<4 if i>2]"
   ]
  },
  {
   "cell_type": "code",
   "execution_count": 95,
   "id": "0e5bfcf7",
   "metadata": {},
   "outputs": [
    {
     "data": {
      "text/plain": [
       "[2, 4]"
      ]
     },
     "execution_count": 95,
     "metadata": {},
     "output_type": "execute_result"
    }
   ],
   "source": [
    "[i for i in l if i%2 ==0]"
   ]
  },
  {
   "cell_type": "code",
   "execution_count": 96,
   "id": "79e67ae5",
   "metadata": {},
   "outputs": [],
   "source": [
    "d = {1:1,2:4,3:9}"
   ]
  },
  {
   "cell_type": "code",
   "execution_count": 98,
   "id": "c23630bd",
   "metadata": {},
   "outputs": [
    {
     "data": {
      "text/plain": [
       "{0: 0, 1: 1, 2: 4, 3: 9, 4: 16, 5: 25, 6: 36, 7: 49, 8: 64, 9: 81}"
      ]
     },
     "execution_count": 98,
     "metadata": {},
     "output_type": "execute_result"
    }
   ],
   "source": [
    "{i:i**2 for i in range(10)}"
   ]
  },
  {
   "cell_type": "code",
   "execution_count": 101,
   "id": "4edc501f",
   "metadata": {},
   "outputs": [],
   "source": [
    "d1 = {}\n",
    "for i in range(10):\n",
    "    d1[i]=i**2"
   ]
  },
  {
   "cell_type": "code",
   "execution_count": 102,
   "id": "ada17417",
   "metadata": {},
   "outputs": [
    {
     "data": {
      "text/plain": [
       "{0: 0, 1: 1, 2: 4, 3: 9, 4: 16, 5: 25, 6: 36, 7: 49, 8: 64, 9: 81}"
      ]
     },
     "execution_count": 102,
     "metadata": {},
     "output_type": "execute_result"
    }
   ],
   "source": [
    "d1"
   ]
  },
  {
   "cell_type": "code",
   "execution_count": 103,
   "id": "4ace7208",
   "metadata": {},
   "outputs": [
    {
     "data": {
      "text/plain": [
       "<generator object <genexpr> at 0x000001C83B697B50>"
      ]
     },
     "execution_count": 103,
     "metadata": {},
     "output_type": "execute_result"
    }
   ],
   "source": [
    "(i for i in range(10))"
   ]
  },
  {
   "cell_type": "code",
   "execution_count": 104,
   "id": "961a9283",
   "metadata": {},
   "outputs": [
    {
     "data": {
      "text/plain": [
       "(0, 1, 2, 3, 4, 5, 6, 7, 8, 9)"
      ]
     },
     "execution_count": 104,
     "metadata": {},
     "output_type": "execute_result"
    }
   ],
   "source": [
    "tuple(i for i in range(10))"
   ]
  },
  {
   "cell_type": "code",
   "execution_count": 1,
   "id": "a6d141e7",
   "metadata": {},
   "outputs": [
    {
     "ename": "TypeError",
     "evalue": "'int' object is not iterable",
     "output_type": "error",
     "traceback": [
      "\u001b[1;31m---------------------------------------------------------------------------\u001b[0m",
      "\u001b[1;31mTypeError\u001b[0m                                 Traceback (most recent call last)",
      "Cell \u001b[1;32mIn [1], line 2\u001b[0m\n\u001b[0;32m      1\u001b[0m a \u001b[38;5;241m=\u001b[39m \u001b[38;5;241m2\u001b[39m\n\u001b[1;32m----> 2\u001b[0m \u001b[38;5;28;01mfor\u001b[39;00m i \u001b[38;5;129;01min\u001b[39;00m a:\n\u001b[0;32m      3\u001b[0m     \u001b[38;5;28mprint\u001b[39m(i)\n",
      "\u001b[1;31mTypeError\u001b[0m: 'int' object is not iterable"
     ]
    }
   ],
   "source": [
    "a = 2\n",
    "for i in a:\n",
    "    print(i)"
   ]
  },
  {
   "cell_type": "code",
   "execution_count": 2,
   "id": "54cf661c",
   "metadata": {},
   "outputs": [
    {
     "name": "stdout",
     "output_type": "stream",
     "text": [
      "k\n",
      "r\n",
      "u\n",
      "s\n",
      "h\n",
      "n\n",
      "a\n"
     ]
    }
   ],
   "source": [
    "a = \"krushna\"\n",
    "for i in a:\n",
    "    print(i)"
   ]
  },
  {
   "cell_type": "code",
   "execution_count": 3,
   "id": "66bb65fc",
   "metadata": {},
   "outputs": [
    {
     "ename": "TypeError",
     "evalue": "'str' object is not an iterator",
     "output_type": "error",
     "traceback": [
      "\u001b[1;31m---------------------------------------------------------------------------\u001b[0m",
      "\u001b[1;31mTypeError\u001b[0m                                 Traceback (most recent call last)",
      "Cell \u001b[1;32mIn [3], line 1\u001b[0m\n\u001b[1;32m----> 1\u001b[0m \u001b[38;5;28;43mnext\u001b[39;49m\u001b[43m(\u001b[49m\u001b[43ma\u001b[49m\u001b[43m)\u001b[49m\n",
      "\u001b[1;31mTypeError\u001b[0m: 'str' object is not an iterator"
     ]
    }
   ],
   "source": [
    "next(a)"
   ]
  },
  {
   "cell_type": "code",
   "execution_count": 4,
   "id": "0816d7be",
   "metadata": {},
   "outputs": [
    {
     "data": {
      "text/plain": [
       "'krushna'"
      ]
     },
     "execution_count": 4,
     "metadata": {},
     "output_type": "execute_result"
    }
   ],
   "source": [
    "a"
   ]
  },
  {
   "cell_type": "code",
   "execution_count": 5,
   "id": "03723283",
   "metadata": {},
   "outputs": [],
   "source": [
    "b = iter(a)"
   ]
  },
  {
   "cell_type": "code",
   "execution_count": 6,
   "id": "a0406d55",
   "metadata": {},
   "outputs": [
    {
     "data": {
      "text/plain": [
       "<str_iterator at 0x1a912324310>"
      ]
     },
     "execution_count": 6,
     "metadata": {},
     "output_type": "execute_result"
    }
   ],
   "source": [
    "b"
   ]
  },
  {
   "cell_type": "code",
   "execution_count": 7,
   "id": "f181e461",
   "metadata": {},
   "outputs": [
    {
     "data": {
      "text/plain": [
       "'k'"
      ]
     },
     "execution_count": 7,
     "metadata": {},
     "output_type": "execute_result"
    }
   ],
   "source": [
    "next(b)"
   ]
  },
  {
   "cell_type": "code",
   "execution_count": 8,
   "id": "2e14972a",
   "metadata": {},
   "outputs": [
    {
     "data": {
      "text/plain": [
       "'r'"
      ]
     },
     "execution_count": 8,
     "metadata": {},
     "output_type": "execute_result"
    }
   ],
   "source": [
    "next(b)"
   ]
  },
  {
   "cell_type": "code",
   "execution_count": 11,
   "id": "ea68df8b",
   "metadata": {},
   "outputs": [],
   "source": [
    "l = [2,3,5,4,3] #it is iterable"
   ]
  },
  {
   "cell_type": "code",
   "execution_count": 10,
   "id": "e0f1a0e3",
   "metadata": {},
   "outputs": [
    {
     "ename": "TypeError",
     "evalue": "'list' object is not an iterator",
     "output_type": "error",
     "traceback": [
      "\u001b[1;31m---------------------------------------------------------------------------\u001b[0m",
      "\u001b[1;31mTypeError\u001b[0m                                 Traceback (most recent call last)",
      "Cell \u001b[1;32mIn [10], line 1\u001b[0m\n\u001b[1;32m----> 1\u001b[0m \u001b[38;5;28;43mnext\u001b[39;49m\u001b[43m(\u001b[49m\u001b[43ml\u001b[49m\u001b[43m)\u001b[49m\n",
      "\u001b[1;31mTypeError\u001b[0m: 'list' object is not an iterator"
     ]
    }
   ],
   "source": [
    "next(l)"
   ]
  },
  {
   "cell_type": "code",
   "execution_count": 12,
   "id": "f309ccaf",
   "metadata": {},
   "outputs": [
    {
     "ename": "TypeError",
     "evalue": "'int' object is not iterable",
     "output_type": "error",
     "traceback": [
      "\u001b[1;31m---------------------------------------------------------------------------\u001b[0m",
      "\u001b[1;31mTypeError\u001b[0m                                 Traceback (most recent call last)",
      "Cell \u001b[1;32mIn [12], line 1\u001b[0m\n\u001b[1;32m----> 1\u001b[0m \u001b[38;5;28;43miter\u001b[39;49m\u001b[43m(\u001b[49m\u001b[38;5;241;43m45\u001b[39;49m\u001b[43m)\u001b[49m\n",
      "\u001b[1;31mTypeError\u001b[0m: 'int' object is not iterable"
     ]
    }
   ],
   "source": [
    "iter(45)  #integer is not iterable"
   ]
  },
  {
   "cell_type": "code",
   "execution_count": 15,
   "id": "06dbe399",
   "metadata": {},
   "outputs": [],
   "source": [
    "l1 = iter(l)"
   ]
  },
  {
   "cell_type": "code",
   "execution_count": 16,
   "id": "f0c1555a",
   "metadata": {},
   "outputs": [
    {
     "data": {
      "text/plain": [
       "2"
      ]
     },
     "execution_count": 16,
     "metadata": {},
     "output_type": "execute_result"
    }
   ],
   "source": [
    "next(l1)"
   ]
  },
  {
   "cell_type": "code",
   "execution_count": 17,
   "id": "230cc467",
   "metadata": {},
   "outputs": [
    {
     "data": {
      "text/plain": [
       "3"
      ]
     },
     "execution_count": 17,
     "metadata": {},
     "output_type": "execute_result"
    }
   ],
   "source": [
    "next(l1)"
   ]
  },
  {
   "cell_type": "code",
   "execution_count": 18,
   "id": "f91f893c",
   "metadata": {},
   "outputs": [
    {
     "data": {
      "text/plain": [
       "5"
      ]
     },
     "execution_count": 18,
     "metadata": {},
     "output_type": "execute_result"
    }
   ],
   "source": [
    "next(l1)"
   ]
  },
  {
   "cell_type": "code",
   "execution_count": 19,
   "id": "5e4c0635",
   "metadata": {},
   "outputs": [
    {
     "data": {
      "text/plain": [
       "4"
      ]
     },
     "execution_count": 19,
     "metadata": {},
     "output_type": "execute_result"
    }
   ],
   "source": [
    "next(l1)"
   ]
  },
  {
   "cell_type": "code",
   "execution_count": 21,
   "id": "e43d690e",
   "metadata": {},
   "outputs": [
    {
     "data": {
      "text/plain": [
       "3"
      ]
     },
     "execution_count": 21,
     "metadata": {},
     "output_type": "execute_result"
    }
   ],
   "source": [
    "next(l1)"
   ]
  },
  {
   "cell_type": "code",
   "execution_count": 22,
   "id": "871500fa",
   "metadata": {},
   "outputs": [
    {
     "ename": "StopIteration",
     "evalue": "",
     "output_type": "error",
     "traceback": [
      "\u001b[1;31m---------------------------------------------------------------------------\u001b[0m",
      "\u001b[1;31mStopIteration\u001b[0m                             Traceback (most recent call last)",
      "Cell \u001b[1;32mIn [22], line 1\u001b[0m\n\u001b[1;32m----> 1\u001b[0m \u001b[38;5;28;43mnext\u001b[39;49m\u001b[43m(\u001b[49m\u001b[43ml1\u001b[49m\u001b[43m)\u001b[49m\n",
      "\u001b[1;31mStopIteration\u001b[0m: "
     ]
    }
   ],
   "source": [
    "next(l1)"
   ]
  },
  {
   "cell_type": "code",
   "execution_count": 23,
   "id": "3155c665",
   "metadata": {},
   "outputs": [],
   "source": [
    "l = [2,3,3,4]"
   ]
  },
  {
   "cell_type": "code",
   "execution_count": 24,
   "id": "56dda9fe",
   "metadata": {},
   "outputs": [
    {
     "ename": "TypeError",
     "evalue": "'list' object is not an iterator",
     "output_type": "error",
     "traceback": [
      "\u001b[1;31m---------------------------------------------------------------------------\u001b[0m",
      "\u001b[1;31mTypeError\u001b[0m                                 Traceback (most recent call last)",
      "Cell \u001b[1;32mIn [24], line 1\u001b[0m\n\u001b[1;32m----> 1\u001b[0m \u001b[38;5;28;43mnext\u001b[39;49m\u001b[43m(\u001b[49m\u001b[43ml\u001b[49m\u001b[43m)\u001b[49m\n",
      "\u001b[1;31mTypeError\u001b[0m: 'list' object is not an iterator"
     ]
    }
   ],
   "source": [
    "next(l)"
   ]
  },
  {
   "cell_type": "code",
   "execution_count": 25,
   "id": "ba085140",
   "metadata": {},
   "outputs": [],
   "source": [
    "l1 = iter(l)"
   ]
  },
  {
   "cell_type": "code",
   "execution_count": 26,
   "id": "f9b178ba",
   "metadata": {},
   "outputs": [
    {
     "data": {
      "text/plain": [
       "2"
      ]
     },
     "execution_count": 26,
     "metadata": {},
     "output_type": "execute_result"
    }
   ],
   "source": [
    "next(l1)"
   ]
  },
  {
   "cell_type": "code",
   "execution_count": 27,
   "id": "5f004b3c",
   "metadata": {},
   "outputs": [],
   "source": [
    "t = (3,4,5,6)"
   ]
  },
  {
   "cell_type": "code",
   "execution_count": 28,
   "id": "23a56deb",
   "metadata": {},
   "outputs": [
    {
     "ename": "TypeError",
     "evalue": "'tuple' object is not an iterator",
     "output_type": "error",
     "traceback": [
      "\u001b[1;31m---------------------------------------------------------------------------\u001b[0m",
      "\u001b[1;31mTypeError\u001b[0m                                 Traceback (most recent call last)",
      "Cell \u001b[1;32mIn [28], line 1\u001b[0m\n\u001b[1;32m----> 1\u001b[0m \u001b[38;5;28;43mnext\u001b[39;49m\u001b[43m(\u001b[49m\u001b[43mt\u001b[49m\u001b[43m)\u001b[49m\n",
      "\u001b[1;31mTypeError\u001b[0m: 'tuple' object is not an iterator"
     ]
    }
   ],
   "source": [
    "next(t)"
   ]
  },
  {
   "cell_type": "code",
   "execution_count": 29,
   "id": "a94bb170",
   "metadata": {},
   "outputs": [],
   "source": [
    "t1 = iter(t)"
   ]
  },
  {
   "cell_type": "code",
   "execution_count": 30,
   "id": "f8220783",
   "metadata": {},
   "outputs": [
    {
     "data": {
      "text/plain": [
       "<tuple_iterator at 0x1a911326c80>"
      ]
     },
     "execution_count": 30,
     "metadata": {},
     "output_type": "execute_result"
    }
   ],
   "source": [
    "t1"
   ]
  },
  {
   "cell_type": "code",
   "execution_count": 31,
   "id": "d6098549",
   "metadata": {},
   "outputs": [
    {
     "data": {
      "text/plain": [
       "3"
      ]
     },
     "execution_count": 31,
     "metadata": {},
     "output_type": "execute_result"
    }
   ],
   "source": [
    "next(t1)"
   ]
  },
  {
   "cell_type": "code",
   "execution_count": 35,
   "id": "30513c96",
   "metadata": {},
   "outputs": [],
   "source": [
    "r = range(6)"
   ]
  },
  {
   "cell_type": "code",
   "execution_count": 36,
   "id": "9563ec1f",
   "metadata": {},
   "outputs": [
    {
     "ename": "TypeError",
     "evalue": "'range' object is not an iterator",
     "output_type": "error",
     "traceback": [
      "\u001b[1;31m---------------------------------------------------------------------------\u001b[0m",
      "\u001b[1;31mTypeError\u001b[0m                                 Traceback (most recent call last)",
      "Cell \u001b[1;32mIn [36], line 1\u001b[0m\n\u001b[1;32m----> 1\u001b[0m \u001b[38;5;28;43mnext\u001b[39;49m\u001b[43m(\u001b[49m\u001b[43mr\u001b[49m\u001b[43m)\u001b[49m\n",
      "\u001b[1;31mTypeError\u001b[0m: 'range' object is not an iterator"
     ]
    }
   ],
   "source": [
    "next(r)"
   ]
  },
  {
   "cell_type": "code",
   "execution_count": 37,
   "id": "33fc5b09",
   "metadata": {},
   "outputs": [],
   "source": [
    "r1 = iter(r)"
   ]
  },
  {
   "cell_type": "code",
   "execution_count": 38,
   "id": "bf0ef948",
   "metadata": {},
   "outputs": [
    {
     "data": {
      "text/plain": [
       "0"
      ]
     },
     "execution_count": 38,
     "metadata": {},
     "output_type": "execute_result"
    }
   ],
   "source": [
    "next(r1)"
   ]
  },
  {
   "cell_type": "code",
   "execution_count": 39,
   "id": "84386291",
   "metadata": {},
   "outputs": [
    {
     "data": {
      "text/plain": [
       "1"
      ]
     },
     "execution_count": 39,
     "metadata": {},
     "output_type": "execute_result"
    }
   ],
   "source": [
    "next(r1)"
   ]
  },
  {
   "cell_type": "markdown",
   "id": "42409388",
   "metadata": {},
   "source": [
    "# GENERATOR"
   ]
  },
  {
   "cell_type": "code",
   "execution_count": null,
   "id": "c31720a2",
   "metadata": {},
   "outputs": [],
   "source": [
    "range(45)"
   ]
  },
  {
   "cell_type": "raw",
   "id": "bf9ab3c7",
   "metadata": {},
   "source": []
  }
 ],
 "metadata": {
  "kernelspec": {
   "display_name": "Python 3 (ipykernel)",
   "language": "python",
   "name": "python3"
  },
  "language_info": {
   "codemirror_mode": {
    "name": "ipython",
    "version": 3
   },
   "file_extension": ".py",
   "mimetype": "text/x-python",
   "name": "python",
   "nbconvert_exporter": "python",
   "pygments_lexer": "ipython3",
   "version": "3.9.13"
  }
 },
 "nbformat": 4,
 "nbformat_minor": 5
}
