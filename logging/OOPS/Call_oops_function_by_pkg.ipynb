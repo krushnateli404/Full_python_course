{
 "cells": [
  {
   "cell_type": "code",
   "execution_count": 2,
   "id": "ec79eab2",
   "metadata": {},
   "outputs": [],
   "source": [
    "import mydict"
   ]
  },
  {
   "cell_type": "code",
   "execution_count": 5,
   "id": "023e1c03",
   "metadata": {},
   "outputs": [],
   "source": [
    "d1 = mydict.exercise_dict({\"name\":\"krushna\",\"age\":19})"
   ]
  },
  {
   "cell_type": "code",
   "execution_count": 6,
   "id": "5424ff67",
   "metadata": {},
   "outputs": [
    {
     "data": {
      "text/plain": [
       "dict_values(['krushna', 19])"
      ]
     },
     "execution_count": 6,
     "metadata": {},
     "output_type": "execute_result"
    }
   ],
   "source": [
    "d1.get_values()"
   ]
  },
  {
   "cell_type": "code",
   "execution_count": null,
   "id": "f98f3daa",
   "metadata": {},
   "outputs": [],
   "source": []
  }
 ],
 "metadata": {
  "kernelspec": {
   "display_name": "Python 3 (ipykernel)",
   "language": "python",
   "name": "python3"
  },
  "language_info": {
   "codemirror_mode": {
    "name": "ipython",
    "version": 3
   },
   "file_extension": ".py",
   "mimetype": "text/x-python",
   "name": "python",
   "nbconvert_exporter": "python",
   "pygments_lexer": "ipython3",
   "version": "3.10.7"
  }
 },
 "nbformat": 4,
 "nbformat_minor": 5
}
