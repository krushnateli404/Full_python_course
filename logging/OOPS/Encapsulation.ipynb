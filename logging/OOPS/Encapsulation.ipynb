{
 "cells": [
  {
   "cell_type": "code",
   "execution_count": null,
   "id": "1f119ef1",
   "metadata": {},
   "outputs": [],
   "source": [
    "\"\"\"encapsulation:wraping or binding data\n",
    "USE:to make variable as a private and\n",
    "    binding up data with methods\"\"\""
   ]
  },
  {
   "cell_type": "code",
   "execution_count": 8,
   "id": "f46e808c",
   "metadata": {},
   "outputs": [],
   "source": [
    "class emp:\n",
    "    def __init__(self):\n",
    "        self.name = \"krishna\"\n",
    "        self.age   = 34\n",
    "        self.__sal = 349843\n",
    "    def display(self):\n",
    "        pass"
   ]
  },
  {
   "cell_type": "code",
   "execution_count": 9,
   "id": "abe78332",
   "metadata": {},
   "outputs": [],
   "source": [
    "obj = emp()"
   ]
  },
  {
   "cell_type": "code",
   "execution_count": 10,
   "id": "6ccf54c0",
   "metadata": {},
   "outputs": [
    {
     "data": {
      "text/plain": [
       "'krishna'"
      ]
     },
     "execution_count": 10,
     "metadata": {},
     "output_type": "execute_result"
    }
   ],
   "source": [
    "obj.name"
   ]
  },
  {
   "cell_type": "code",
   "execution_count": 11,
   "id": "827dde65",
   "metadata": {},
   "outputs": [
    {
     "ename": "AttributeError",
     "evalue": "'emp' object has no attribute 'sal'",
     "output_type": "error",
     "traceback": [
      "\u001b[1;31m---------------------------------------------------------------------------\u001b[0m",
      "\u001b[1;31mAttributeError\u001b[0m                            Traceback (most recent call last)",
      "Cell \u001b[1;32mIn[11], line 1\u001b[0m\n\u001b[1;32m----> 1\u001b[0m \u001b[43mobj\u001b[49m\u001b[38;5;241;43m.\u001b[39;49m\u001b[43msal\u001b[49m\n",
      "\u001b[1;31mAttributeError\u001b[0m: 'emp' object has no attribute 'sal'"
     ]
    }
   ],
   "source": [
    "obj.sal"
   ]
  },
  {
   "cell_type": "raw",
   "id": "db4972e3",
   "metadata": {},
   "source": [
    "public <var_name>\n",
    "protected _<var_name>\n",
    "private __<var_name>"
   ]
  },
  {
   "cell_type": "code",
   "execution_count": 24,
   "id": "f5497709",
   "metadata": {},
   "outputs": [],
   "source": [
    "class emp:\n",
    "    def __init__(self):\n",
    "        self.name = \"krishna\"\n",
    "        self.age   = 34\n",
    "        self.__sal = 349843\n",
    "    def __display(self):\n",
    "        print(self.name ,self.age,self.__sal)\n",
    "    def show(self):\n",
    "        self.__display()"
   ]
  },
  {
   "cell_type": "code",
   "execution_count": 25,
   "id": "bc5c334e",
   "metadata": {},
   "outputs": [],
   "source": [
    "obj1 = emp()"
   ]
  },
  {
   "cell_type": "code",
   "execution_count": 26,
   "id": "4ae8d65f",
   "metadata": {},
   "outputs": [
    {
     "name": "stdout",
     "output_type": "stream",
     "text": [
      "krishna 34 349843\n"
     ]
    }
   ],
   "source": [
    "obj1.show()"
   ]
  },
  {
   "cell_type": "code",
   "execution_count": null,
   "id": "ffab6925",
   "metadata": {},
   "outputs": [],
   "source": []
  }
 ],
 "metadata": {
  "kernelspec": {
   "display_name": "Python 3 (ipykernel)",
   "language": "python",
   "name": "python3"
  },
  "language_info": {
   "codemirror_mode": {
    "name": "ipython",
    "version": 3
   },
   "file_extension": ".py",
   "mimetype": "text/x-python",
   "name": "python",
   "nbconvert_exporter": "python",
   "pygments_lexer": "ipython3",
   "version": "3.10.7"
  }
 },
 "nbformat": 4,
 "nbformat_minor": 5
}
