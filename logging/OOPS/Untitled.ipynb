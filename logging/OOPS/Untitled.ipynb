{
 "cells": [
  {
   "cell_type": "code",
   "execution_count": 9,
   "id": "c7228aeb",
   "metadata": {},
   "outputs": [],
   "source": [
    "class circle:\n",
    "    def __init__(self,a):\n",
    "        self.a = a\n",
    "        \n",
    "    def cal_area(self):\n",
    "        return 3.14*(self.a)*(self.a)\n",
    "    \n",
    "    def cal_cicumfernce(self):\n",
    "        return 2*3.14*(self.a)\n",
    "    \n",
    "area = circle(3)\n",
    "area.cal_area()\n",
    "area.cal_cicumfernce"
   ]
  },
  {
   "cell_type": "code",
   "execution_count": 10,
   "id": "10de66c9",
   "metadata": {},
   "outputs": [],
   "source": [
    "area = circle(3)"
   ]
  },
  {
   "cell_type": "code",
   "execution_count": 11,
   "id": "855c7fbf",
   "metadata": {},
   "outputs": [
    {
     "data": {
      "text/plain": [
       "18.84"
      ]
     },
     "execution_count": 11,
     "metadata": {},
     "output_type": "execute_result"
    }
   ],
   "source": [
    "area.cal_cicumfernce()"
   ]
  },
  {
   "cell_type": "code",
   "execution_count": 21,
   "id": "9b01ce4a",
   "metadata": {},
   "outputs": [],
   "source": [
    "import math\n",
    "class circle2:\n",
    "    def __init__(self,r):\n",
    "        self.radius = r\n",
    "        print(f\"The radius is : {self.radius}\")\n",
    "    \n",
    "    def cal_area(self):\n",
    "        area = math.pi*(self.radius**2)\n",
    "        print(area)\n",
    "        \n",
    "    def cal_circumferance(self):\n",
    "        cir = 2*math.pi*self.radius\n",
    "        print(cir)\n",
    "        \n",
    "              "
   ]
  },
  {
   "cell_type": "code",
   "execution_count": 24,
   "id": "2621eb8a",
   "metadata": {},
   "outputs": [
    {
     "name": "stdout",
     "output_type": "stream",
     "text": [
      "Enter radius5\n",
      "The radius is : 5\n"
     ]
    }
   ],
   "source": [
    "r = int(input(\"Enter radius\"))\n",
    "obj = circle2(r)"
   ]
  },
  {
   "cell_type": "code",
   "execution_count": 25,
   "id": "70cb5b12",
   "metadata": {},
   "outputs": [
    {
     "name": "stdout",
     "output_type": "stream",
     "text": [
      "78.53981633974483\n"
     ]
    }
   ],
   "source": [
    "obj.cal_area()"
   ]
  },
  {
   "cell_type": "code",
   "execution_count": 26,
   "id": "c7169766",
   "metadata": {},
   "outputs": [
    {
     "name": "stdout",
     "output_type": "stream",
     "text": [
      "31.41592653589793\n"
     ]
    }
   ],
   "source": [
    "obj.cal_circumferance()"
   ]
  },
  {
   "cell_type": "code",
   "execution_count": 31,
   "id": "82c6eaaa",
   "metadata": {},
   "outputs": [],
   "source": [
    "import math\n",
    "class circle3:\n",
    "    def __init__(self,r):\n",
    "        self.radius = r\n",
    "        print(f\"The radius is : {self.radius}\")\n",
    "    \n",
    "    def cal_area(self):\n",
    "        self.area = math.pi*(self.radius**2)\n",
    "        print(self.area)\n",
    "        \n",
    "    def cal_circumferance(self):\n",
    "        self.cir = 2*math.pi*self.radius\n",
    "        print(self.cir)\n",
    "    \n",
    "    def display(self):\n",
    "        print(f\"area{self.area}\")\n",
    "        print(f\"circumferance{self.cir}\")"
   ]
  },
  {
   "cell_type": "code",
   "execution_count": 32,
   "id": "21d54fb0",
   "metadata": {},
   "outputs": [
    {
     "name": "stdout",
     "output_type": "stream",
     "text": [
      "The radius is : 4\n"
     ]
    }
   ],
   "source": [
    "obj1 = circle3(4)"
   ]
  },
  {
   "cell_type": "code",
   "execution_count": 33,
   "id": "b17c6877",
   "metadata": {},
   "outputs": [
    {
     "ename": "AttributeError",
     "evalue": "'circle3' object has no attribute 'area'",
     "output_type": "error",
     "traceback": [
      "\u001b[1;31m---------------------------------------------------------------------------\u001b[0m",
      "\u001b[1;31mAttributeError\u001b[0m                            Traceback (most recent call last)",
      "Cell \u001b[1;32mIn[33], line 1\u001b[0m\n\u001b[1;32m----> 1\u001b[0m \u001b[43mobj1\u001b[49m\u001b[38;5;241;43m.\u001b[39;49m\u001b[43mdisplay\u001b[49m\u001b[43m(\u001b[49m\u001b[43m)\u001b[49m\n",
      "Cell \u001b[1;32mIn[31], line 16\u001b[0m, in \u001b[0;36mcircle3.display\u001b[1;34m(self)\u001b[0m\n\u001b[0;32m     15\u001b[0m \u001b[38;5;28;01mdef\u001b[39;00m \u001b[38;5;21mdisplay\u001b[39m(\u001b[38;5;28mself\u001b[39m):\n\u001b[1;32m---> 16\u001b[0m     \u001b[38;5;28mprint\u001b[39m(\u001b[38;5;124mf\u001b[39m\u001b[38;5;124m\"\u001b[39m\u001b[38;5;124marea\u001b[39m\u001b[38;5;132;01m{\u001b[39;00m\u001b[38;5;28mself\u001b[39m\u001b[38;5;241m.\u001b[39marea\u001b[38;5;132;01m}\u001b[39;00m\u001b[38;5;124m\"\u001b[39m)\n\u001b[0;32m     17\u001b[0m     \u001b[38;5;28mprint\u001b[39m(\u001b[38;5;124mf\u001b[39m\u001b[38;5;124m\"\u001b[39m\u001b[38;5;124mcircumferance\u001b[39m\u001b[38;5;132;01m{\u001b[39;00m\u001b[38;5;28mself\u001b[39m\u001b[38;5;241m.\u001b[39mcir\u001b[38;5;132;01m}\u001b[39;00m\u001b[38;5;124m\"\u001b[39m)\n",
      "\u001b[1;31mAttributeError\u001b[0m: 'circle3' object has no attribute 'area'"
     ]
    }
   ],
   "source": [
    "obj1.display()"
   ]
  },
  {
   "cell_type": "code",
   "execution_count": 34,
   "id": "aa66d143",
   "metadata": {},
   "outputs": [],
   "source": [
    "class circle2:\n",
    "    pi = 3.14\n",
    "    def __init__(self,r):\n",
    "        self.radius = r\n",
    "        print(f\"The radius is : {self.radius}\")\n",
    "    \n",
    "    def cal_area(self):\n",
    "        area = pi*(self.radius**2)\n",
    "        print(area)\n",
    "        \n",
    "    def cal_circumferance(self):\n",
    "        cir = pi*self.radius\n",
    "        print(cir)\n",
    "    "
   ]
  },
  {
   "cell_type": "code",
   "execution_count": 65,
   "id": "717ee9e1",
   "metadata": {},
   "outputs": [
    {
     "name": "stdout",
     "output_type": "stream",
     "text": [
      "The radius is : 4\n"
     ]
    }
   ],
   "source": [
    "obj = circle2(4)"
   ]
  },
  {
   "cell_type": "code",
   "execution_count": 66,
   "id": "f8d3cccc",
   "metadata": {},
   "outputs": [
    {
     "data": {
      "text/plain": [
       "3.14"
      ]
     },
     "execution_count": 66,
     "metadata": {},
     "output_type": "execute_result"
    }
   ],
   "source": [
    "circle2.pi"
   ]
  },
  {
   "cell_type": "code",
   "execution_count": 67,
   "id": "b9c660fd",
   "metadata": {},
   "outputs": [
    {
     "ename": "NameError",
     "evalue": "name 'pi' is not defined",
     "output_type": "error",
     "traceback": [
      "\u001b[1;31m---------------------------------------------------------------------------\u001b[0m",
      "\u001b[1;31mNameError\u001b[0m                                 Traceback (most recent call last)",
      "Cell \u001b[1;32mIn[67], line 1\u001b[0m\n\u001b[1;32m----> 1\u001b[0m \u001b[43mobj\u001b[49m\u001b[38;5;241;43m.\u001b[39;49m\u001b[43mcal_area\u001b[49m\u001b[43m(\u001b[49m\u001b[43m)\u001b[49m\n",
      "Cell \u001b[1;32mIn[34], line 8\u001b[0m, in \u001b[0;36mcircle2.cal_area\u001b[1;34m(self)\u001b[0m\n\u001b[0;32m      7\u001b[0m \u001b[38;5;28;01mdef\u001b[39;00m \u001b[38;5;21mcal_area\u001b[39m(\u001b[38;5;28mself\u001b[39m):\n\u001b[1;32m----> 8\u001b[0m     area \u001b[38;5;241m=\u001b[39m \u001b[43mpi\u001b[49m\u001b[38;5;241m*\u001b[39m(\u001b[38;5;28mself\u001b[39m\u001b[38;5;241m.\u001b[39mradius\u001b[38;5;241m*\u001b[39m\u001b[38;5;241m*\u001b[39m\u001b[38;5;241m2\u001b[39m)\n\u001b[0;32m      9\u001b[0m     \u001b[38;5;28mprint\u001b[39m(area)\n",
      "\u001b[1;31mNameError\u001b[0m: name 'pi' is not defined"
     ]
    }
   ],
   "source": [
    "obj.cal_area()"
   ]
  },
  {
   "cell_type": "code",
   "execution_count": 58,
   "id": "9fc1a418",
   "metadata": {},
   "outputs": [],
   "source": [
    "import math\n",
    "class circle3:\n",
    "    def __init__(self,r):\n",
    "        self.radius = r\n",
    "        print(f\"The radius is : {self.radius}\")\n",
    "    \n",
    "    def cal_area(self):\n",
    "        self.area = math.pi*(self.radius**2)\n",
    "        print(self.area)\n",
    "        \n",
    "    def cal_circumferance(self):\n",
    "        self.cir = 2*math.pi*self.radius\n",
    "        print(self.cir)\n",
    "    \n",
    "    def display(self):\n",
    "        print(f\"area {self.area}\")\n",
    "        print(f\"circumferance {self.cir}\")\n",
    "    def show(self):\n",
    "        print(\"krushna teli\")"
   ]
  },
  {
   "cell_type": "code",
   "execution_count": 59,
   "id": "663588f1",
   "metadata": {},
   "outputs": [
    {
     "name": "stdout",
     "output_type": "stream",
     "text": [
      "The radius is : 45\n"
     ]
    }
   ],
   "source": [
    "obj = circle3(45)"
   ]
  },
  {
   "cell_type": "code",
   "execution_count": 60,
   "id": "7c582455",
   "metadata": {},
   "outputs": [
    {
     "name": "stdout",
     "output_type": "stream",
     "text": [
      "6361.725123519331\n"
     ]
    }
   ],
   "source": [
    "obj.cal_area()"
   ]
  },
  {
   "cell_type": "code",
   "execution_count": 61,
   "id": "8417e9e9",
   "metadata": {},
   "outputs": [
    {
     "name": "stdout",
     "output_type": "stream",
     "text": [
      "282.7433388230814\n"
     ]
    }
   ],
   "source": [
    "obj.cal_circumferance()"
   ]
  },
  {
   "cell_type": "code",
   "execution_count": 62,
   "id": "e5fc9888",
   "metadata": {},
   "outputs": [
    {
     "name": "stdout",
     "output_type": "stream",
     "text": [
      "area6361.725123519331\n",
      "circumferance282.7433388230814\n"
     ]
    }
   ],
   "source": [
    "obj.display()"
   ]
  },
  {
   "cell_type": "code",
   "execution_count": null,
   "id": "a5ad7693",
   "metadata": {},
   "outputs": [],
   "source": []
  },
  {
   "cell_type": "code",
   "execution_count": 51,
   "id": "12b142dc",
   "metadata": {},
   "outputs": [],
   "source": [
    "class emp:\n",
    "    \n",
    "    def __init__(self,a,b,c):\n",
    "        self.name = a\n",
    "        self.age  = b\n",
    "        self.sal  = c\n",
    "    def increase_sal(self,sal1):\n",
    "        self.sallery = sal1\n",
    "        a = self.sal +self.sallery\n",
    "        print(a)\n",
    "    def display(self):\n",
    "        print(f\"{self.name} {self.age} {self.})\n",
    "    \n",
    "        "
   ]
  },
  {
   "cell_type": "code",
   "execution_count": null,
   "id": "8e9f89f9",
   "metadata": {},
   "outputs": [],
   "source": []
  },
  {
   "cell_type": "code",
   "execution_count": 52,
   "id": "2231fb62",
   "metadata": {},
   "outputs": [],
   "source": [
    "obj = emp(\"a\",12,231)"
   ]
  },
  {
   "cell_type": "code",
   "execution_count": 53,
   "id": "d29b4645",
   "metadata": {},
   "outputs": [
    {
     "name": "stdout",
     "output_type": "stream",
     "text": [
      "265\n"
     ]
    }
   ],
   "source": [
    "obj.increase_sal(34)"
   ]
  },
  {
   "cell_type": "code",
   "execution_count": 73,
   "id": "09735348",
   "metadata": {},
   "outputs": [],
   "source": [
    "class emp:\n",
    "    \n",
    "    \n",
    "    @classmethod\n",
    "    def raise_amount(cls):\n",
    "        cls.raise_amount(float(input(\"Enter the percentage : \")))\n",
    "    \n",
    "    def __init__(self,a,b,c):\n",
    "        self.name = a\n",
    "        self.age  = b\n",
    "        self.sal  = c\n",
    "    def increase_sal(self):\n",
    "        self.sal = self.sal + (self.sal * (emp.raise_amount/100))\n",
    "    def display(self):\n",
    "        print(f\"{self.name} {self.age} {self.sal}\")"
   ]
  },
  {
   "cell_type": "code",
   "execution_count": 74,
   "id": "0e7d7037",
   "metadata": {},
   "outputs": [],
   "source": [
    "obj = emp(\"krushna\",19,100000)"
   ]
  },
  {
   "cell_type": "code",
   "execution_count": 75,
   "id": "dba1a93e",
   "metadata": {},
   "outputs": [
    {
     "name": "stdout",
     "output_type": "stream",
     "text": [
      "Enter the percentage : 45\n"
     ]
    },
    {
     "ename": "TypeError",
     "evalue": "emp.raise_amount() takes 1 positional argument but 2 were given",
     "output_type": "error",
     "traceback": [
      "\u001b[1;31m---------------------------------------------------------------------------\u001b[0m",
      "\u001b[1;31mTypeError\u001b[0m                                 Traceback (most recent call last)",
      "Cell \u001b[1;32mIn[75], line 1\u001b[0m\n\u001b[1;32m----> 1\u001b[0m \u001b[43mobj\u001b[49m\u001b[38;5;241;43m.\u001b[39;49m\u001b[43mraise_amount\u001b[49m\u001b[43m(\u001b[49m\u001b[43m)\u001b[49m\n",
      "Cell \u001b[1;32mIn[73], line 6\u001b[0m, in \u001b[0;36memp.raise_amount\u001b[1;34m(cls)\u001b[0m\n\u001b[0;32m      4\u001b[0m \u001b[38;5;129m@classmethod\u001b[39m\n\u001b[0;32m      5\u001b[0m \u001b[38;5;28;01mdef\u001b[39;00m \u001b[38;5;21mraise_amount\u001b[39m(\u001b[38;5;28mcls\u001b[39m):\n\u001b[1;32m----> 6\u001b[0m     \u001b[38;5;28;43mcls\u001b[39;49m\u001b[38;5;241;43m.\u001b[39;49m\u001b[43mraise_amount\u001b[49m\u001b[43m(\u001b[49m\u001b[38;5;28;43mfloat\u001b[39;49m\u001b[43m(\u001b[49m\u001b[38;5;28;43minput\u001b[39;49m\u001b[43m(\u001b[49m\u001b[38;5;124;43m\"\u001b[39;49m\u001b[38;5;124;43mEnter the percentage : \u001b[39;49m\u001b[38;5;124;43m\"\u001b[39;49m\u001b[43m)\u001b[49m\u001b[43m)\u001b[49m\u001b[43m)\u001b[49m\n",
      "\u001b[1;31mTypeError\u001b[0m: emp.raise_amount() takes 1 positional argument but 2 were given"
     ]
    }
   ],
   "source": [
    "obj.raise_amount()"
   ]
  },
  {
   "cell_type": "code",
   "execution_count": 71,
   "id": "19e7b0f8",
   "metadata": {},
   "outputs": [
    {
     "ename": "NameError",
     "evalue": "name 'cls' is not defined",
     "output_type": "error",
     "traceback": [
      "\u001b[1;31m---------------------------------------------------------------------------\u001b[0m",
      "\u001b[1;31mNameError\u001b[0m                                 Traceback (most recent call last)",
      "Cell \u001b[1;32mIn[71], line 1\u001b[0m\n\u001b[1;32m----> 1\u001b[0m \u001b[43mobj\u001b[49m\u001b[38;5;241;43m.\u001b[39;49m\u001b[43mincrease_sal\u001b[49m\u001b[43m(\u001b[49m\u001b[43m)\u001b[49m\n",
      "Cell \u001b[1;32mIn[69], line 13\u001b[0m, in \u001b[0;36memp.increase_sal\u001b[1;34m(self)\u001b[0m\n\u001b[0;32m     12\u001b[0m \u001b[38;5;28;01mdef\u001b[39;00m \u001b[38;5;21mincrease_sal\u001b[39m(\u001b[38;5;28mself\u001b[39m):\n\u001b[1;32m---> 13\u001b[0m     \u001b[38;5;28mself\u001b[39m\u001b[38;5;241m.\u001b[39msal \u001b[38;5;241m=\u001b[39m \u001b[38;5;28mself\u001b[39m\u001b[38;5;241m.\u001b[39msal \u001b[38;5;241m+\u001b[39m (\u001b[38;5;28mself\u001b[39m\u001b[38;5;241m.\u001b[39msal \u001b[38;5;241m*\u001b[39m (\u001b[38;5;28;43mcls\u001b[39;49m\u001b[38;5;241m.\u001b[39mraise_amount\u001b[38;5;241m/\u001b[39m\u001b[38;5;241m100\u001b[39m))\n",
      "\u001b[1;31mNameError\u001b[0m: name 'cls' is not defined"
     ]
    }
   ],
   "source": [
    "obj.increase_sal()"
   ]
  },
  {
   "cell_type": "code",
   "execution_count": 57,
   "id": "cd123399",
   "metadata": {},
   "outputs": [
    {
     "name": "stdout",
     "output_type": "stream",
     "text": [
      "krushna 19 125000.0\n"
     ]
    }
   ],
   "source": [
    "obj.display()"
   ]
  },
  {
   "cell_type": "code",
   "execution_count": 79,
   "id": "15c63a04",
   "metadata": {},
   "outputs": [],
   "source": [
    "class math:\n",
    "    @staticmethod\n",
    "    def add_nos(a,b):\n",
    "        c = a+b\n",
    "        return c\n",
    "    def mul_nos(a,b):\n",
    "        c = a*b\n",
    "        return c\n",
    "        "
   ]
  },
  {
   "cell_type": "code",
   "execution_count": 80,
   "id": "e96772a0",
   "metadata": {},
   "outputs": [
    {
     "data": {
      "text/plain": [
       "25"
      ]
     },
     "execution_count": 80,
     "metadata": {},
     "output_type": "execute_result"
    }
   ],
   "source": [
    "math.add_nos(10,15)"
   ]
  },
  {
   "cell_type": "code",
   "execution_count": 81,
   "id": "bba8f53a",
   "metadata": {},
   "outputs": [
    {
     "data": {
      "text/plain": [
       "30"
      ]
     },
     "execution_count": 81,
     "metadata": {},
     "output_type": "execute_result"
    }
   ],
   "source": [
    "math.mul_nos(10,3)"
   ]
  },
  {
   "cell_type": "code",
   "execution_count": null,
   "id": "bffd20f7",
   "metadata": {},
   "outputs": [],
   "source": []
  }
 ],
 "metadata": {
  "kernelspec": {
   "display_name": "Python 3 (ipykernel)",
   "language": "python",
   "name": "python3"
  },
  "language_info": {
   "codemirror_mode": {
    "name": "ipython",
    "version": 3
   },
   "file_extension": ".py",
   "mimetype": "text/x-python",
   "name": "python",
   "nbconvert_exporter": "python",
   "pygments_lexer": "ipython3",
   "version": "3.10.7"
  }
 },
 "nbformat": 4,
 "nbformat_minor": 5
}
