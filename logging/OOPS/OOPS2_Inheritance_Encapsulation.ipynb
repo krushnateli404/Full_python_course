{
 "cells": [
  {
   "cell_type": "code",
   "execution_count": 1,
   "id": "fc8da7ea",
   "metadata": {},
   "outputs": [],
   "source": [
    "class xyz :\n",
    "    def __init__(self,a,b,c):\n",
    "        self.a = a\n",
    "        self.b = b\n",
    "        self.c = c\n",
    "    \n",
    "    def test(self):\n",
    "        print(\"This is my first test method of xyz class\")\n",
    "    \n",
    "    def test1(self):\n",
    "        print(\"This is my first test1 method of xyz class\")\n",
    "    \n",
    "    def test2(self):\n",
    "        print(\"This is my first test2 method of xyz class\")"
   ]
  },
  {
   "cell_type": "code",
   "execution_count": 2,
   "id": "b723fbcb",
   "metadata": {},
   "outputs": [],
   "source": [
    "p = xyz(1,2,3)"
   ]
  },
  {
   "cell_type": "code",
   "execution_count": 3,
   "id": "a07214d6",
   "metadata": {},
   "outputs": [
    {
     "name": "stdout",
     "output_type": "stream",
     "text": [
      "This is my first test1 method of xyz class\n"
     ]
    }
   ],
   "source": [
    "p.test1()"
   ]
  },
  {
   "cell_type": "code",
   "execution_count": null,
   "id": "446bca3e",
   "metadata": {},
   "outputs": [],
   "source": []
  },
  {
   "cell_type": "code",
   "execution_count": 4,
   "id": "2bded72c",
   "metadata": {},
   "outputs": [],
   "source": [
    "class xyz1(xyz):\n",
    "    pass\n"
   ]
  },
  {
   "cell_type": "code",
   "execution_count": 5,
   "id": "643e2aa4",
   "metadata": {},
   "outputs": [],
   "source": [
    "q = xyz1(3,4,5)"
   ]
  },
  {
   "cell_type": "code",
   "execution_count": 6,
   "id": "acddb98b",
   "metadata": {},
   "outputs": [
    {
     "name": "stdout",
     "output_type": "stream",
     "text": [
      "This is my first test1 method of xyz class\n"
     ]
    }
   ],
   "source": [
    "q.test1()"
   ]
  },
  {
   "cell_type": "code",
   "execution_count": 7,
   "id": "e679e89a",
   "metadata": {},
   "outputs": [],
   "source": [
    "class xyz1(xyz):\n",
    "    def test(self):\n",
    "        print(\"This is a test method of xyz1 class\")"
   ]
  },
  {
   "cell_type": "code",
   "execution_count": 8,
   "id": "8807c38f",
   "metadata": {},
   "outputs": [],
   "source": [
    "g = xyz1(4,5,6)"
   ]
  },
  {
   "cell_type": "code",
   "execution_count": 9,
   "id": "658f5d01",
   "metadata": {},
   "outputs": [
    {
     "name": "stdout",
     "output_type": "stream",
     "text": [
      "This is a test method of xyz1 class\n"
     ]
    }
   ],
   "source": [
    "g.test()"
   ]
  },
  {
   "cell_type": "code",
   "execution_count": 10,
   "id": "50dddc95",
   "metadata": {},
   "outputs": [],
   "source": [
    "class xyz :\n",
    "    def __init__(self,a,b,c):\n",
    "        self.a = a\n",
    "        self.b = b\n",
    "        self.c = c\n",
    "        \n",
    "    def box(self):\n",
    "        print(\"This is a box method of xyz class\")\n",
    "        \n",
    "class xyz1 :\n",
    "    \n",
    "    def __init__(self,p,q,v):\n",
    "        self.p = p\n",
    "        self.q = q\n",
    "        self.v = v\n",
    "        \n",
    "    def box1(self):\n",
    "        print(\"This is a box1 meth of class xyz1\")\n",
    "        \n",
    "class child(xyz,xyz1):\n",
    "    pass\n",
    "\n",
    "        "
   ]
  },
  {
   "cell_type": "code",
   "execution_count": 11,
   "id": "3423284b",
   "metadata": {},
   "outputs": [],
   "source": [
    "n = child(2,34,5)"
   ]
  },
  {
   "cell_type": "code",
   "execution_count": 12,
   "id": "9cc983c6",
   "metadata": {},
   "outputs": [
    {
     "name": "stdout",
     "output_type": "stream",
     "text": [
      "This is a box method of xyz class\n"
     ]
    }
   ],
   "source": [
    "n.box()"
   ]
  },
  {
   "cell_type": "code",
   "execution_count": 13,
   "id": "75fe7d92",
   "metadata": {},
   "outputs": [
    {
     "name": "stdout",
     "output_type": "stream",
     "text": [
      "This is a box1 meth of class xyz1\n"
     ]
    }
   ],
   "source": [
    "n.box1()"
   ]
  },
  {
   "cell_type": "code",
   "execution_count": 14,
   "id": "875158a3",
   "metadata": {},
   "outputs": [],
   "source": [
    "class xyz :\n",
    "    def __init__(self,a,b,c):\n",
    "        self.a = a\n",
    "        self.b = b\n",
    "        self.c = c\n",
    "        \n",
    "    def box(self):\n",
    "        print(\"This is a box method of xyz class\")\n",
    "        \n",
    "class xyz1 :\n",
    "    \n",
    "    def __init__(self,p,q,v):\n",
    "        self.p = p\n",
    "        self.q = q\n",
    "        self.v = v\n",
    "        \n",
    "    def box1(self):\n",
    "        print(\"This is a box1 meth of class xyz1\")\n",
    "        \n",
    "class child(xyz,xyz1):\n",
    "    def __init__(self,*args):\n",
    "        xyz.__init__(self,*args)\n",
    "        xyz1.__init__(self,*args)\n",
    "\n",
    "        "
   ]
  },
  {
   "cell_type": "code",
   "execution_count": 15,
   "id": "1a6da07f",
   "metadata": {},
   "outputs": [],
   "source": [
    "n = child(3,3,43)"
   ]
  },
  {
   "cell_type": "code",
   "execution_count": 16,
   "id": "7191e865",
   "metadata": {},
   "outputs": [
    {
     "data": {
      "text/plain": [
       "3"
      ]
     },
     "execution_count": 16,
     "metadata": {},
     "output_type": "execute_result"
    }
   ],
   "source": [
    "n.a"
   ]
  },
  {
   "cell_type": "code",
   "execution_count": 17,
   "id": "ec85e442",
   "metadata": {},
   "outputs": [
    {
     "data": {
      "text/plain": [
       "3"
      ]
     },
     "execution_count": 17,
     "metadata": {},
     "output_type": "execute_result"
    }
   ],
   "source": [
    "n.b"
   ]
  },
  {
   "cell_type": "code",
   "execution_count": 18,
   "id": "c641ac9a",
   "metadata": {},
   "outputs": [
    {
     "data": {
      "text/plain": [
       "43"
      ]
     },
     "execution_count": 18,
     "metadata": {},
     "output_type": "execute_result"
    }
   ],
   "source": [
    "n.c"
   ]
  },
  {
   "cell_type": "code",
   "execution_count": 19,
   "id": "6e48d25f",
   "metadata": {},
   "outputs": [],
   "source": [
    "class xyz :\n",
    "    def __init__(self,a,b,c):\n",
    "        self.a = a\n",
    "        self.b = b\n",
    "        self.c = c\n",
    "        \n",
    "    def box(self):\n",
    "        print(\"This is a box method of xyz class\")\n",
    "        \n",
    "class xyz1 :\n",
    "    \n",
    "    def __init__(self,p,q,v):\n",
    "        self.p = p\n",
    "        self.q = q\n",
    "        self.v = v\n",
    "        \n",
    "    def box1(self):\n",
    "        print(\"This is a box1 meth of class xyz1\")\n",
    "        \n",
    "class child(xyz,xyz1):\n",
    "    def __init__(self,*args,**kwrgs):\n",
    "        xyz.__init__(self,*args)\n",
    "        xyz1.__init__(self,**kwrgs)\n",
    "\n",
    "        "
   ]
  },
  {
   "cell_type": "code",
   "execution_count": 20,
   "id": "fe3cfd42",
   "metadata": {},
   "outputs": [
    {
     "ename": "TypeError",
     "evalue": "xyz.__init__() takes 4 positional arguments but 7 were given",
     "output_type": "error",
     "traceback": [
      "\u001b[1;31m---------------------------------------------------------------------------\u001b[0m",
      "\u001b[1;31mTypeError\u001b[0m                                 Traceback (most recent call last)",
      "Cell \u001b[1;32mIn[20], line 1\u001b[0m\n\u001b[1;32m----> 1\u001b[0m n \u001b[38;5;241m=\u001b[39m \u001b[43mchild\u001b[49m\u001b[43m(\u001b[49m\u001b[38;5;241;43m4\u001b[39;49m\u001b[43m,\u001b[49m\u001b[38;5;241;43m5\u001b[39;49m\u001b[43m,\u001b[49m\u001b[38;5;241;43m3\u001b[39;49m\u001b[43m,\u001b[49m\u001b[38;5;241;43m4\u001b[39;49m\u001b[43m,\u001b[49m\u001b[38;5;241;43m5\u001b[39;49m\u001b[43m,\u001b[49m\u001b[38;5;241;43m6\u001b[39;49m\u001b[43m)\u001b[49m\n",
      "Cell \u001b[1;32mIn[19], line 22\u001b[0m, in \u001b[0;36mchild.__init__\u001b[1;34m(self, *args, **kwrgs)\u001b[0m\n\u001b[0;32m     21\u001b[0m \u001b[38;5;28;01mdef\u001b[39;00m \u001b[38;5;21m__init__\u001b[39m(\u001b[38;5;28mself\u001b[39m,\u001b[38;5;241m*\u001b[39margs,\u001b[38;5;241m*\u001b[39m\u001b[38;5;241m*\u001b[39mkwrgs):\n\u001b[1;32m---> 22\u001b[0m     \u001b[43mxyz\u001b[49m\u001b[38;5;241;43m.\u001b[39;49m\u001b[38;5;21;43m__init__\u001b[39;49m\u001b[43m(\u001b[49m\u001b[38;5;28;43mself\u001b[39;49m\u001b[43m,\u001b[49m\u001b[38;5;241;43m*\u001b[39;49m\u001b[43margs\u001b[49m\u001b[43m)\u001b[49m\n\u001b[0;32m     23\u001b[0m     xyz1\u001b[38;5;241m.\u001b[39m\u001b[38;5;21m__init__\u001b[39m(\u001b[38;5;28mself\u001b[39m,\u001b[38;5;241m*\u001b[39m\u001b[38;5;241m*\u001b[39mkwrgs)\n",
      "\u001b[1;31mTypeError\u001b[0m: xyz.__init__() takes 4 positional arguments but 7 were given"
     ]
    }
   ],
   "source": [
    "n = child(4,5,3,4,5,6)"
   ]
  },
  {
   "cell_type": "code",
   "execution_count": null,
   "id": "3d5f24e1",
   "metadata": {},
   "outputs": [],
   "source": [
    "n = child(3,4,5,p= 5,q = 6,v = 8)"
   ]
  },
  {
   "cell_type": "code",
   "execution_count": null,
   "id": "11d73863",
   "metadata": {},
   "outputs": [],
   "source": [
    "n.p"
   ]
  },
  {
   "cell_type": "code",
   "execution_count": null,
   "id": "34f0c757",
   "metadata": {},
   "outputs": [],
   "source": [
    "n.q"
   ]
  },
  {
   "cell_type": "code",
   "execution_count": null,
   "id": "6fb2498c",
   "metadata": {},
   "outputs": [],
   "source": [
    "n.v"
   ]
  },
  {
   "cell_type": "markdown",
   "id": "560a250a",
   "metadata": {},
   "source": [
    "# Multilevel Inheritance"
   ]
  },
  {
   "cell_type": "code",
   "execution_count": null,
   "id": "5efc03dd",
   "metadata": {},
   "outputs": [],
   "source": [
    "class xyz : #This is grand-parents\n",
    "    def __init__(self,a,b,c):\n",
    "        self.a = a\n",
    "        self.b = b\n",
    "        self.c = c\n",
    "        \n",
    "    def box(self):\n",
    "        print(\"This is a box method of xyz class\")\n",
    "        \n",
    "class xyz1(xyz) : #This is parent\n",
    "\n",
    "        \n",
    "    def box1(self):\n",
    "        print(\"This is a box1 meth of class xyz1\")\n",
    "        \n",
    "class xyz2(xyz1): #This is child\n",
    "    def test2(self):\n",
    "        print(\"This is a meth for class xyz2\")\n",
    "        \n",
    "\n",
    "\n",
    "        "
   ]
  },
  {
   "cell_type": "code",
   "execution_count": null,
   "id": "927db180",
   "metadata": {},
   "outputs": [],
   "source": [
    "v = xyz2(3,4,4)"
   ]
  },
  {
   "cell_type": "code",
   "execution_count": null,
   "id": "83aa660f",
   "metadata": {},
   "outputs": [],
   "source": [
    "v.test2()"
   ]
  },
  {
   "cell_type": "code",
   "execution_count": null,
   "id": "7040dde3",
   "metadata": {},
   "outputs": [],
   "source": []
  },
  {
   "cell_type": "markdown",
   "id": "e3659683",
   "metadata": {},
   "source": [
    "q1 - create a file class for reading data from respective file with a method name read and write \n",
    "q2 - try to inherit read and write method form parent class to child to perform read and write operation"
   ]
  },
  {
   "cell_type": "code",
   "execution_count": null,
   "id": "eb2f095c",
   "metadata": {},
   "outputs": [],
   "source": [
    "f = open(\"exercise.txt\",\"w\")\n",
    "f.write(\"This is text file and in this text file i am apply the write operation\")"
   ]
  },
  {
   "cell_type": "code",
   "execution_count": null,
   "id": "f73de04f",
   "metadata": {},
   "outputs": [],
   "source": [
    "%ls"
   ]
  },
  {
   "cell_type": "code",
   "execution_count": null,
   "id": "9a2eabf5",
   "metadata": {},
   "outputs": [],
   "source": [
    "class read_file :\n",
    "    def __init__(self,fileobj):\n",
    "        self.file = fileobj\n",
    "    def read_file(self):\n",
    "        f = open(self.file,\"r\")\n",
    "        print(f.readline())\n",
    "    \n",
    "    def write_file(self,writing = \"\"):\n",
    "        write_content = open(self.file,\"w\")\n",
    "        write_content.write(writing)\n",
    "        write_content.close()\n",
    "\n",
    "class child(read_file):\n",
    "    pass\n",
    "c = read_file(\"exercise.txt\")\n",
    "c.read_file()\n",
    "c.write_file(\"dsjkdsk fds ffdks fdnnj sf fbfb klsfd \")\n",
    "        \n",
    "        "
   ]
  },
  {
   "cell_type": "code",
   "execution_count": null,
   "id": "0e14dd43",
   "metadata": {},
   "outputs": [],
   "source": [
    "c = read_file(\"exercise.txt\")"
   ]
  },
  {
   "cell_type": "code",
   "execution_count": null,
   "id": "f9695425",
   "metadata": {},
   "outputs": [],
   "source": [
    "c.write_file(\"sdksaj dj dsjf dsj kdsaji sdji s isdijdsf dsdni dfsd n \")\n"
   ]
  },
  {
   "cell_type": "code",
   "execution_count": null,
   "id": "d80f6994",
   "metadata": {},
   "outputs": [],
   "source": []
  },
  {
   "cell_type": "code",
   "execution_count": null,
   "id": "e19baaba",
   "metadata": {},
   "outputs": [],
   "source": [
    "!pip install PyPDF2"
   ]
  },
  {
   "cell_type": "markdown",
   "id": "20ede83b",
   "metadata": {},
   "source": [
    "# Encapsulation"
   ]
  },
  {
   "cell_type": "code",
   "execution_count": null,
   "id": "d4931e4d",
   "metadata": {},
   "outputs": [],
   "source": [
    "class test:\n",
    "    def __init__(self,a,b,c):\n",
    "        self.a = a\n",
    "        self.b = b\n",
    "        self.c = c\n",
    "        \n",
    "class test1(test):\n",
    "    pass\n",
    "\n",
    "v = test(2,3,4)"
   ]
  },
  {
   "cell_type": "code",
   "execution_count": null,
   "id": "6346a551",
   "metadata": {},
   "outputs": [],
   "source": [
    "u = test1(4,5,4)"
   ]
  },
  {
   "cell_type": "code",
   "execution_count": 34,
   "id": "d614f950",
   "metadata": {},
   "outputs": [],
   "source": [
    "class test4:\n",
    "    def __init__(self):\n",
    "        self.a = 5\n",
    "        \n",
    "class test5(test):\n",
    "    def __init__(self):\n",
    "        self.a = 8\n",
    "x = test4()"
   ]
  },
  {
   "cell_type": "code",
   "execution_count": 35,
   "id": "c8000307",
   "metadata": {},
   "outputs": [
    {
     "data": {
      "text/plain": [
       "5"
      ]
     },
     "execution_count": 35,
     "metadata": {},
     "output_type": "execute_result"
    }
   ],
   "source": [
    "x.a"
   ]
  },
  {
   "cell_type": "code",
   "execution_count": 30,
   "id": "d9a90379",
   "metadata": {},
   "outputs": [],
   "source": [
    "v = test1()"
   ]
  },
  {
   "cell_type": "code",
   "execution_count": null,
   "id": "8eddad9c",
   "metadata": {},
   "outputs": [],
   "source": [
    "v.a"
   ]
  },
  {
   "cell_type": "code",
   "execution_count": 41,
   "id": "d4a1cc95",
   "metadata": {},
   "outputs": [],
   "source": [
    "class test:\n",
    "    def __init__(self,a,b,c):\n",
    "        self._a = a #in this a is protected variable--> access for class and subclass\n",
    "        self.__b = b #in this __a is private variable--> access for perticular subclass \n",
    "        self.c = c  #in this c is public variable-->access for any class\n",
    "v = test(4,5,6)"
   ]
  },
  {
   "cell_type": "code",
   "execution_count": 42,
   "id": "7704584f",
   "metadata": {},
   "outputs": [
    {
     "data": {
      "text/plain": [
       "4"
      ]
     },
     "execution_count": 42,
     "metadata": {},
     "output_type": "execute_result"
    }
   ],
   "source": [
    "v._a"
   ]
  },
  {
   "cell_type": "code",
   "execution_count": 43,
   "id": "46346e39",
   "metadata": {},
   "outputs": [
    {
     "ename": "AttributeError",
     "evalue": "'test' object has no attribute '__b'",
     "output_type": "error",
     "traceback": [
      "\u001b[1;31m---------------------------------------------------------------------------\u001b[0m",
      "\u001b[1;31mAttributeError\u001b[0m                            Traceback (most recent call last)",
      "Cell \u001b[1;32mIn[43], line 1\u001b[0m\n\u001b[1;32m----> 1\u001b[0m \u001b[43mv\u001b[49m\u001b[38;5;241;43m.\u001b[39;49m\u001b[43m__b\u001b[49m\n",
      "\u001b[1;31mAttributeError\u001b[0m: 'test' object has no attribute '__b'"
     ]
    }
   ],
   "source": [
    "v.__b"
   ]
  },
  {
   "cell_type": "code",
   "execution_count": 44,
   "id": "e6911c13",
   "metadata": {},
   "outputs": [
    {
     "data": {
      "text/plain": [
       "5"
      ]
     },
     "execution_count": 44,
     "metadata": {},
     "output_type": "execute_result"
    }
   ],
   "source": [
    "v._test__b"
   ]
  },
  {
   "cell_type": "code",
   "execution_count": 53,
   "id": "ad61db1b",
   "metadata": {},
   "outputs": [],
   "source": [
    "class test:\n",
    "    def __init__(self,a,b,c):\n",
    "        self._a = a #in this a is protected variable--> access for class and subclass\n",
    "        self.__b = b #in this __a is private variable--> access for perticular subclass \n",
    "        self.c = c  #in this c is public variable-->access for any class\n",
    "class test1(test):\n",
    "    pass\n",
    "v = test(4,5,6)"
   ]
  },
  {
   "cell_type": "code",
   "execution_count": 46,
   "id": "e7653237",
   "metadata": {},
   "outputs": [
    {
     "data": {
      "text/plain": [
       "4"
      ]
     },
     "execution_count": 46,
     "metadata": {},
     "output_type": "execute_result"
    }
   ],
   "source": [
    "v._a"
   ]
  },
  {
   "cell_type": "code",
   "execution_count": 48,
   "id": "8e2548b1",
   "metadata": {},
   "outputs": [
    {
     "data": {
      "text/plain": [
       "5"
      ]
     },
     "execution_count": 48,
     "metadata": {},
     "output_type": "execute_result"
    }
   ],
   "source": [
    "v._test__b"
   ]
  },
  {
   "cell_type": "code",
   "execution_count": 49,
   "id": "63f8570c",
   "metadata": {},
   "outputs": [
    {
     "data": {
      "text/plain": [
       "6"
      ]
     },
     "execution_count": 49,
     "metadata": {},
     "output_type": "execute_result"
    }
   ],
   "source": [
    "v.c"
   ]
  },
  {
   "cell_type": "code",
   "execution_count": 54,
   "id": "b8188c16",
   "metadata": {},
   "outputs": [],
   "source": [
    "u = test1(2,3,5)"
   ]
  },
  {
   "cell_type": "code",
   "execution_count": 55,
   "id": "ecbdd584",
   "metadata": {},
   "outputs": [
    {
     "data": {
      "text/plain": [
       "2"
      ]
     },
     "execution_count": 55,
     "metadata": {},
     "output_type": "execute_result"
    }
   ],
   "source": [
    "u._a"
   ]
  },
  {
   "cell_type": "code",
   "execution_count": 56,
   "id": "54a1cb22",
   "metadata": {},
   "outputs": [
    {
     "ename": "AttributeError",
     "evalue": "'test1' object has no attribute '_test1__b'",
     "output_type": "error",
     "traceback": [
      "\u001b[1;31m---------------------------------------------------------------------------\u001b[0m",
      "\u001b[1;31mAttributeError\u001b[0m                            Traceback (most recent call last)",
      "Cell \u001b[1;32mIn[56], line 1\u001b[0m\n\u001b[1;32m----> 1\u001b[0m \u001b[43mu\u001b[49m\u001b[38;5;241;43m.\u001b[39;49m\u001b[43m_test1__b\u001b[49m\n",
      "\u001b[1;31mAttributeError\u001b[0m: 'test1' object has no attribute '_test1__b'"
     ]
    }
   ],
   "source": [
    "u._test1__b"
   ]
  },
  {
   "cell_type": "code",
   "execution_count": 57,
   "id": "dcd51929",
   "metadata": {},
   "outputs": [
    {
     "data": {
      "text/plain": [
       "3"
      ]
     },
     "execution_count": 57,
     "metadata": {},
     "output_type": "execute_result"
    }
   ],
   "source": [
    "u._test__b #for access the private variable we to take parent class of name in the notation"
   ]
  },
  {
   "cell_type": "code",
   "execution_count": 64,
   "id": "30f08440",
   "metadata": {},
   "outputs": [],
   "source": [
    "class bonouscalculater :\n",
    "    def __init__(self,empid,emprating):\n",
    "        self.empid = empid\n",
    "        self.emprating = emprating\n",
    "        self.__bonousforratingsA = \"70%\"\n",
    "        self.__bonousforratingsB = \"60%\"\n",
    "        self.__bonousforratingsC = \"40%\"\n",
    "        \n",
    "    def bonouscalculaltor(self):\n",
    "        if self.emprating == \"A\":\n",
    "            bonus = self.__bonousforratingsA\n",
    "            return bonus\n",
    "        elif self.emprating == \"B\":\n",
    "                bonus = self.__bonousforratingsB\n",
    "                return bonus\n",
    "        else:\n",
    "            bonus = self.__bonousforratingsC\n",
    "            return bonus\n",
    "        "
   ]
  },
  {
   "cell_type": "code",
   "execution_count": 65,
   "id": "a98b919f",
   "metadata": {},
   "outputs": [],
   "source": [
    "emp1 = bonouscalculater(101,\"A\")\n",
    "emp2 = bonouscalculater(102,\"B\")\n",
    "emp3 = bonouscalculater(103,\"C\")"
   ]
  },
  {
   "cell_type": "code",
   "execution_count": 66,
   "id": "facafd5e",
   "metadata": {},
   "outputs": [
    {
     "data": {
      "text/plain": [
       "'70%'"
      ]
     },
     "execution_count": 66,
     "metadata": {},
     "output_type": "execute_result"
    }
   ],
   "source": [
    "emp1.bonouscalculaltor()"
   ]
  },
  {
   "cell_type": "code",
   "execution_count": 67,
   "id": "8b0c2f2b",
   "metadata": {},
   "outputs": [
    {
     "data": {
      "text/plain": [
       "'60%'"
      ]
     },
     "execution_count": 67,
     "metadata": {},
     "output_type": "execute_result"
    }
   ],
   "source": [
    "emp2.bonouscalculaltor()"
   ]
  },
  {
   "cell_type": "code",
   "execution_count": 68,
   "id": "37133c93",
   "metadata": {},
   "outputs": [],
   "source": [
    "emp1.emprating = \"B\" #it change because it is a public variable"
   ]
  },
  {
   "cell_type": "code",
   "execution_count": 69,
   "id": "b7dc9c61",
   "metadata": {},
   "outputs": [
    {
     "data": {
      "text/plain": [
       "'B'"
      ]
     },
     "execution_count": 69,
     "metadata": {},
     "output_type": "execute_result"
    }
   ],
   "source": [
    "emp1.emprating"
   ]
  },
  {
   "cell_type": "code",
   "execution_count": 70,
   "id": "6d161271",
   "metadata": {},
   "outputs": [],
   "source": [
    "emp1.__bonouscalculater =\"90%\" "
   ]
  },
  {
   "cell_type": "code",
   "execution_count": 71,
   "id": "739ba39c",
   "metadata": {},
   "outputs": [
    {
     "data": {
      "text/plain": [
       "'60%'"
      ]
     },
     "execution_count": 71,
     "metadata": {},
     "output_type": "execute_result"
    }
   ],
   "source": [
    "emp1.bonouscalculaltor()  #it doesn't change cause it is private variable"
   ]
  },
  {
   "cell_type": "code",
   "execution_count": 72,
   "id": "7304857b",
   "metadata": {},
   "outputs": [],
   "source": [
    "emp1._bonouscalculater__bonousforratingsB = \"4343\""
   ]
  },
  {
   "cell_type": "code",
   "execution_count": 74,
   "id": "cc750609",
   "metadata": {},
   "outputs": [
    {
     "data": {
      "text/plain": [
       "'4343'"
      ]
     },
     "execution_count": 74,
     "metadata": {},
     "output_type": "execute_result"
    }
   ],
   "source": [
    "emp1.bonouscalculaltor()  #It changes beacause we define it as private variable(mention class name in variable)"
   ]
  },
  {
   "cell_type": "code",
   "execution_count": null,
   "id": "5a56a09b",
   "metadata": {},
   "outputs": [],
   "source": []
  }
 ],
 "metadata": {
  "kernelspec": {
   "display_name": "Python 3 (ipykernel)",
   "language": "python",
   "name": "python3"
  },
  "language_info": {
   "codemirror_mode": {
    "name": "ipython",
    "version": 3
   },
   "file_extension": ".py",
   "mimetype": "text/x-python",
   "name": "python",
   "nbconvert_exporter": "python",
   "pygments_lexer": "ipython3",
   "version": "3.10.7"
  }
 },
 "nbformat": 4,
 "nbformat_minor": 5
}
