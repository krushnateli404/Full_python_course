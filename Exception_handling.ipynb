{
 "cells": [
  {
   "cell_type": "markdown",
   "id": "c270f434",
   "metadata": {},
   "source": [
    "# Exception handling"
   ]
  },
  {
   "cell_type": "code",
   "execution_count": 1,
   "id": "16f9dd69",
   "metadata": {},
   "outputs": [
    {
     "data": {
      "text/plain": [
       "1.0"
      ]
     },
     "execution_count": 1,
     "metadata": {},
     "output_type": "execute_result"
    }
   ],
   "source": [
    "a= 10 \n",
    "a/10"
   ]
  },
  {
   "cell_type": "code",
   "execution_count": 2,
   "id": "6f37bd90",
   "metadata": {},
   "outputs": [
    {
     "ename": "ZeroDivisionError",
     "evalue": "division by zero",
     "output_type": "error",
     "traceback": [
      "\u001b[1;31m---------------------------------------------------------------------------\u001b[0m",
      "\u001b[1;31mZeroDivisionError\u001b[0m                         Traceback (most recent call last)",
      "Cell \u001b[1;32mIn [2], line 1\u001b[0m\n\u001b[1;32m----> 1\u001b[0m \u001b[43ma\u001b[49m\u001b[38;5;241;43m/\u001b[39;49m\u001b[38;5;241;43m0\u001b[39;49m\n\u001b[0;32m      2\u001b[0m \u001b[38;5;28mprint\u001b[39m(\u001b[38;5;124m\"\u001b[39m\u001b[38;5;124mThis is my program\u001b[39m\u001b[38;5;124m\"\u001b[39m)\n",
      "\u001b[1;31mZeroDivisionError\u001b[0m: division by zero"
     ]
    }
   ],
   "source": [
    "a/0\n",
    "print(\"This is my program\")"
   ]
  },
  {
   "cell_type": "code",
   "execution_count": null,
   "id": "71e2d104",
   "metadata": {},
   "outputs": [],
   "source": [
    "a = 5\n",
    "b = int(input())\n",
    "a/b"
   ]
  },
  {
   "cell_type": "code",
   "execution_count": null,
   "id": "0cb02181",
   "metadata": {},
   "outputs": [],
   "source": [
    "f = open('test4,txt','r')\n",
    "f.write(\"dfjfd fdhj fbfb fkjjd\")\n",
    "print(\"This is my code\")"
   ]
  },
  {
   "cell_type": "code",
   "execution_count": null,
   "id": "52f42e84",
   "metadata": {},
   "outputs": [],
   "source": [
    "f = open('test4,txt','w')\n",
    "f.write(\"dfjfd fdhj fbfb fkjjd\")\n",
    "print(\"This is my code\")"
   ]
  },
  {
   "cell_type": "markdown",
   "id": "503a40d1",
   "metadata": {},
   "source": [
    "# Exception handling is use for handle the run time error not syntax error"
   ]
  },
  {
   "cell_type": "code",
   "execution_count": null,
   "id": "5fbcc98c",
   "metadata": {},
   "outputs": [],
   "source": [
    "try:\n",
    "    f  = open('test5.txt',\"r\")\n",
    "    f.write(\"rjfhjdsh\")\n",
    "except:\n",
    "    print(\"There was mistake\")\n",
    "print(\"This is my code\")"
   ]
  },
  {
   "cell_type": "markdown",
   "id": "994595c8",
   "metadata": {},
   "source": [
    "# except block is mendetory"
   ]
  },
  {
   "cell_type": "code",
   "execution_count": null,
   "id": "e219d900",
   "metadata": {},
   "outputs": [],
   "source": [
    "l = [3,34,43,65,654,54,3]\n",
    "for i range(len(l)):\n",
    "    print(l)"
   ]
  },
  {
   "cell_type": "code",
   "execution_count": null,
   "id": "1889d3fb",
   "metadata": {},
   "outputs": [],
   "source": [
    "l = [3,34,43,65,654,54,3]\n",
    "try:\n",
    "    for i range(len(l)):\n",
    "    print(l)\n",
    "except:\n",
    "    print(\"This is my code\")"
   ]
  },
  {
   "cell_type": "code",
   "execution_count": null,
   "id": "2ff268c7",
   "metadata": {},
   "outputs": [],
   "source": [
    "l = [3,34,43,65,654,54,3]\n",
    "try:\n",
    "    for i in range(len(l)+1):\n",
    "        print(l[i])\n",
    "except:\n",
    "    print(\"This is my code\")"
   ]
  },
  {
   "cell_type": "code",
   "execution_count": null,
   "id": "6f4f62c5",
   "metadata": {},
   "outputs": [],
   "source": [
    "l = [3,34,43,65,654,54,3]\n",
    "for i in range(len(l)+1):\n",
    "        print(l[i])"
   ]
  },
  {
   "cell_type": "code",
   "execution_count": null,
   "id": "6c83e1f2",
   "metadata": {},
   "outputs": [],
   "source": [
    "a = 8\n",
    "b = int(input())\n",
    "try:\n",
    "    print(a/b)\n",
    "except:\n",
    "    print(\"The given code will be continue from here\")"
   ]
  },
  {
   "cell_type": "markdown",
   "id": "cdea9e65",
   "metadata": {},
   "source": [
    "# adding Exception is shows the which error we got "
   ]
  },
  {
   "cell_type": "code",
   "execution_count": null,
   "id": "80221180",
   "metadata": {},
   "outputs": [],
   "source": [
    "l = [3,34,43,65,654,54,3]\n",
    "try:\n",
    "    for i in range(len(l)+1):\n",
    "        print(l[i])\n",
    "except Exception as e:\n",
    "    print(e) "
   ]
  },
  {
   "cell_type": "code",
   "execution_count": null,
   "id": "a7a2045e",
   "metadata": {},
   "outputs": [],
   "source": [
    "try :\n",
    "    a = int(input())\n",
    "    b = int(input())\n",
    "except Exception as e:\n",
    "    print(e)\n",
    "print(\"kdfkjdkshffd dfjksd\")"
   ]
  },
  {
   "cell_type": "code",
   "execution_count": null,
   "id": "c7f767cf",
   "metadata": {},
   "outputs": [],
   "source": [
    "a = int(input())"
   ]
  },
  {
   "cell_type": "code",
   "execution_count": null,
   "id": "22490996",
   "metadata": {},
   "outputs": [],
   "source": [
    "\n",
    "try:\n",
    "    a = int(input())\n",
    "except Exception as e:\n",
    "    print(e)"
   ]
  },
  {
   "cell_type": "code",
   "execution_count": null,
   "id": "16e4cfc1",
   "metadata": {},
   "outputs": [],
   "source": [
    "try:\n",
    "    f = open('test.txt','r')\n",
    "    f.write(\"This is my code with exception handling\")\n",
    "    print(\"This is ny code after write ops\")\n",
    "except :\n",
    "    print(\"This is my handler\")\n",
    "l = [1,23,3,34,3]\n",
    "for i in l:\n",
    "    print(i)\n",
    "    "
   ]
  },
  {
   "cell_type": "code",
   "execution_count": null,
   "id": "61c755b2",
   "metadata": {},
   "outputs": [],
   "source": [
    "f = open('test.txt','r')\n",
    "f.write(\"This is my code with exception handling\")\n",
    "print(\"This is ny code after write ops\")\n",
    "l = [1,23,3,34,3]\n",
    "for i in l:\n",
    "    print(i)"
   ]
  },
  {
   "cell_type": "code",
   "execution_count": null,
   "id": "33f6b36c",
   "metadata": {},
   "outputs": [],
   "source": [
    "try:\n",
    "    f = open('test.txt','r')\n",
    "    f.write(\"This is my code with exception handling\")\n",
    "    print(\"This is ny code after write ops\")\n",
    "except :\n",
    "    print(\"This is my handler\")\n",
    "try:\n",
    "    l = [1,23,3,34,3]\n",
    "    for i in range(len(l+1)):\n",
    "        print(i)\n",
    "except Exception as e:\n",
    "    print(e)"
   ]
  },
  {
   "cell_type": "code",
   "execution_count": null,
   "id": "7da52368",
   "metadata": {},
   "outputs": [],
   "source": [
    "try:\n",
    "    d = {\"key1\":\"krushna\",\"key2\":[23,43,4,3,4],\"key3\":(4,43,54,66)}\n",
    "    d[\"key4\"] = int(input())\n",
    "except Exception as krushna:\n",
    "    print(krushna)\n",
    "    "
   ]
  },
  {
   "cell_type": "markdown",
   "id": "8d547631",
   "metadata": {},
   "source": [
    "# NOTE: Exception is called Superclass"
   ]
  },
  {
   "cell_type": "code",
   "execution_count": null,
   "id": "65e25a77",
   "metadata": {},
   "outputs": [],
   "source": [
    "d = {\"key1\":\"krushna\",\"key2\":[23,43,4,3,4],\"key3\":(4,43,54,66)}\n",
    "d[\"key4\"] = int(input())"
   ]
  },
  {
   "cell_type": "code",
   "execution_count": null,
   "id": "ed937bb4",
   "metadata": {},
   "outputs": [],
   "source": [
    "#here error is valueerror so that's why it run \n",
    "try:\n",
    "    d = {\"key1\":\"krushna\",\"key2\":[23,43,4,3,4],\"key3\":(4,43,54,66)}\n",
    "    d[\"key4\"] = int(input())\n",
    "    f = open('test2','r')\n",
    "except ValueError as krushna:\n",
    "    print(krushna)"
   ]
  },
  {
   "cell_type": "markdown",
   "id": "2f84798d",
   "metadata": {},
   "source": [
    "# note:another error like value error,filenotfounderror are the subclass of superclass Exception"
   ]
  },
  {
   "cell_type": "code",
   "execution_count": null,
   "id": "8ae380a8",
   "metadata": {},
   "outputs": [],
   "source": [
    "#here error is filenotfounderror and we wrote in code the ValueError so thats why its doesn't run\n",
    "try:\n",
    "    d = {\"key1\":\"krushna\",\"key2\":[23,43,4,3,4],\"key3\":(4,43,54,66)}\n",
    "    d[\"key4\"] = int(input())\n",
    "    f = open('test2','r')\n",
    "except ValueError as krushna:\n",
    "    print(krushna)"
   ]
  },
  {
   "cell_type": "code",
   "execution_count": null,
   "id": "34814b5d",
   "metadata": {},
   "outputs": [],
   "source": [
    "#here code is run cause the Exception is the superclass of these error(class) \n",
    "try:\n",
    "    d = {\"key1\":\"krushna\",\"key2\":[23,43,4,3,4],\"key3\":(4,43,54,66)}\n",
    "    d[\"key4\"] = int(input())\n",
    "    f = open('test2','r')\n",
    "except Exception as krushna:\n",
    "    print(krushna)"
   ]
  },
  {
   "cell_type": "code",
   "execution_count": null,
   "id": "80b2a2b7",
   "metadata": {},
   "outputs": [],
   "source": [
    "try:\n",
    "    d = {\"key1\":\"krushna\",\"key2\":[23,43,4,3,4],\"key3\":(4,43,54,66)}\n",
    "    d[\"key4\"] = int(input())\n",
    "    f = open('test2','r')\n",
    "except Exception as ee:\n",
    "    print(\"This is my Exception class: \",ee)\n",
    "except ValueError as krushna:\n",
    "    print(krushna)\n",
    "except FileNotFoundError as e:\n",
    "    print(e)"
   ]
  },
  {
   "cell_type": "code",
   "execution_count": null,
   "id": "fe37b1f5",
   "metadata": {},
   "outputs": [],
   "source": [
    "#its follow seqeuntially manner\n",
    "try:\n",
    "    d = {\"key1\":\"krushna\",\"key2\":[23,43,4,3,4],\"key3\":(4,43,54,66)}\n",
    "    d[\"key4\"] = int(input())\n",
    "    f = open('test2','r')\n",
    "except ValueError as krushna:\n",
    "    print(krushna)\n",
    "except FileNotFoundError as e:\n",
    "    print(e)\n",
    "except Exception as ee:\n",
    "    print(\"This is my Exception class: \",ee)"
   ]
  },
  {
   "cell_type": "markdown",
   "id": "21075dbb",
   "metadata": {},
   "source": [
    "# else block"
   ]
  },
  {
   "cell_type": "code",
   "execution_count": null,
   "id": "80e61494",
   "metadata": {},
   "outputs": [],
   "source": [
    "#else block : this will execute once my try block will be executed succesfully\n",
    "try:\n",
    "    f = open(\"test.txt\",\"w\")\n",
    "    f.write(\"This is my code in try\")\n",
    "except Exception as e:\n",
    "    print(\"This will handle an error \")\n",
    "else:\n",
    "    print(\"this will execute once my try block will be executed succesfully\")\n",
    "    f.close()"
   ]
  },
  {
   "cell_type": "code",
   "execution_count": null,
   "id": "fe08434c",
   "metadata": {},
   "outputs": [],
   "source": [
    "try:\n",
    "    f = open(\"test.txt\",\"r\")\n",
    "    f.write(\"This is my code in try\")\n",
    "except Exception as e:\n",
    "    print(\"This will handle an error \")\n",
    "else:\n",
    "    print(\"this will execute once my try block will be executed succesfully\")\n",
    "    f.close()"
   ]
  },
  {
   "cell_type": "markdown",
   "id": "9506de25",
   "metadata": {},
   "source": [
    "# finally block: This will execute all the time"
   ]
  },
  {
   "cell_type": "code",
   "execution_count": null,
   "id": "e6872ffa",
   "metadata": {},
   "outputs": [],
   "source": [
    "#finally block: This will execute all the time\n",
    "try:\n",
    "    f = open(\"test45.txt\",\"w\")\n",
    "except Exception as e:\n",
    "    print(\"dfjksjffds\",e)\n",
    "else:\n",
    "    print(\"do this on succesfull execution of try block \")\n",
    "finally:\n",
    "    print(\"This will execute all the time \") #it use for sure \n"
   ]
  },
  {
   "cell_type": "code",
   "execution_count": null,
   "id": "34491ed7",
   "metadata": {},
   "outputs": [],
   "source": [
    "try:\n",
    "    f = open(\"test45.txt\",\"w\")\n",
    "except Exception as e:\n",
    "    print(\"dfjksjffds\",e)\n",
    "else:\n",
    "    print(\"do this on succesfull execution of try block \")\n",
    "finally:\n",
    "    print(\"This will execute all the time \")\n",
    "    f = open(\"fdsf\",'r')\n",
    "    "
   ]
  },
  {
   "cell_type": "code",
   "execution_count": null,
   "id": "6c938743",
   "metadata": {},
   "outputs": [],
   "source": [
    "try:\n",
    "    f = open(\"test45.txt\",\"w\")\n",
    "except Exception as e:\n",
    "    print(\"dfjksjffds\",e)\n",
    "else:\n",
    "    print(\"do this on succesfull execution of try block \")\n",
    "finally:\n",
    "    print(\"This will execute all the time \")\n",
    "    try:\n",
    "        f = open(\"fdsf\",'r')\n",
    "    except:\n",
    "        print(\"handle this \")\n",
    "    finally:\n",
    "        print(\"It will come to this block for sure\")"
   ]
  },
  {
   "cell_type": "code",
   "execution_count": null,
   "id": "ff1f0a26",
   "metadata": {},
   "outputs": [],
   "source": [
    "def askint():\n",
    "    a = int(input())\n",
    "    return a"
   ]
  },
  {
   "cell_type": "code",
   "execution_count": null,
   "id": "02694222",
   "metadata": {},
   "outputs": [],
   "source": [
    "askint()"
   ]
  },
  {
   "cell_type": "code",
   "execution_count": null,
   "id": "7b899234",
   "metadata": {},
   "outputs": [],
   "source": [
    "askint()"
   ]
  },
  {
   "cell_type": "code",
   "execution_count": null,
   "id": "937e5969",
   "metadata": {},
   "outputs": [],
   "source": [
    "def askint():\n",
    "    try:\n",
    "        a = int(input())\n",
    "        return a\n",
    "    except Exception as e:\n",
    "        print(\"This is my input error:  \" ,e)"
   ]
  },
  {
   "cell_type": "code",
   "execution_count": null,
   "id": "f3d753b7",
   "metadata": {},
   "outputs": [],
   "source": [
    "askint()"
   ]
  },
  {
   "cell_type": "code",
   "execution_count": null,
   "id": "03661d1f",
   "metadata": {},
   "outputs": [],
   "source": [
    "askint()"
   ]
  },
  {
   "cell_type": "code",
   "execution_count": null,
   "id": "18b982fc",
   "metadata": {},
   "outputs": [],
   "source": [
    "create a function if someone going to enter number "
   ]
  },
  {
   "cell_type": "code",
   "execution_count": null,
   "id": "6f2411a8",
   "metadata": {},
   "outputs": [],
   "source": [
    "\n",
    "        \n",
    "        \n",
    "    \n",
    "    \n"
   ]
  },
  {
   "cell_type": "code",
   "execution_count": null,
   "id": "5c4a8280",
   "metadata": {},
   "outputs": [],
   "source": [
    "test()"
   ]
  },
  {
   "cell_type": "code",
   "execution_count": 4,
   "id": "4115bd23",
   "metadata": {},
   "outputs": [],
   "source": [
    "def test():\n",
    "    for i in range(100):\n",
    "        try:\n",
    "                    a = int(input())\n",
    "                    if type(a) == int:\n",
    "                        return a\n",
    "        except Exception as e:\n",
    "            print(e)\n",
    "            continue"
   ]
  },
  {
   "cell_type": "code",
   "execution_count": 5,
   "id": "9d4af8da",
   "metadata": {},
   "outputs": [
    {
     "name": "stdout",
     "output_type": "stream",
     "text": [
      "sfdds\n",
      "invalid literal for int() with base 10: 'sfdds'\n",
      "4\n"
     ]
    },
    {
     "data": {
      "text/plain": [
       "4"
      ]
     },
     "execution_count": 5,
     "metadata": {},
     "output_type": "execute_result"
    }
   ],
   "source": [
    "test()"
   ]
  },
  {
   "cell_type": "code",
   "execution_count": 6,
   "id": "ac752632",
   "metadata": {},
   "outputs": [],
   "source": [
    "def integer():\n",
    "    while True:\n",
    "        try:\n",
    "            a = int(input())\n",
    "            break\n",
    "        except ValueError:\n",
    "            print(\"please take input only number\")\n",
    "            continue"
   ]
  },
  {
   "cell_type": "code",
   "execution_count": 7,
   "id": "1d7211ae",
   "metadata": {},
   "outputs": [
    {
     "name": "stdout",
     "output_type": "stream",
     "text": [
      "fd\n",
      "please take input only number\n",
      "fd\n",
      "please take input only number\n",
      "4\n"
     ]
    }
   ],
   "source": [
    "integer()"
   ]
  },
  {
   "cell_type": "code",
   "execution_count": 8,
   "id": "b3cac307",
   "metadata": {},
   "outputs": [],
   "source": [
    "def integer():\n",
    "    while True:\n",
    "        try:\n",
    "            a = int(input())\n",
    "            break\n",
    "        except Exception:\n",
    "            print(\"please take input only number\")\n",
    "            continue"
   ]
  },
  {
   "cell_type": "code",
   "execution_count": 9,
   "id": "2ee4dc3d",
   "metadata": {},
   "outputs": [
    {
     "name": "stdout",
     "output_type": "stream",
     "text": [
      "fsd\n",
      "please take input only number\n",
      "4\n"
     ]
    }
   ],
   "source": [
    "integer()"
   ]
  },
  {
   "cell_type": "markdown",
   "id": "1a6e0eb1",
   "metadata": {},
   "source": [
    "# Create own Exception"
   ]
  },
  {
   "cell_type": "code",
   "execution_count": 12,
   "id": "1ac4c9fb",
   "metadata": {},
   "outputs": [],
   "source": [
    "def test2(s):\n",
    "    if s < 0:\n",
    "        raise Exception(\"You have entered a negative value\",s)\n",
    "    return a"
   ]
  },
  {
   "cell_type": "code",
   "execution_count": 13,
   "id": "8ac3bf6e",
   "metadata": {},
   "outputs": [
    {
     "ename": "Exception",
     "evalue": "('You have entered a negative value', -5)",
     "output_type": "error",
     "traceback": [
      "\u001b[1;31m---------------------------------------------------------------------------\u001b[0m",
      "\u001b[1;31mException\u001b[0m                                 Traceback (most recent call last)",
      "Cell \u001b[1;32mIn [13], line 1\u001b[0m\n\u001b[1;32m----> 1\u001b[0m \u001b[43mtest2\u001b[49m\u001b[43m(\u001b[49m\u001b[38;5;241;43m-\u001b[39;49m\u001b[38;5;241;43m5\u001b[39;49m\u001b[43m)\u001b[49m\n",
      "Cell \u001b[1;32mIn [12], line 3\u001b[0m, in \u001b[0;36mtest2\u001b[1;34m(s)\u001b[0m\n\u001b[0;32m      1\u001b[0m \u001b[38;5;28;01mdef\u001b[39;00m \u001b[38;5;21mtest2\u001b[39m(s):\n\u001b[0;32m      2\u001b[0m     \u001b[38;5;28;01mif\u001b[39;00m s \u001b[38;5;241m<\u001b[39m \u001b[38;5;241m0\u001b[39m:\n\u001b[1;32m----> 3\u001b[0m         \u001b[38;5;28;01mraise\u001b[39;00m \u001b[38;5;167;01mException\u001b[39;00m(\u001b[38;5;124m\"\u001b[39m\u001b[38;5;124mYou have entered a negative value\u001b[39m\u001b[38;5;124m\"\u001b[39m,s)\n\u001b[0;32m      4\u001b[0m     \u001b[38;5;28;01mreturn\u001b[39;00m a\n",
      "\u001b[1;31mException\u001b[0m: ('You have entered a negative value', -5)"
     ]
    }
   ],
   "source": [
    "test2(-5)"
   ]
  },
  {
   "cell_type": "code",
   "execution_count": 14,
   "id": "ce1cd6ba",
   "metadata": {},
   "outputs": [],
   "source": [
    "def test3(s):\n",
    "    if s < 0:\n",
    "        raise ValueError(\"You have entered a negative value\",s)\n",
    "    return a"
   ]
  },
  {
   "cell_type": "code",
   "execution_count": 15,
   "id": "d227e4d8",
   "metadata": {},
   "outputs": [
    {
     "ename": "ValueError",
     "evalue": "('You have entered a negative value', -3)",
     "output_type": "error",
     "traceback": [
      "\u001b[1;31m---------------------------------------------------------------------------\u001b[0m",
      "\u001b[1;31mValueError\u001b[0m                                Traceback (most recent call last)",
      "Cell \u001b[1;32mIn [15], line 1\u001b[0m\n\u001b[1;32m----> 1\u001b[0m \u001b[43mtest3\u001b[49m\u001b[43m(\u001b[49m\u001b[38;5;241;43m-\u001b[39;49m\u001b[38;5;241;43m3\u001b[39;49m\u001b[43m)\u001b[49m\n",
      "Cell \u001b[1;32mIn [14], line 3\u001b[0m, in \u001b[0;36mtest3\u001b[1;34m(s)\u001b[0m\n\u001b[0;32m      1\u001b[0m \u001b[38;5;28;01mdef\u001b[39;00m \u001b[38;5;21mtest3\u001b[39m(s):\n\u001b[0;32m      2\u001b[0m     \u001b[38;5;28;01mif\u001b[39;00m s \u001b[38;5;241m<\u001b[39m \u001b[38;5;241m0\u001b[39m:\n\u001b[1;32m----> 3\u001b[0m         \u001b[38;5;28;01mraise\u001b[39;00m \u001b[38;5;167;01mValueError\u001b[39;00m(\u001b[38;5;124m\"\u001b[39m\u001b[38;5;124mYou have entered a negative value\u001b[39m\u001b[38;5;124m\"\u001b[39m,s)\n\u001b[0;32m      4\u001b[0m     \u001b[38;5;28;01mreturn\u001b[39;00m a\n",
      "\u001b[1;31mValueError\u001b[0m: ('You have entered a negative value', -3)"
     ]
    }
   ],
   "source": [
    "test3(-3)"
   ]
  },
  {
   "cell_type": "code",
   "execution_count": 19,
   "id": "9f1e300f",
   "metadata": {},
   "outputs": [],
   "source": [
    "def test4(s):\n",
    "    if s < 0:\n",
    "        raise ZeroDivisionError(\"You have entered a negative value\",s)\n",
    "    return a"
   ]
  },
  {
   "cell_type": "code",
   "execution_count": 20,
   "id": "f6c64ecd",
   "metadata": {},
   "outputs": [
    {
     "ename": "ZeroDivisionError",
     "evalue": "('You have entered a negative value', -5)",
     "output_type": "error",
     "traceback": [
      "\u001b[1;31m---------------------------------------------------------------------------\u001b[0m",
      "\u001b[1;31mZeroDivisionError\u001b[0m                         Traceback (most recent call last)",
      "Cell \u001b[1;32mIn [20], line 1\u001b[0m\n\u001b[1;32m----> 1\u001b[0m \u001b[43mtest4\u001b[49m\u001b[43m(\u001b[49m\u001b[38;5;241;43m-\u001b[39;49m\u001b[38;5;241;43m5\u001b[39;49m\u001b[43m)\u001b[49m\n",
      "Cell \u001b[1;32mIn [19], line 3\u001b[0m, in \u001b[0;36mtest4\u001b[1;34m(s)\u001b[0m\n\u001b[0;32m      1\u001b[0m \u001b[38;5;28;01mdef\u001b[39;00m \u001b[38;5;21mtest4\u001b[39m(s):\n\u001b[0;32m      2\u001b[0m     \u001b[38;5;28;01mif\u001b[39;00m s \u001b[38;5;241m<\u001b[39m \u001b[38;5;241m0\u001b[39m:\n\u001b[1;32m----> 3\u001b[0m         \u001b[38;5;28;01mraise\u001b[39;00m \u001b[38;5;167;01mZeroDivisionError\u001b[39;00m(\u001b[38;5;124m\"\u001b[39m\u001b[38;5;124mYou have entered a negative value\u001b[39m\u001b[38;5;124m\"\u001b[39m,s)\n\u001b[0;32m      4\u001b[0m     \u001b[38;5;28;01mreturn\u001b[39;00m a\n",
      "\u001b[1;31mZeroDivisionError\u001b[0m: ('You have entered a negative value', -5)"
     ]
    }
   ],
   "source": [
    "test4(-5)"
   ]
  },
  {
   "cell_type": "code",
   "execution_count": 21,
   "id": "7dcb343c",
   "metadata": {},
   "outputs": [],
   "source": [
    "def test5(s):\n",
    "    if s == \"krushna\":\n",
    "        raise ZeroDivisionError(\"You have entered a negative value\",s)\n",
    "    return s"
   ]
  },
  {
   "cell_type": "code",
   "execution_count": 22,
   "id": "04456f32",
   "metadata": {},
   "outputs": [
    {
     "ename": "ZeroDivisionError",
     "evalue": "('You have entered a negative value', 'krushna')",
     "output_type": "error",
     "traceback": [
      "\u001b[1;31m---------------------------------------------------------------------------\u001b[0m",
      "\u001b[1;31mZeroDivisionError\u001b[0m                         Traceback (most recent call last)",
      "Cell \u001b[1;32mIn [22], line 1\u001b[0m\n\u001b[1;32m----> 1\u001b[0m \u001b[43mtest5\u001b[49m\u001b[43m(\u001b[49m\u001b[38;5;124;43m\"\u001b[39;49m\u001b[38;5;124;43mkrushna\u001b[39;49m\u001b[38;5;124;43m\"\u001b[39;49m\u001b[43m)\u001b[49m\n",
      "Cell \u001b[1;32mIn [21], line 3\u001b[0m, in \u001b[0;36mtest5\u001b[1;34m(s)\u001b[0m\n\u001b[0;32m      1\u001b[0m \u001b[38;5;28;01mdef\u001b[39;00m \u001b[38;5;21mtest5\u001b[39m(s):\n\u001b[0;32m      2\u001b[0m     \u001b[38;5;28;01mif\u001b[39;00m s \u001b[38;5;241m==\u001b[39m \u001b[38;5;124m\"\u001b[39m\u001b[38;5;124mkrushna\u001b[39m\u001b[38;5;124m\"\u001b[39m:\n\u001b[1;32m----> 3\u001b[0m         \u001b[38;5;28;01mraise\u001b[39;00m \u001b[38;5;167;01mZeroDivisionError\u001b[39;00m(\u001b[38;5;124m\"\u001b[39m\u001b[38;5;124mYou have entered a negative value\u001b[39m\u001b[38;5;124m\"\u001b[39m,s)\n\u001b[0;32m      4\u001b[0m     \u001b[38;5;28;01mreturn\u001b[39;00m s\n",
      "\u001b[1;31mZeroDivisionError\u001b[0m: ('You have entered a negative value', 'krushna')"
     ]
    }
   ],
   "source": [
    "test5(\"krushna\")"
   ]
  },
  {
   "cell_type": "code",
   "execution_count": 24,
   "id": "61f17f35",
   "metadata": {},
   "outputs": [
    {
     "name": "stdout",
     "output_type": "stream",
     "text": [
      "krushna\n",
      "calling my raised exception ('You have entered a negative value', 'krushna')\n"
     ]
    }
   ],
   "source": [
    "#the below program shows the my error\n",
    "try:\n",
    "    a = input()\n",
    "    test5(a)\n",
    "except Exception as e:\n",
    "    print(\"calling my raised exception\",e)\n"
   ]
  },
  {
   "cell_type": "code",
   "execution_count": 25,
   "id": "3f0a201d",
   "metadata": {},
   "outputs": [
    {
     "name": "stdout",
     "output_type": "stream",
     "text": [
      "dsjkf\n"
     ]
    }
   ],
   "source": [
    "try:\n",
    "    a = input()\n",
    "    test5(a)\n",
    "except Exception as e:\n",
    "    print(\"calling my raised exception\",e)\n",
    "    "
   ]
  },
  {
   "cell_type": "code",
   "execution_count": null,
   "id": "2ab8917d",
   "metadata": {},
   "outputs": [],
   "source": []
  }
 ],
 "metadata": {
  "kernelspec": {
   "display_name": "Python 3 (ipykernel)",
   "language": "python",
   "name": "python3"
  },
  "language_info": {
   "codemirror_mode": {
    "name": "ipython",
    "version": 3
   },
   "file_extension": ".py",
   "mimetype": "text/x-python",
   "name": "python",
   "nbconvert_exporter": "python",
   "pygments_lexer": "ipython3",
   "version": "3.10.7"
  }
 },
 "nbformat": 4,
 "nbformat_minor": 5
}
